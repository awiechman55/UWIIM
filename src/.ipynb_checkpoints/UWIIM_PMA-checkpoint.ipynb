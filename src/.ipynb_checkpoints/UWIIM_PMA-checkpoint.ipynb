{
 "cells": [
  {
   "cell_type": "markdown",
   "id": "98b5fdfc-05c2-4576-bd07-bd07ee3ff3bc",
   "metadata": {
    "jp-MarkdownHeadingCollapsed": true,
    "tags": []
   },
   "source": [
    "# Read Me"
   ]
  },
  {
   "cell_type": "markdown",
   "id": "56f211c6-7625-4752-a0d7-b3c4cbf4e0f9",
   "metadata": {},
   "source": [
    "This published version of the Urban Water Infrastructure Investment Model (UWIIM) contains the code (Julia) used to run the model for a default city (general city with a representative surface and groundwater soure) or the three Phoenix Metropolitan Area (PMA) cities. The UWIIM is a discrete time dynamical systems model with annual time steps. \n",
    "\n",
    "**Section 1** contains the dynamical system definition. Each function is accompanied by markdown equation defintions. For additional explanation, see the Supporting Information from the attached manuscript. All state variables and their dynamic equations are aggregated together in the \"Equations of Motion\" in section 1.4.\n",
    "\n",
    "**Section 2** contains information for how the model is parameterized and initialized, including the setup for the general default city, and PMA city-specific setups. Each setup is defined in terms of a function that takes as its input, alterations to the originally intended parameters and initial conditions (as specified in the Supporting Information document). \n",
    "\n",
    "**Section 3** contains information for how to run the model, including the single function that allows one to run a model instance with a certain defined setup (see Section 2) and receive an output for the given model instance. This output contains a (1) dataframe of all state and multiple auxiliary variables over time, (2) multiple time series plots of the variables in their reduced dimensional form, and (3) multiple time series plots of the variables in their common dimensional form (i.e. AFY)\n",
    "\n",
    "**Section 4** contains example outputs for the default PMA setups. A user can alter the parameter and initial condition settings in the setup function to compare outputs. \n",
    "\n",
    "One notational difference between the code and the manuscript is the reliance on non-dimensional forms of the state variables in the Equations of Motion. The non-dimensional forms allow us to relate all variables to the units of mean inflow (e.g., AFY), carrying capacity, and maximum per-capita annual revenue (\\$/(person*yr)). Those non-dimensional forms are the following: \n",
    "\n",
    "*Demand*: $\\chi_t = \\frac{d_t}{\\mu_t}$\n",
    "\n",
    "*Population*: $p_t = \\frac{P_t}{\\kappa_t}$\n",
    "\n",
    "*Storage Volume*: $\\upsilon_{i,t} = \\frac{V_{i,t}}{\\bar{V}_{i,t}}$\n",
    "\n",
    "*Storage Capacity*: $\\bar{\\upsilon}_{i,t} = \\frac{\\bar{V}_{i,t}}{c^v_{i,t}\\mu_{i,t}}$\n",
    "\n",
    "*Processing Capacity*: $w_{i,t} = \\frac{A^w_{i,t}}{\\bar{V}_{i,t} + \\mu_{i,t}}$\n",
    "\n",
    "*Streamflow*: $q_{i,t} = \\frac{Q_{i,t}}{\\mu_{i,t}}$\n",
    "\n",
    "*Per-Capita Annual Revenue*: $f_t = \\frac{\\hat{\\pi}_t}{\\bar{\\pi}_t}$"
   ]
  },
  {
   "cell_type": "markdown",
   "id": "9f40b45f-a07a-4531-b452-adfe3ee0ba09",
   "metadata": {
    "jp-MarkdownHeadingCollapsed": true,
    "tags": []
   },
   "source": [
    "# Packages Used"
   ]
  },
  {
   "cell_type": "code",
   "execution_count": 1,
   "id": "e90358c2-01cf-4457-9ead-4f605bf96bfa",
   "metadata": {
    "scrolled": true,
    "tags": []
   },
   "outputs": [],
   "source": [
    "using Pkg\n",
    "using Plots; pyplot()\n",
    "using DynamicalSystems\n",
    "using Distributions\n",
    "using DataFrames\n",
    "using ForwardDiff\n",
    "using CSV"
   ]
  },
  {
   "cell_type": "markdown",
   "id": "361a823c-4cb7-453a-9af6-e733980bbcd5",
   "metadata": {
    "jp-MarkdownHeadingCollapsed": true,
    "tags": [],
    "toc-hr-collapsed": true
   },
   "source": [
    "# 1. Model Definition"
   ]
  },
  {
   "cell_type": "markdown",
   "id": "a9511cde-8df6-4327-9817-f2ed5f2a17d4",
   "metadata": {
    "jp-MarkdownHeadingCollapsed": true,
    "tags": [],
    "toc-hr-collapsed": true
   },
   "source": [
    "## 1.1 Definitions of Auxilary Operational System Variables"
   ]
  },
  {
   "cell_type": "markdown",
   "id": "90fe3aee-b423-441f-a5b5-56524e3a6c6a",
   "metadata": {
    "jp-MarkdownHeadingCollapsed": true,
    "tags": []
   },
   "source": [
    "### Mean Inflow"
   ]
  },
  {
   "cell_type": "markdown",
   "id": "ec4ad1a4-5678-494f-b59a-69d949d54707",
   "metadata": {},
   "source": [
    "$\n",
    "\\mu_t = \\mu^s_t + \\mu^g_t\n",
    "$"
   ]
  },
  {
   "cell_type": "code",
   "execution_count": 2,
   "id": "36eb492a-4830-4c72-ac7c-94ac6dd26e31",
   "metadata": {},
   "outputs": [],
   "source": [
    "μ(x,p,t) = x[11]+x[12];"
   ]
  },
  {
   "cell_type": "markdown",
   "id": "105618e1-373e-40f2-9f94-82f89877f7e0",
   "metadata": {
    "jp-MarkdownHeadingCollapsed": true,
    "tags": [],
    "toc-hr-collapsed": true
   },
   "source": [
    "### Streamflow, Inflow "
   ]
  },
  {
   "cell_type": "markdown",
   "id": "6dc86af6-b02f-4b73-985d-481825eb7beb",
   "metadata": {
    "jp-MarkdownHeadingCollapsed": true,
    "tags": []
   },
   "source": [
    "#### Total Inflow (Q)"
   ]
  },
  {
   "cell_type": "markdown",
   "id": "f369bccf-a725-46c9-b965-e9a5897033dc",
   "metadata": {},
   "source": [
    "$\n",
    "q_t = \\frac{Q_t}{\\mu_t}\n",
    "$"
   ]
  },
  {
   "cell_type": "code",
   "execution_count": 3,
   "id": "c9e52cfa-56c7-4c3a-b577-e06e374b926c",
   "metadata": {
    "tags": []
   },
   "outputs": [],
   "source": [
    "function q(x,p,t)\n",
    "    return Q(x,p,t)/μ(x,p,t)\n",
    "end;"
   ]
  },
  {
   "cell_type": "markdown",
   "id": "3b3744b8-a55a-47a4-84bf-5ce25f400818",
   "metadata": {},
   "source": [
    "$\n",
    "Q_t = q^s_t\\mu^s_t + q^g_t\\mu^g_t\n",
    "$"
   ]
  },
  {
   "cell_type": "code",
   "execution_count": 4,
   "id": "1b0e613e-6cfa-45d7-b86f-3d4dd48fcc5d",
   "metadata": {},
   "outputs": [],
   "source": [
    "function Q(x,p,t)\n",
    "    return Q_s(x,p,t) + Q_g(x,p,t)\n",
    "end;"
   ]
  },
  {
   "cell_type": "markdown",
   "id": "4f7a2afc-610d-4a47-a723-41f293d13544",
   "metadata": {},
   "source": [
    "$\n",
    "Q^s_t = q^s_t \\mu^s_t\n",
    "$"
   ]
  },
  {
   "cell_type": "code",
   "execution_count": 5,
   "id": "7e34c068-c0eb-4433-8b7a-b0e759e8afce",
   "metadata": {},
   "outputs": [],
   "source": [
    "function Q_s(x,p,t)\n",
    "    return x[9]*x[11]\n",
    "end;"
   ]
  },
  {
   "cell_type": "markdown",
   "id": "2558ae79-3850-4895-8ce4-b467c13b0043",
   "metadata": {},
   "source": [
    "$\n",
    "Q^g_t = q^g_t \\mu^g_t\n",
    "$"
   ]
  },
  {
   "cell_type": "code",
   "execution_count": 6,
   "id": "48888456-00c3-43bd-9b51-8a5ba6f09936",
   "metadata": {},
   "outputs": [],
   "source": [
    "function Q_g(x,p,t)\n",
    "    return x[10]*x[12]\n",
    "end;"
   ]
  },
  {
   "cell_type": "markdown",
   "id": "35bc0aef-5a4b-48cd-8879-f6f892cf2e13",
   "metadata": {
    "tags": []
   },
   "source": [
    "#### Available Inflows ($Q^a$)"
   ]
  },
  {
   "cell_type": "markdown",
   "id": "23ceb24d-617e-4074-b321-79193ef06414",
   "metadata": {
    "jp-MarkdownHeadingCollapsed": true,
    "tags": []
   },
   "source": [
    "##### Surface Available Inflows ($Q^{a,s}$)"
   ]
  },
  {
   "cell_type": "markdown",
   "id": "1e6dbd5a-a482-4824-9ea1-33d0dbecaf66",
   "metadata": {},
   "source": [
    "$\n",
    "Q^{a,s} = \\begin{cases}\n",
    "Q^{a,SRP} + Q^{a,CAP} & \\text{if} \\quad cases = 1 \\\\\n",
    "a^{s,q}Q^s_t & \\text{otherwise}\n",
    "\\end{cases} \n",
    "$"
   ]
  },
  {
   "cell_type": "code",
   "execution_count": 7,
   "id": "69d37ef5-6624-4cb6-89e8-49147af10e40",
   "metadata": {},
   "outputs": [],
   "source": [
    "function Q_a_s(x,p,t) \n",
    "    if(p[24]==1)\n",
    "        return Q_a_SRP(x,p,t) + Q_a_CAP(x,p,t)\n",
    "    else\n",
    "        return p[13][4]*Q_s(x,p,t)\n",
    "    end\n",
    "end;"
   ]
  },
  {
   "cell_type": "markdown",
   "id": "2f3aa6af-1f5d-46a3-873a-dc711ea15a52",
   "metadata": {
    "jp-MarkdownHeadingCollapsed": true,
    "tags": []
   },
   "source": [
    "##### CAP and SRP Available Inflows ($Q^{a,CAP}$ & $Q^{a,SRP}$)"
   ]
  },
  {
   "cell_type": "markdown",
   "id": "a587c460-b68f-4e93-a5c9-e056188a2032",
   "metadata": {},
   "source": [
    "$\n",
    "\\tilde{Q}^{CAP,L}_t = max(0,70022-(\\bar{\\mu}_2 - (Q^s_t - \\mu_1)))\n",
    "$\n",
    "\n",
    "$\n",
    "\\tilde{Q}^{CAP,H}_t = (Q^s_t - \\mu_1) - \\tilde{Q}^{CAP,L}_t\n",
    "$\n",
    "\n",
    "$\n",
    "\\tilde{Q}^{CAP}_t = a^{q,2H}\\tilde{Q}^{CAP,H}_t + a^{q,2L}\\tilde{Q}^{CAP,L}_t\n",
    "$"
   ]
  },
  {
   "cell_type": "code",
   "execution_count": 8,
   "id": "6f9982b7-7ea9-4442-a2e6-305f180bbba3",
   "metadata": {},
   "outputs": [],
   "source": [
    "function Q_a_CAP(x,p,t)\n",
    "    Q_CAP = Q_s(x,p,t) - p[1][3]\n",
    "    short = p[1][4] - Q_CAP\n",
    "    NIA_avail = max(0,70022-short)\n",
    "    high_avail = Q_CAP - NIA_avail\n",
    "    \n",
    "    return p[13][6]*NIA_avail + p[13][7]*high_avail\n",
    "end;"
   ]
  },
  {
   "cell_type": "markdown",
   "id": "552d3113-6073-4262-8749-716ccb015d0a",
   "metadata": {},
   "source": [
    "$\n",
    "\\tilde{Q}^{SRP}_t = min(\\mu_1a^{q,1}, \\frac{D_t}{\\eta_t} \\xi_1 + \\mu_1 a^{q,NG})\n",
    "$"
   ]
  },
  {
   "cell_type": "code",
   "execution_count": 9,
   "id": "a2dd6083-4823-4cd4-9991-9f86b6d27c16",
   "metadata": {},
   "outputs": [],
   "source": [
    "function Q_a_SRP(x,p,t)\n",
    "    max_prop_use = (D_bar(x,p,t)/x[15])*p[27][2]\n",
    "    NG = p[13][8]*p[1][3]\n",
    "    max_allocation = p[1][3]*p[13][4]\n",
    "    \n",
    "    return min(max_allocation, max_prop_use + NG)  \n",
    "end;"
   ]
  },
  {
   "cell_type": "markdown",
   "id": "c8517fcb-6658-46a1-b0c8-2069a9983475",
   "metadata": {
    "jp-MarkdownHeadingCollapsed": true,
    "tags": []
   },
   "source": [
    "##### Groundwater Available Inflows"
   ]
  },
  {
   "cell_type": "markdown",
   "id": "154299c9-09ce-4e71-bdd5-18924fedce47",
   "metadata": {},
   "source": [
    "$\n",
    "Q^{a,g} = a^{g,q}Q^g_t\n",
    "$"
   ]
  },
  {
   "cell_type": "code",
   "execution_count": 10,
   "id": "158f7dde-8dd8-4489-88c8-61b83ce519ff",
   "metadata": {},
   "outputs": [],
   "source": [
    "Q_a_g(x,p,t) = p[13][2]*Q_g(x,p,t);"
   ]
  },
  {
   "cell_type": "markdown",
   "id": "0538e35c-34fc-4052-ac06-5f2254fac761",
   "metadata": {
    "jp-MarkdownHeadingCollapsed": true,
    "tags": []
   },
   "source": [
    "##### Total Available Inflows"
   ]
  },
  {
   "cell_type": "markdown",
   "id": "d1937c89-3224-41c2-91e7-e167d7214553",
   "metadata": {},
   "source": [
    "$\n",
    "\\tilde{Q}_t = a^q Q_t\n",
    "$"
   ]
  },
  {
   "cell_type": "code",
   "execution_count": 11,
   "id": "3903e2e7-f090-4fdb-b209-d0d310c7c93e",
   "metadata": {},
   "outputs": [],
   "source": [
    "Q_a(x,p,t) = Q_a_s(x,p,t) + Q_a_g(x,p,t);"
   ]
  },
  {
   "cell_type": "markdown",
   "id": "7202e855-0da5-4407-a119-81967678dd7f",
   "metadata": {},
   "source": [
    "$\n",
    "q^a_t = \\frac{\\tilde{Q}_t}{\\mu_t}\n",
    "$"
   ]
  },
  {
   "cell_type": "code",
   "execution_count": 12,
   "id": "2da83ce2-bc17-4283-a3c8-ce3a80ab2922",
   "metadata": {},
   "outputs": [],
   "source": [
    "q_a(x,p,t) = Q_a(x,p,t)/μ(x,p,t);"
   ]
  },
  {
   "cell_type": "markdown",
   "id": "b4e94a73-0f2b-4080-b3c5-4d09ab4e2cc4",
   "metadata": {
    "jp-MarkdownHeadingCollapsed": true,
    "tags": []
   },
   "source": [
    "### Population"
   ]
  },
  {
   "cell_type": "markdown",
   "id": "521efc9d-a4ef-4596-8e2d-98832fb0d7f5",
   "metadata": {
    "jp-MarkdownHeadingCollapsed": true,
    "tags": []
   },
   "source": [
    "#### Total Population (P)\n",
    "\n",
    "$\n",
    "P_t = p_t \\kappa \n",
    "$"
   ]
  },
  {
   "cell_type": "code",
   "execution_count": 13,
   "id": "3258b388-994a-444a-a40a-adfba6b583dd",
   "metadata": {},
   "outputs": [],
   "source": [
    "P(x,p,t) = x[1]*p[5];"
   ]
  },
  {
   "cell_type": "markdown",
   "id": "4068eb99-98f3-4bfe-961e-b28b120faf05",
   "metadata": {
    "jp-MarkdownHeadingCollapsed": true,
    "tags": []
   },
   "source": [
    "#### Projected Population ($P^{proj}$)\n",
    "\n",
    "*For Long-Term Investment Controller if Projection Setting is Turned On\n",
    "\n",
    "$\n",
    "P^{proj}_t = \\frac{K_t}{\\frac{K_t-P_t}{P_t}exp(-r\\tau_p) + 1}\n",
    "$"
   ]
  },
  {
   "cell_type": "code",
   "execution_count": 14,
   "id": "ca6a245e-2bff-44c2-b514-d62a940cf886",
   "metadata": {},
   "outputs": [],
   "source": [
    "function P_proj(x,p,t) #project population out τ_p years\n",
    "    P_t = P(x,p,t) #current population \n",
    "    κ = copy(p[5]) #Assume same carrying capacity .\n",
    "    \n",
    "    return κ/(((κ-P_t)/P_t)*exp(-p[6]*p[29]) + 1)\n",
    "end;"
   ]
  },
  {
   "cell_type": "code",
   "execution_count": 15,
   "id": "bc59731c-6c3b-4bf8-85aa-68766dabcb79",
   "metadata": {},
   "outputs": [],
   "source": [
    "function P_proj_1(x,p,t) #only project population out 1 year\n",
    "    P_t = P(x,p,t) #current population \n",
    "    κ = copy(p[5]) #Assume same carrying capacity \n",
    "    \n",
    "    return κ/(((κ-P_t)/P_t)*exp(-p[6]) + 1)\n",
    "end;"
   ]
  },
  {
   "cell_type": "markdown",
   "id": "4997e7ab-76fe-4417-b608-ab7872dfdfda",
   "metadata": {
    "jp-MarkdownHeadingCollapsed": true,
    "tags": []
   },
   "source": [
    "### Demand"
   ]
  },
  {
   "cell_type": "markdown",
   "id": "73b1004a-e5dc-4ba4-b156-1ac405aa7504",
   "metadata": {
    "jp-MarkdownHeadingCollapsed": true,
    "tags": []
   },
   "source": [
    "#### Pre-ST Conservation Demand (D)"
   ]
  },
  {
   "cell_type": "markdown",
   "id": "0f589355-cd9d-401c-9f6f-200bad1865c1",
   "metadata": {},
   "source": [
    "$D_t = d_t P_t = \\chi_t \\mu_t P_t $\n",
    "\n",
    "$\\bar{D}_t = \\bar{d}_t P_t = \\bar{\\chi}_t \\mu_t P_t $"
   ]
  },
  {
   "cell_type": "code",
   "execution_count": 16,
   "id": "af669e73-87d0-4497-869b-ad8412bbe975",
   "metadata": {},
   "outputs": [],
   "source": [
    "D(x,p,t) = x[2]*P(x,p,t)*μ(x,p,t);"
   ]
  },
  {
   "cell_type": "code",
   "execution_count": 17,
   "id": "7c0f2b27-641e-4891-859e-ebcb2a5a2f10",
   "metadata": {},
   "outputs": [],
   "source": [
    "D_bar(x,p,t) = x[16]*P(x,p,t)*μ(x,p,t);"
   ]
  },
  {
   "cell_type": "markdown",
   "id": "1cc028fc-532a-45d1-b945-078228b43df3",
   "metadata": {
    "jp-MarkdownHeadingCollapsed": true,
    "tags": []
   },
   "source": [
    "#### Post-ST Conservation Demand ($D^{ST}$)"
   ]
  },
  {
   "cell_type": "markdown",
   "id": "93127c9d-2b5a-4883-9449-81e00faa294a",
   "metadata": {},
   "source": [
    "$\n",
    "d^{ST}_t = (\\chi_t - H^d_t)\\mu_t\n",
    "$\n",
    "\n",
    "*Note, $H^d_t$ is given in units of $\\chi$ (per capita demand/AFY mean inflow)\n",
    "\n",
    "$\n",
    "D^{ST}_t = d^{ST}_tP_t\n",
    "$"
   ]
  },
  {
   "cell_type": "code",
   "execution_count": 18,
   "id": "bf207f52-13a7-4833-8a88-bc05166d3de3",
   "metadata": {},
   "outputs": [],
   "source": [
    "d_ST(x,p,t) = (x[2]-u_1(x,p,t))*μ(x,p,t);"
   ]
  },
  {
   "cell_type": "code",
   "execution_count": 19,
   "id": "9e4e0956-7d57-4904-93ce-d49bcee544f2",
   "metadata": {},
   "outputs": [],
   "source": [
    "D_ST(x,p,t) = d_ST(x,p,t)*P(x,p,t);"
   ]
  },
  {
   "cell_type": "markdown",
   "id": "5c2283e1-6ecf-4850-baed-6eeeef61d90a",
   "metadata": {
    "jp-MarkdownHeadingCollapsed": true,
    "tags": []
   },
   "source": [
    "#### Projected Demand ($D^{proj}$)"
   ]
  },
  {
   "cell_type": "markdown",
   "id": "1fdc2e8e-57b4-4d91-b728-e0ce008c2aa3",
   "metadata": {},
   "source": [
    "$\n",
    "\\hat{D}_t = \\hat{P}_t \\bar{d}_t \\left(1-\\delta^{\\bar{d}}\\right)^{\\tau^{\\bar{d}}_p} = \\hat{P}_t \\bar{\\chi}_t \\mu_t \\left(1-\\delta^{\\bar{d}}\\right)^{\\tau^{\\bar{d}}_p}\n",
    "$"
   ]
  },
  {
   "cell_type": "code",
   "execution_count": 20,
   "id": "659dd7b3-df56-4cda-a18b-3095b9857d0a",
   "metadata": {},
   "outputs": [],
   "source": [
    "D_proj(x,p,t) = P_proj(x,p,t)*x[16]*μ(x,p,t)*(1-p[15][2])^p[29]; #projects demand for τ_p years"
   ]
  },
  {
   "cell_type": "code",
   "execution_count": 21,
   "id": "e87c3dff-af0d-4726-8c01-ca32970d35f1",
   "metadata": {},
   "outputs": [],
   "source": [
    "D_proj_1(x,p,t) = P_proj_1(x,p,t)*x[16]*μ(x,p,t)*(1-p[15][2]); #only projects demand for 1 year"
   ]
  },
  {
   "cell_type": "markdown",
   "id": "f78cc07e-001a-45e6-803d-c7bb6542f24e",
   "metadata": {
    "jp-MarkdownHeadingCollapsed": true,
    "tags": []
   },
   "source": [
    "### Storage"
   ]
  },
  {
   "cell_type": "markdown",
   "id": "46597203-25d9-4cae-80e4-6cb3e0c08311",
   "metadata": {
    "jp-MarkdownHeadingCollapsed": true,
    "tags": []
   },
   "source": [
    "#### Storage Capacity ($\\bar{V}$)"
   ]
  },
  {
   "cell_type": "markdown",
   "id": "aff5d822-a4e4-4049-8a1f-b78016dd44de",
   "metadata": {},
   "source": [
    "$\n",
    "\\bar{V}_t = \\bar{\\upsilon}_t c^v_{t} \\mu_t\n",
    "$"
   ]
  },
  {
   "cell_type": "code",
   "execution_count": 22,
   "id": "b3e01d9e-df0f-4992-8b7d-23015fc10354",
   "metadata": {},
   "outputs": [],
   "source": [
    "Vbar_s(x,p,t) = x[5]*x[13]*x[11];"
   ]
  },
  {
   "cell_type": "code",
   "execution_count": 23,
   "id": "9fd6a20b-76bf-48eb-967d-6bb26c4f6d8c",
   "metadata": {},
   "outputs": [],
   "source": [
    "Vbar_g(x,p,t) = x[6]*x[14]*x[12];"
   ]
  },
  {
   "cell_type": "markdown",
   "id": "07f7d77e-bd97-4359-882b-b9be9e2d058a",
   "metadata": {
    "jp-MarkdownHeadingCollapsed": true,
    "tags": []
   },
   "source": [
    "#### Volume ($V$)"
   ]
  },
  {
   "cell_type": "markdown",
   "id": "45987551-a464-4d14-a63c-8514889de3b6",
   "metadata": {},
   "source": [
    "$\n",
    "V_t = \\upsilon_t \\bar{V}_t\n",
    "$"
   ]
  },
  {
   "cell_type": "code",
   "execution_count": 24,
   "id": "79004a7e-409d-4616-9214-f8059549b391",
   "metadata": {},
   "outputs": [],
   "source": [
    "V_s(x,p,t) = x[3]*Vbar_s(x,p,t);"
   ]
  },
  {
   "cell_type": "code",
   "execution_count": 25,
   "id": "67363ee4-cb25-40b2-8f70-edbc871227c8",
   "metadata": {},
   "outputs": [],
   "source": [
    "V_g(x,p,t) = x[4]*Vbar_g(x,p,t);"
   ]
  },
  {
   "cell_type": "markdown",
   "id": "dbaf2801-83ca-4f2f-acef-92eef266e13e",
   "metadata": {
    "jp-MarkdownHeadingCollapsed": true,
    "tags": []
   },
   "source": [
    "#### Projected Volume ($\\upsilon_{proj}$)"
   ]
  },
  {
   "cell_type": "markdown",
   "id": "fc0a5785-2318-406a-bea3-bb71b0f1df56",
   "metadata": {
    "jp-MarkdownHeadingCollapsed": true,
    "tags": []
   },
   "source": [
    "##### Project Surface Water Volume ($\\upsilon^{proj,s}$)\n",
    "\n",
    "Assume no change in surface storage volume over projection period. Note, the PMA cases have near zero surface storage capacity."
   ]
  },
  {
   "cell_type": "code",
   "execution_count": 26,
   "id": "e156e401-2ae1-4dec-9c2f-d17088411065",
   "metadata": {},
   "outputs": [],
   "source": [
    "function υ_proj_s(x,p,t)\n",
    "    return x[3]\n",
    "end;"
   ]
  },
  {
   "cell_type": "markdown",
   "id": "158b9d14-c5ca-423a-9d7e-2a3366d42687",
   "metadata": {
    "jp-MarkdownHeadingCollapsed": true,
    "tags": []
   },
   "source": [
    "##### Project Groundwater Volume ($\\upsilon^{proj,g}$) & Delivery Efficiency ($\\eta^{proj}$)\n",
    "\n",
    "We project groundwater volume together with delivery efficiency for computational efficiency because the delivery efficiency in each year updates based on available water, which is a function of groundwater storage volume.\n",
    "\n",
    "The projection process follows the steps outlined in the Supporting Information"
   ]
  },
  {
   "cell_type": "code",
   "execution_count": 27,
   "id": "788220a2-69cc-4bdf-9862-41bbfb2008b2",
   "metadata": {},
   "outputs": [],
   "source": [
    "function υ_and_η_proj_g(x,p,t)\n",
    "    #Note Current State\n",
    "    A_l_s_now = A_l_s(x,p,t)\n",
    "    Inflow = Q_a_g(x,p,t) + Q_b(x,p,t)\n",
    "    \n",
    "    #Define variables to hold updated outflows, availability, and delivery efficiency\n",
    "    A_next = A(x,p,t)\n",
    "    O_g_next = O_g(x,p,t)\n",
    "    O_g_prev = copy(O_g_next)\n",
    "    O_proj = 0\n",
    "    η_now = copy(x[15])\n",
    "    η_prev = copy(x[15])\n",
    "    η_next = copy(x[15])\n",
    "    new_SW = 0\n",
    "    new_SW_prev = 0\n",
    "    O_s_add_next = 0\n",
    "    O_s_add_prev = 0\n",
    "    A_w_s_now = A_w_s(x,p,t)\n",
    "    A_w_s_prev = copy(A_w_s_now)\n",
    "    A_w_s_next = copy(A_w_s_now)\n",
    "    A_prev=0\n",
    "    \n",
    "    if(p[29]>0)\n",
    "        #Number of investments that can be implemented in the projection period\n",
    "        possibleInvests_η = floor(Int,min(p[29],p[16][2]-1)) \n",
    "        possibleInvests_w_s = floor(Int,min(p[29],p[16][4]-1)) \n",
    "        \n",
    "        #Loop for Each Projection Year and Calculate Projected Groundwater Use\n",
    "        for y in 1:p[29]\n",
    "            #0: Add Groundwater Use to Sum\n",
    "            O_proj += O_g_next\n",
    "            \n",
    "            #1: New Surface Water Processing Availability\n",
    "            A_w_s_prev = copy(A_w_s_next)\n",
    "            if(possibleInvests_w_s>0)\n",
    "                A_w_s_next += x[plan_index_k(x,p,t)[4]+(y-1)]\n",
    "                possibleInvests_w_s -= 1\n",
    "            end\n",
    "            \n",
    "            #2: New Surface Water Availability\n",
    "            new_SW_prev = copy(new_SW)\n",
    "            O_s_add_prev = copy(O_s_add_next)\n",
    "            if(A_l_s_now>=A_w_s_next)\n",
    "                new_SW = A_w_s_next - A_w_s_prev\n",
    "            else\n",
    "                new_SW=0\n",
    "            end\n",
    "            O_s_add_next += new_SW\n",
    "            \n",
    "            #3: New Total Availability\n",
    "            A_prev = copy(A_next)\n",
    "            A_next += Inflow - O_g_next + new_SW\n",
    "            \n",
    "            #4: New Delivery Efficiency\n",
    "            η_prev = copy(η_next)\n",
    "            \n",
    "            if(possibleInvests_η>0)\n",
    "                u_impl_η=x[plan_index_k(x,p,t)[2]+(y-1)]\n",
    "                η_next = η_prev + (u_impl_η/A_prev) \n",
    "                possibleInvests_η -= 1\n",
    "                \n",
    "                η_next = ifelse(η_next>p[11],p[11],η_next)\n",
    "            else\n",
    "                η_next = copy(η_prev)\n",
    "            end\n",
    "            \n",
    "            #5: New Groundwater Use\n",
    "            O_g_prev = copy(O_g_next)\n",
    "            O_g_next = (η_prev/η_next)*(O_g_prev + O_s_add_prev) - O_s_add_next\n",
    "        end\n",
    "        \n",
    "        υ_proj_t=max(100*p[13][2]*p[1][2],(V_g(x,p,t) + Inflow*p[29] - O_proj))/Vbar_g(x,p,t)\n",
    "        η_proj_t=η_next\n",
    "        return [υ_proj_t η_proj_t]\n",
    "    else\n",
    "        return [x[4] x[15]]\n",
    "    end\n",
    "end;"
   ]
  },
  {
   "cell_type": "markdown",
   "id": "61a1b4c9-b1d0-4f33-a364-94372a140149",
   "metadata": {
    "jp-MarkdownHeadingCollapsed": true,
    "tags": []
   },
   "source": [
    "### Available Water"
   ]
  },
  {
   "cell_type": "markdown",
   "id": "5f55223e-7025-4412-82d3-4b11c4481890",
   "metadata": {
    "jp-MarkdownHeadingCollapsed": true,
    "tags": []
   },
   "source": [
    "#### Total Available ($A$)"
   ]
  },
  {
   "cell_type": "markdown",
   "id": "67ccdacd-e450-4da8-a4d8-2764baeec53e",
   "metadata": {},
   "source": [
    "$\n",
    "A_t = A^s_t + A^g_t\n",
    "$"
   ]
  },
  {
   "cell_type": "code",
   "execution_count": 28,
   "id": "4da45c62-02fa-4530-a964-467b3b989e29",
   "metadata": {},
   "outputs": [],
   "source": [
    "A(x,p,t) = A_s(x,p,t) + A_g(x,p,t);"
   ]
  },
  {
   "cell_type": "markdown",
   "id": "719fb261-29ce-4e06-8ee7-d409f5a6c83e",
   "metadata": {
    "jp-MarkdownHeadingCollapsed": true,
    "tags": []
   },
   "source": [
    "#### Available by Types of Sources"
   ]
  },
  {
   "cell_type": "markdown",
   "id": "ac2a8fa3-563b-461d-bc74-8c438c829b60",
   "metadata": {},
   "source": [
    "Surface Water Availability\n",
    "\n",
    "$\n",
    "A^s_t = min(A^{l,s}_t + A^{T,s}_t)\n",
    "$"
   ]
  },
  {
   "cell_type": "code",
   "execution_count": 29,
   "id": "0c8ec28c-f152-41f8-8006-1bc2fbe7572b",
   "metadata": {},
   "outputs": [],
   "source": [
    "A_s(x,p,t) = min(A_l_s(x,p,t), A_w_s(x,p,t));"
   ]
  },
  {
   "cell_type": "markdown",
   "id": "17ac0825-cad9-43a8-b5fd-fd7d36bb36e2",
   "metadata": {},
   "source": [
    "Groundwater Availability\n",
    "\n",
    "$\n",
    "A^g_t = min( A^{l,g}_t + A^{T,g}_t)\n",
    "$"
   ]
  },
  {
   "cell_type": "code",
   "execution_count": 30,
   "id": "37f83c76-a40b-4856-9404-9daac129e80a",
   "metadata": {},
   "outputs": [],
   "source": [
    "A_g(x,p,t) = min(A_l_g(x,p,t), A_w_g(x,p,t));"
   ]
  },
  {
   "cell_type": "markdown",
   "id": "e4c8fbe2-5fcd-4743-a110-865aab949048",
   "metadata": {
    "jp-MarkdownHeadingCollapsed": true,
    "tags": []
   },
   "source": [
    "#### Legally Available Volume for Withdrawal ($A^l$)"
   ]
  },
  {
   "cell_type": "markdown",
   "id": "9b03acbb-a4ee-44b5-877b-052444f32705",
   "metadata": {},
   "source": [
    "How much of the physically present water is the system legally entitled to use. Determined by a proportion of physically available volume (proportional allocation).\n",
    "\n",
    "$\n",
    "A^{l,s}_t = \\tilde{Q}^s_t + a^{s,v}V^s_t\n",
    "$\n",
    "\n",
    "$\n",
    "A^{l,g}_t = a^{g,v}V^g_t + a^{s,q}Q^g_t\n",
    "$\n",
    "\n",
    "For Phoenix case, available $V^g_t$ is determined after subtracting the 100 year safe-yield allowance ($100a^{q,g}Q^g_t$) from $V^g_t$ to determine the available surplus credits. If $\\beta^c=1$ (cheating safe-yield), the city can use all of $V^g_t$."
   ]
  },
  {
   "cell_type": "code",
   "execution_count": 31,
   "id": "0370fcba-3266-47c5-bd56-3e670a57e912",
   "metadata": {},
   "outputs": [],
   "source": [
    "function A_l_s(x,p,t)\n",
    "    Q_a = Q_a_s(x,p,t)\n",
    "    \n",
    "    return Q_a + p[13][3]*V_s(x,p,t)\n",
    "end;"
   ]
  },
  {
   "cell_type": "code",
   "execution_count": 32,
   "id": "db554a22-410f-436f-8c59-e5babf670db5",
   "metadata": {},
   "outputs": [],
   "source": [
    "function A_l_g(x,p,t) \n",
    "    #Available Groundwater From Stored Water\n",
    "    if(p[24]==1) #Phoenix Metro Area Case\n",
    "        A_l_g_v = p[13][1]*max(0,V_g(x,p,t)-p[13][2]*p[1][2]*100) ##only count available V if above 100-yr SY amount \n",
    "    else\n",
    "        A_l_g_v = p[13][1]*V_g(x,p,t)\n",
    "    end\n",
    "    \n",
    "    #Available Groundwater From Annual Inflow\n",
    "    A_l_g_q = p[13][2]*Q_g(x,p,t);\n",
    "    \n",
    "    return A_l_g_v + A_l_g_q\n",
    "end;"
   ]
  },
  {
   "cell_type": "markdown",
   "id": "605abb1a-03f3-4364-8a57-767bfd57dbcc",
   "metadata": {
    "jp-MarkdownHeadingCollapsed": true,
    "tags": []
   },
   "source": [
    "#### Technically Available Volume for Withdrawal ($A^w$)"
   ]
  },
  {
   "cell_type": "markdown",
   "id": "778b2eee-d3e4-4068-8c96-448333bd588d",
   "metadata": {},
   "source": [
    "The technological limit is steered by processing capacity (i.e., treatment, pumping, etc.). This specifies the limit to what the system can process from its physical inflow. \n",
    "\n",
    "$\n",
    "A^w_t = w_t (\\bar{V} + \\mu_t)\n",
    "$"
   ]
  },
  {
   "cell_type": "code",
   "execution_count": 33,
   "id": "5d75800d-cbcf-4a77-9ff6-a624e2bddc4d",
   "metadata": {},
   "outputs": [],
   "source": [
    "A_w_s(x,p,t) = x[7]*(Vbar_s(x,p,t) + x[11]);"
   ]
  },
  {
   "cell_type": "code",
   "execution_count": 34,
   "id": "b226bd96-1190-471e-9cf1-68d38e66e5eb",
   "metadata": {},
   "outputs": [],
   "source": [
    "A_w_g(x,p,t) = x[8]*(Vbar_g(x,p,t) + x[12]);"
   ]
  },
  {
   "cell_type": "markdown",
   "id": "9159e0db-100e-45d7-86b8-bad2c4176703",
   "metadata": {
    "jp-MarkdownHeadingCollapsed": true,
    "tags": []
   },
   "source": [
    "##### Maximum Processing Capacity ($\\bar{w}$) "
   ]
  },
  {
   "cell_type": "markdown",
   "id": "a4d795ba-238b-489c-9dd3-b2515975df62",
   "metadata": {},
   "source": [
    "$\n",
    "\\bar{w}_{i,t} = \\frac{A^l_{i,t}}{\\mu_{i,t} + \\bar{V}_{i,t}}\n",
    "$"
   ]
  },
  {
   "cell_type": "code",
   "execution_count": 35,
   "id": "2b5a84ea-4f4c-47db-8add-877ddf918929",
   "metadata": {},
   "outputs": [],
   "source": [
    "function w_max_s(x,p,t)\n",
    "    W_max_s = A_l_s(x,p,t)\n",
    "        \n",
    "    return W_max_s/(x[11] + Vbar_s(x,p,t))\n",
    "end;"
   ]
  },
  {
   "cell_type": "code",
   "execution_count": 36,
   "id": "0fa76ac8-e29e-4600-a36c-ac260c19d977",
   "metadata": {},
   "outputs": [],
   "source": [
    "function w_max_g(x,p,t)\n",
    "    A_l_g_t = A_l_g(x,p,t)\n",
    "    w_max_g = (A_l_g_t)/(Vbar_g(x,p,t)+x[12]) #(taken out) 1.6 accounts for the desire to have surplus capacity for peak intrannual demands\n",
    "    \n",
    "    return w_max_g\n",
    "end;"
   ]
  },
  {
   "cell_type": "markdown",
   "id": "5b1556e5-239e-4fd6-8c22-497423157e3f",
   "metadata": {
    "tags": []
   },
   "source": [
    "#### Projected Available Volume ($A^{proj}$)"
   ]
  },
  {
   "cell_type": "markdown",
   "id": "c8d5ab08-95b1-4c37-abb2-417aa5c1251b",
   "metadata": {
    "jp-MarkdownHeadingCollapsed": true,
    "tags": []
   },
   "source": [
    "##### Projected Infrastructure States"
   ]
  },
  {
   "cell_type": "code",
   "execution_count": 37,
   "id": "3c44786b-59c5-480b-b146-269e18cccafc",
   "metadata": {},
   "outputs": [],
   "source": [
    "##this function identifies the index of the state variable vector (x) associated with planned investments for each infrastructure type k\n",
    "function plan_index_k(x,p,t)\n",
    "    index_k = zeros(7)\n",
    "    counter = 19\n",
    "    \n",
    "    for k in 1:7\n",
    "        if(p[16][k]>1)\n",
    "            index_k[k] = copy(counter)\n",
    "            counter+=p[16][k]-1\n",
    "        end\n",
    "    end\n",
    "    \n",
    "    return floor.(Int,index_k)\n",
    "end;"
   ]
  },
  {
   "cell_type": "markdown",
   "id": "4239b1d2-97ed-49bc-8586-df69fd930960",
   "metadata": {
    "jp-MarkdownHeadingCollapsed": true,
    "tags": []
   },
   "source": [
    "##### Projected Delivery Efficiency ($\\eta^{proj}$)"
   ]
  },
  {
   "cell_type": "code",
   "execution_count": 38,
   "id": "0e653292-9747-4090-b466-abc57ef35aa6",
   "metadata": {},
   "outputs": [],
   "source": [
    "function η_proj(x,p,t)\n",
    "    return υ_and_η_proj_g(x,p,t)[2]\n",
    "end;"
   ]
  },
  {
   "cell_type": "markdown",
   "id": "65cf04db-e3a2-4743-adfd-b1361b7866c5",
   "metadata": {
    "jp-MarkdownHeadingCollapsed": true,
    "tags": []
   },
   "source": [
    "##### Projected Storage Capacity ($\\bar{V}^{proj}$)"
   ]
  },
  {
   "cell_type": "code",
   "execution_count": 39,
   "id": "3937e91f-52b3-4a94-9355-ce6a44e58bc7",
   "metadata": {},
   "outputs": [],
   "source": [
    "function Vbar_proj_s(x,p,t)\n",
    "    Vbar_t = Vbar_s(x,p,t)\n",
    "    \n",
    "    ##Determine the number of planned investments that will be implemented by the end of the projection period\n",
    "    if(p[29]==0) #no projection (τ_p = 0)\n",
    "        return Vbar_t\n",
    "    elseif(p[16][3]==1) #immediate implementation (τ_i = 1)\n",
    "        return Vbar_t\n",
    "    else\n",
    "        possibleInvests = floor(Int,min(p[29],p[16][3]-1)) #calculates the number of possible stored investments that need to be taken into account in the projection\n",
    "        if(possibleInvests==1)#if only implement 1 planned investment\n",
    "            return Vbar_t + x[plan_index_k(x,p,t)[3]]\n",
    "        else\n",
    "            return Vbar_t + sum(x[plan_index_k(x,p,t)[3]:(plan_index_k(x,p,t)[3]+possibleInvests-1)])\n",
    "        end\n",
    "    end\n",
    "end;\n",
    "\n",
    "function υbar_proj_s(x,p,t) #convert the projected surface storage capacity to υ non-dimensional units\n",
    "    return Vbar_proj_s(x,p,t)/(x[13]*x[11])\n",
    "end;"
   ]
  },
  {
   "cell_type": "markdown",
   "id": "91b74792-64f8-4ec1-bd5d-b8abbd8df24c",
   "metadata": {
    "jp-MarkdownHeadingCollapsed": true,
    "tags": []
   },
   "source": [
    "##### Projected Processing Capacity ($w^{proj}$)"
   ]
  },
  {
   "cell_type": "code",
   "execution_count": 40,
   "id": "540e38e3-d783-40a4-bd4f-87d28757885f",
   "metadata": {},
   "outputs": [],
   "source": [
    "function w_proj_s(x,p,t)\n",
    "    Vbar_t = Vbar_s(x,p,t)\n",
    "    Vbar_proj_t = Vbar_proj_s(x,p,t)\n",
    "    μ_t = copy(x[11])\n",
    "    μ_proj_t = μ_t\n",
    "    A_w_t = (x[7]*(Vbar_t+μ_t))\n",
    "    \n",
    "    ##Determine the number of planned investments that will be implemented by the end of the projection period\n",
    "    if(p[29]==0) #no projection (τ_p = 0)\n",
    "        return x[7]\n",
    "    elseif(p[16][4]==1) #immediate implementation (τ_i = 1)\n",
    "        return A_w_t/(Vbar_proj_t + μ_proj_t)\n",
    "    else\n",
    "        possibleInvests = floor(Int,min(p[29],p[16][4]-1)) #calculates the number of possible stored investments that need to be taken into account in the projection\n",
    "        if(possibleInvests==1)#only implement 1 planned investment\n",
    "            return (A_w_t + x[plan_index_k(x,p,t)[4]])/(Vbar_proj_t + μ_proj_t)\n",
    "        else\n",
    "            return (A_w_t + sum(x[plan_index_k(x,p,t)[4]:(plan_index_k(x,p,t)[4]+possibleInvests-1)]))/(Vbar_proj_t + μ_proj_t)\n",
    "        end\n",
    "    end\n",
    "end;\n",
    "\n",
    "function w_proj_g(x,p,t)\n",
    "    Vbar_t = Vbar_g(x,p,t)\n",
    "    Vbar_proj_t = Vbar_t\n",
    "    μ_t = copy(x[12])\n",
    "    μ_proj_t = μ_t\n",
    "    A_w_t = (x[8]*(Vbar_t+μ_t))\n",
    "    \n",
    "    ##Determine the number of planned investments that will be implemented by the end of the projection period\n",
    "    if(p[29]==0) #no projection (τ_p = 0)\n",
    "        return x[8]\n",
    "    elseif(p[16][5]==1) #immediate implementation (τ_i = 1)\n",
    "        return A_w_t/(Vbar_proj_t + μ_proj_t)\n",
    "    else\n",
    "        possibleInvests = floor(Int,min(p[29],p[16][5]-1))  #calculates the number of possible stored investments that need to be taken into account in the projection\n",
    "        if(possibleInvests==1)#only implement 1 planned investment\n",
    "            return (A_w_t + x[plan_index_k(x,p,t)[5]])/(Vbar_proj_t + μ_proj_t)\n",
    "        else\n",
    "            return (A_w_t + sum(x[plan_index_k(x,p,t)[5]:(plan_index_k(x,p,t)[5]+possibleInvests-1)]))/(Vbar_proj_t + μ_proj_t)\n",
    "        end\n",
    "    end\n",
    "end;"
   ]
  },
  {
   "cell_type": "code",
   "execution_count": 41,
   "id": "f03604a1-1b34-44dd-9a05-2c5d310440f0",
   "metadata": {},
   "outputs": [],
   "source": [
    "function w_max_g_proj(x,p,t)\n",
    "    A_l_g_t = A_proj_l_g(x,p,t)\n",
    "    w_max_g = (A_l_g_t)/(Vbar_g(x,p,t)+x[12]) \n",
    "    \n",
    "    return w_max_g\n",
    "end;"
   ]
  },
  {
   "cell_type": "markdown",
   "id": "6ae65f87-ef82-4ded-be82-870774107063",
   "metadata": {
    "jp-MarkdownHeadingCollapsed": true,
    "tags": []
   },
   "source": [
    "##### Total Projected Available Volume ($A^{proj}$)"
   ]
  },
  {
   "cell_type": "markdown",
   "id": "41193b7b-2fdd-4590-ad75-2627000b7456",
   "metadata": {},
   "source": [
    "Same format as $A_t$ but need to project $\\upsilon$. Assume available purchased water remains the same. \n",
    "\n",
    "$\n",
    "A^{proj}_t = min(A^{l,proj}_t, A^{w,proj}_t)\n",
    "$"
   ]
  },
  {
   "cell_type": "code",
   "execution_count": 42,
   "id": "b8154567-d488-435b-847c-587a4fc6f62a",
   "metadata": {},
   "outputs": [],
   "source": [
    "A_proj(x,p,t) = A_proj_s(x,p,t) + A_proj_g(x,p,t);"
   ]
  },
  {
   "cell_type": "code",
   "execution_count": 43,
   "id": "facb60ce-22dd-4723-b799-dc9f19670167",
   "metadata": {},
   "outputs": [],
   "source": [
    "A_proj_s(x,p,t) = min(A_proj_l_s(x,p,t), A_proj_w_s(x,p,t));"
   ]
  },
  {
   "cell_type": "code",
   "execution_count": 44,
   "id": "7d1fb076-2028-4b08-a994-bbf1a6ee867f",
   "metadata": {},
   "outputs": [],
   "source": [
    "A_proj_g(x,p,t) = min(A_proj_l_g(x,p,t), A_proj_w_g(x,p,t));"
   ]
  },
  {
   "cell_type": "markdown",
   "id": "949b1462-ef06-4279-b94e-085a002a1440",
   "metadata": {
    "jp-MarkdownHeadingCollapsed": true,
    "tags": []
   },
   "source": [
    "##### Projected Legally Available Volume ($A^{proj,l}$)"
   ]
  },
  {
   "cell_type": "markdown",
   "id": "2225a091-c3d7-4c8a-9120-8d2c4fa32cb8",
   "metadata": {},
   "source": [
    "Follows the same algorithm as the actual legal availability assuming that planned investments are implemented, the projected groundwater volume, and the same mean inflow"
   ]
  },
  {
   "cell_type": "code",
   "execution_count": 45,
   "id": "99486cc2-78c7-4e7d-b105-a1e766fe930a",
   "metadata": {},
   "outputs": [],
   "source": [
    "function A_proj_l_s(x,p,t) \n",
    "    #Available Surface Water from Storage\n",
    "    A_proj_l_sv = p[13][3]*υ_proj_s(x,p,t)*Vbar_proj_s(x,p,t)\n",
    "    \n",
    "    #Available Surface Water from Inflow\n",
    "    if(p[24]==1) #Phoenix Metro Area Cases\n",
    "        #CAP\n",
    "        Q_CAP = x[11] - p[1][3]\n",
    "        short = p[1][4] - Q_CAP\n",
    "        NIA_avail = max(0,70022-short)\n",
    "        high_avail = Q_CAP - NIA_avail\n",
    "        CAP_avail = p[13][6]*NIA_avail + p[13][7]*high_avail\n",
    "        \n",
    "        #SRP\n",
    "        max_prop_use = (D_proj(x,p,t)/η_proj(x,p,t))*p[27][2]\n",
    "        NG = p[13][8]*p[1][3]\n",
    "        max_allocation = p[1][3]*p[13][4]\n",
    "        \n",
    "        SRP_avail = min(max_allocation, max_prop_use + NG) \n",
    "        \n",
    "        return A_proj_l_sv + SRP_avail + CAP_avail\n",
    "    else\n",
    "        return  A_proj_l_sv + p[13][4]*x[11]\n",
    "    end\n",
    "end; "
   ]
  },
  {
   "cell_type": "code",
   "execution_count": 46,
   "id": "2eac40e6-2b21-4509-b4d9-28c4060dc83d",
   "metadata": {},
   "outputs": [],
   "source": [
    "function A_proj_l_g(x,p,t) \n",
    "    ###Stored Groundwater Availability\n",
    "    if(p[34]==0)\n",
    "        if(p[24]==1)\n",
    "            A_l_g_v = p[13][1]*max(0,υ_and_η_proj_g(x,p,t)[1]*Vbar_g(x,p,t)-p[13][2]*p[1][2]*100) ##only count available V if above 100-yr SY amount \n",
    "         else\n",
    "            A_l_g_v = p[13][1]*υ_and_η_proj_g(x,p,t)[1]*Vbar_g(x,p,t)\n",
    "        end\n",
    "    else\n",
    "        A_l_g_v = υ_and_η_proj_g(x,p,t)[1]*Vbar_g(x,p,t)\n",
    "    end\n",
    "    \n",
    "    ###Groundwater Inflow Availability\n",
    "    if(p[24]==1)\n",
    "        A_l_g_q = p[13][2]*x[12]\n",
    "    else\n",
    "        A_l_g_q = p[13][2]*x[12];\n",
    "    end\n",
    "    \n",
    "    return A_l_g_v + A_l_g_q\n",
    "end; "
   ]
  },
  {
   "cell_type": "markdown",
   "id": "adecca34-6178-4cc0-80f6-fe16686ad9a5",
   "metadata": {
    "jp-MarkdownHeadingCollapsed": true,
    "tags": []
   },
   "source": [
    "##### Projected Technically Available Volume ($A^{proj,T}$)"
   ]
  },
  {
   "cell_type": "markdown",
   "id": "24723bed-c131-4c3b-a329-83b929e3622e",
   "metadata": {},
   "source": [
    "$\n",
    "A^{T,proj}_t = \\hat{w}_t(\\hat{\\bar{V}}_t + \\mu_t)\n",
    "$"
   ]
  },
  {
   "cell_type": "code",
   "execution_count": 47,
   "id": "df4718ef-6950-415c-a7c4-c9558823e82f",
   "metadata": {},
   "outputs": [],
   "source": [
    "A_proj_w_s(x,p,t) = w_proj_s(x,p,t)*(Vbar_proj_s(x,p,t)+x[11]);"
   ]
  },
  {
   "cell_type": "code",
   "execution_count": 48,
   "id": "f743e6c6-0062-42ee-8e46-310c013525cd",
   "metadata": {},
   "outputs": [],
   "source": [
    "A_proj_w_g(x,p,t) = w_proj_g(x,p,t)*(Vbar_g(x,p,t)+x[12]);"
   ]
  },
  {
   "cell_type": "markdown",
   "id": "a91ec28a-442c-4eb4-91a2-20546bea772c",
   "metadata": {
    "jp-MarkdownHeadingCollapsed": true,
    "tags": [],
    "toc-hr-collapsed": true
   },
   "source": [
    "### Outflows, Releases"
   ]
  },
  {
   "cell_type": "markdown",
   "id": "507647d7-eb5c-4d9b-80b5-f80e7bf88137",
   "metadata": {
    "jp-MarkdownHeadingCollapsed": true,
    "tags": []
   },
   "source": [
    "#### Total Use/Outflows ($O$)"
   ]
  },
  {
   "cell_type": "markdown",
   "id": "527a38d4-3c45-4b95-a349-b5c7242e275a",
   "metadata": {},
   "source": [
    "Outflows either are used to satisfy demand ($O^d_t$) or release flood water ($O^f_t$)\n",
    "\n",
    "$\n",
    "O_t = O^d_t + O^f_t \n",
    "$"
   ]
  },
  {
   "cell_type": "code",
   "execution_count": 49,
   "id": "adccf350-331e-4efa-9553-6fac8edcdac3",
   "metadata": {},
   "outputs": [],
   "source": [
    "O(x,p,t) = O_d(x,p,t) + O_f(x,p,t);"
   ]
  },
  {
   "cell_type": "markdown",
   "id": "45acf17e-dab9-4df3-bb3a-5d6e63e0fae2",
   "metadata": {
    "jp-MarkdownHeadingCollapsed": true,
    "tags": []
   },
   "source": [
    "#### Demand-Related Outflows ($O^d$)"
   ]
  },
  {
   "cell_type": "markdown",
   "id": "225d8a69-b6d4-44a9-a02d-ea17e88c81a7",
   "metadata": {},
   "source": [
    "$\n",
    "O^d_t = O^s_t + O^g_t\n",
    "$"
   ]
  },
  {
   "cell_type": "code",
   "execution_count": 50,
   "id": "914dc4ad-d63d-4c70-ac5b-69f4468118b3",
   "metadata": {},
   "outputs": [],
   "source": [
    "O_d(x,p,t) = O_s(x,p,t) + O_g(x,p,t);"
   ]
  },
  {
   "cell_type": "markdown",
   "id": "3b7988bb-f950-4c5d-9cd3-917ee2d2bd09",
   "metadata": {
    "jp-MarkdownHeadingCollapsed": true,
    "tags": []
   },
   "source": [
    "#### Surface Water Demand-Related Outflows ($O^s$)"
   ]
  },
  {
   "cell_type": "markdown",
   "id": "7875c8da-0893-43d4-9431-83a35cb5658e",
   "metadata": {},
   "source": [
    "$\n",
    "O^s_t = \\begin{cases}\n",
    "O^1_t + O^2_t & \\text{if} \\quad cases = 1 \\\\\n",
    "min(A^s_t, \\frac{\\tilde{D}_t}{\\eta_t}(1-\\theta^g) & \\text{otherwise}\n",
    "\\end{cases}\n",
    "$"
   ]
  },
  {
   "cell_type": "code",
   "execution_count": 51,
   "id": "0b16a169-a9b8-4e03-ad88-d2e6866982eb",
   "metadata": {},
   "outputs": [],
   "source": [
    "function O_s(x,p,t)\n",
    "    if(p[24]==1) #Phoenix Metro Area Case\n",
    "        return O_1(x,p,t) + O_2(x,p,t) #sum CAP and SRP use\n",
    "    else \n",
    "        need = (D_ST(x,p,t)/x[15])*(1-p[27][1])\n",
    "        return min(A_s(x,p,t), need)\n",
    "    end\n",
    "end;"
   ]
  },
  {
   "cell_type": "markdown",
   "id": "802bbb9b-07a4-462a-bdf7-3d6378607d89",
   "metadata": {
    "jp-MarkdownHeadingCollapsed": true,
    "tags": []
   },
   "source": [
    "##### SRP Use ($O^1$)"
   ]
  },
  {
   "cell_type": "markdown",
   "id": "1c6bf50e-9062-473c-af29-549a8c98356b",
   "metadata": {},
   "source": [
    "$\n",
    "O^1_t = min(\\mu_1a^{SRP}, A^{T,s}_t, \\frac{\\tilde{D}_t}{\\eta_t}\\xi^{SRP} + \\mu_1a^{NCS}, \\frac{\\tilde{D}_t}{\\eta_t}(1-\\xi^{g}))\n",
    "$"
   ]
  },
  {
   "cell_type": "code",
   "execution_count": 52,
   "id": "7c0f6fa6-eebd-4f72-8222-f039b8ce8de0",
   "metadata": {},
   "outputs": [],
   "source": [
    "function O_1(x,p,t) \n",
    "    #calculate need after considering annual groundwater use\n",
    "    need = (D_ST(x,p,t)/x[15])*(1-p[27][1])\n",
    "    \n",
    "    #calculate available water considering legal and technical constraints\n",
    "    tech_avail = A_w_s(x,p,t)\n",
    "    allocation = p[1][3]*p[13][4]\n",
    "    dem_op = (D_ST(x,p,t)/x[15])*p[27][2] + p[13][8]*p[1][3] #on-project demand (demand that can use basic SRP rights) + annual NCS & gatewater \n",
    "    \n",
    "    #return min of need and available\n",
    "    return min(allocation, tech_avail, dem_op, need)\n",
    "end;"
   ]
  },
  {
   "cell_type": "markdown",
   "id": "40994c51-95a9-4598-b662-8d4eae56484a",
   "metadata": {
    "jp-MarkdownHeadingCollapsed": true,
    "tags": []
   },
   "source": [
    "##### CAP Use ($O^2$)"
   ]
  },
  {
   "cell_type": "markdown",
   "id": "ac2731b8-e482-463e-8186-9575935cde5d",
   "metadata": {},
   "source": [
    "$\n",
    "O^2_t = min(\\tilde{Q}^{CAP}_t, \\frac{\\tilde{D}_t}{\\eta_t} - O^1_t, A^{T,s}_t)\n",
    "$"
   ]
  },
  {
   "cell_type": "code",
   "execution_count": 53,
   "id": "f697f6fa-08e0-4e8b-97e4-d588d43b9f7a",
   "metadata": {},
   "outputs": [],
   "source": [
    "function O_2(x,p,t)\n",
    "    #calculate need\n",
    "    need =(D_ST(x,p,t)/x[15])*(1-p[27][1])\n",
    "    need_left = need - O_1(x,p,t)\n",
    "    \n",
    "    #calculate available water considering legal and technical constraints\n",
    "    legal_avail = Q_a_CAP(x,p,t)\n",
    "    tech_avail = A_w_s(x,p,t)\n",
    "    \n",
    "    return min(legal_avail, tech_avail, need_left)\n",
    "end;"
   ]
  },
  {
   "cell_type": "markdown",
   "id": "95ed2fbb-ae74-4adb-aef2-586043467e48",
   "metadata": {
    "jp-MarkdownHeadingCollapsed": true,
    "tags": []
   },
   "source": [
    "##### Banked Water ($Q^b$)"
   ]
  },
  {
   "cell_type": "markdown",
   "id": "9b050458-6ef6-496f-aac9-509f03da1497",
   "metadata": {},
   "source": [
    "$\n",
    "Q^b = \\begin{cases}\n",
    "Q^{a,CAP}_t - O^2_t & \\text{if} \\quad cases = 1 \\\\\n",
    "0 & \\text{otherwise}\n",
    "\\end{cases}\n",
    "$"
   ]
  },
  {
   "cell_type": "code",
   "execution_count": 54,
   "id": "74d0e689-e9ae-433e-954a-285d4fe8cb5e",
   "metadata": {},
   "outputs": [],
   "source": [
    "function Q_b(x,p,t) \n",
    "    if(p[24]==1) #if PMA case\n",
    "        return Q_a_CAP(x,p,t) - O_2(x,p,t);\n",
    "    else\n",
    "        return 0\n",
    "    end\n",
    "end; "
   ]
  },
  {
   "cell_type": "markdown",
   "id": "b6aace5c-c9d5-40d5-bb34-b54d975f24bb",
   "metadata": {
    "jp-MarkdownHeadingCollapsed": true,
    "tags": []
   },
   "source": [
    "#### Groundwater Demand-Related Outflows ($O^g_t$)"
   ]
  },
  {
   "cell_type": "markdown",
   "id": "4aaa2b8a-897b-495e-8aa0-4dedf8be57f5",
   "metadata": {},
   "source": [
    "$\n",
    "O^g_t = min\\left(\\frac{\\tilde{D}_t}{\\eta_t} - O^s_t, A^g_t \\right)\n",
    "$"
   ]
  },
  {
   "cell_type": "code",
   "execution_count": 55,
   "id": "02ccda04-e712-4279-ae88-48fee862da4c",
   "metadata": {},
   "outputs": [],
   "source": [
    "function O_g(x,p,t)\n",
    "    need = D_ST(x,p,t)/x[15]\n",
    "    need_left = need - O_s(x,p,t) #after considering surface water use\n",
    "    \n",
    "    return min(need_left, A_g(x,p,t))\n",
    "end;"
   ]
  },
  {
   "cell_type": "markdown",
   "id": "da0d4854-21bd-44f4-afc6-70344d40c9f5",
   "metadata": {
    "jp-MarkdownHeadingCollapsed": true,
    "tags": []
   },
   "source": [
    "#### Flood Release Outflows ($O^f_t$)"
   ]
  },
  {
   "cell_type": "markdown",
   "id": "2f6d5d76-378a-4bd7-a193-f139403af7b2",
   "metadata": {},
   "source": [
    "$\n",
    "excess = (V^s_t + a^{s,q} Q^s_t - (O^{s}_t + Q^b_t)) - \\bar{V}_t\n",
    "$\n",
    "\n",
    "\n",
    "$\n",
    "O^f_t = \\begin{cases}\n",
    "excess & \\text{if} \\quad excess > 0 \\\\\n",
    "0 & \\text{otherwise}\n",
    "\\end{cases}\n",
    "$"
   ]
  },
  {
   "cell_type": "code",
   "execution_count": 56,
   "id": "499dc20a-f6b9-4c67-a283-ab4efdcc6a26",
   "metadata": {},
   "outputs": [],
   "source": [
    "function O_f(x,p,t)\n",
    "    excess = (V_s(x,p,t) + Q_a_s(x,p,t) - (O_s(x,p,t)+Q_b(x,p,t))) - Vbar_s(x,p,t) \n",
    "    \n",
    "    return max(excess, 0.0)\n",
    "end;"
   ]
  },
  {
   "cell_type": "markdown",
   "id": "504e43eb-8d23-433d-a549-4bc40a0dd60d",
   "metadata": {
    "jp-MarkdownHeadingCollapsed": true,
    "tags": []
   },
   "source": [
    "### Supply"
   ]
  },
  {
   "cell_type": "markdown",
   "id": "698f215c-cad8-4a0c-ae8f-4aff2c166489",
   "metadata": {
    "tags": []
   },
   "source": [
    "#### Current Supply"
   ]
  },
  {
   "cell_type": "markdown",
   "id": "274e2bd4-599f-459e-92d1-682a28a854d5",
   "metadata": {},
   "source": [
    "$\n",
    "S_t = \\eta_t A_t\n",
    "$"
   ]
  },
  {
   "cell_type": "code",
   "execution_count": 57,
   "id": "6ae48d5c-83c7-4b20-98bb-d3f8c83335ba",
   "metadata": {},
   "outputs": [],
   "source": [
    "S(x,p,t) = x[15]*A(x,p,t);"
   ]
  },
  {
   "cell_type": "markdown",
   "id": "995846bd-f68d-46f0-84f9-f25dfb957a01",
   "metadata": {
    "tags": []
   },
   "source": [
    "#### Projected Supply"
   ]
  },
  {
   "cell_type": "markdown",
   "id": "dc3963d9-a096-43b6-b393-38373e4a7918",
   "metadata": {},
   "source": [
    "$\n",
    "\\hat{S}_t = \\hat{\\eta}_t \\hat{A}_t\n",
    "$"
   ]
  },
  {
   "cell_type": "code",
   "execution_count": 58,
   "id": "bf7aebeb-14c8-42d3-a618-ed7f0262ebc9",
   "metadata": {},
   "outputs": [],
   "source": [
    "S_proj(x,p,t) = η_proj(x,p,t)*A_proj(x,p,t);"
   ]
  },
  {
   "cell_type": "markdown",
   "id": "1d8fb62f-466e-4e56-8063-47b96707cee2",
   "metadata": {
    "jp-MarkdownHeadingCollapsed": true,
    "tags": []
   },
   "source": [
    "### Finances"
   ]
  },
  {
   "cell_type": "markdown",
   "id": "db9516b4-11f1-46f8-a37d-75872651f4d5",
   "metadata": {
    "jp-MarkdownHeadingCollapsed": true,
    "tags": []
   },
   "source": [
    "#### Revenue"
   ]
  },
  {
   "cell_type": "markdown",
   "id": "26c2daee-959f-4c42-af8c-e703242e5e22",
   "metadata": {
    "jp-MarkdownHeadingCollapsed": true,
    "tags": []
   },
   "source": [
    "##### Actual Revenue Generated ($R$)"
   ]
  },
  {
   "cell_type": "markdown",
   "id": "40853630-1237-4182-8919-62c9a0ce466c",
   "metadata": {},
   "source": [
    "$\n",
    "R_t = P_t\\hat{\\pi}_t(\\beta^{(\\pi)}_p + (1-\\beta^{(\\pi)}_p)\\frac{\\tilde{d}_t}{\\bar{\\chi}_t\\mu_t})\n",
    "$"
   ]
  },
  {
   "cell_type": "code",
   "execution_count": 59,
   "id": "c25370eb-bbcd-4366-8c41-04a9f37e0b28",
   "metadata": {},
   "outputs": [],
   "source": [
    "R(x,p,t) = P(x,p,t)*p[2]*x[17]*(p[36]+((1-p[36])*(d_ST(x,p,t)/(x[16]*μ(x,p,t)))));"
   ]
  },
  {
   "cell_type": "markdown",
   "id": "6e99c998-dd6d-4785-b3b1-6aa585521764",
   "metadata": {
    "jp-MarkdownHeadingCollapsed": true,
    "tags": []
   },
   "source": [
    "##### Projected Revenue for Next Year ($R^{proj}$)"
   ]
  },
  {
   "cell_type": "markdown",
   "id": "e2dd27f9-e35f-44c9-bbf3-b0b813e88606",
   "metadata": {},
   "source": [
    "$\n",
    "R^{proj}_t = P^{proj,1}_t f_t \\bar{\\pi}\n",
    "$"
   ]
  },
  {
   "cell_type": "code",
   "execution_count": 60,
   "id": "b6be0c6d-bff4-4e34-8ef5-9a3d4ab1a8e1",
   "metadata": {},
   "outputs": [],
   "source": [
    "R_proj(x,p,t) = P_proj_1(x,p,t)*x[17]*p[2];"
   ]
  },
  {
   "cell_type": "markdown",
   "id": "850fb107-f2ef-495f-bccc-1c4cc78b00dd",
   "metadata": {
    "jp-MarkdownHeadingCollapsed": true,
    "tags": []
   },
   "source": [
    "#### Operating Costs"
   ]
  },
  {
   "cell_type": "markdown",
   "id": "459d17a1-205f-4ae1-b6e8-e18097fdd33c",
   "metadata": {
    "jp-MarkdownHeadingCollapsed": true,
    "tags": []
   },
   "source": [
    "##### Actual Operating Costs ($C^o$)"
   ]
  },
  {
   "cell_type": "markdown",
   "id": "7ffbbabb-43f2-4115-bd73-501b760692bd",
   "metadata": {},
   "source": [
    "$\n",
    "C^o_t = g_o P_t^{z_{op}}\\tilde{D}_t^{z_{od}}\n",
    "$"
   ]
  },
  {
   "cell_type": "code",
   "execution_count": 61,
   "id": "fc5f2414-7582-47cf-958f-3fbdf54c2775",
   "metadata": {},
   "outputs": [],
   "source": [
    "C_o(x,p,t) = p[22][1]*(P(x,p,t)^p[23][1])*(D_bar(x,p,t)^p[23][2]);"
   ]
  },
  {
   "cell_type": "markdown",
   "id": "ea214da8-32db-41b3-9f00-a23cbf1ba295",
   "metadata": {
    "jp-MarkdownHeadingCollapsed": true,
    "tags": []
   },
   "source": [
    "##### Projected Operating Costs ($C^{o,proj}$)"
   ]
  },
  {
   "cell_type": "markdown",
   "id": "16ca2a43-f4f7-4475-8b7b-e6edd5f471bd",
   "metadata": {},
   "source": [
    "$\n",
    "C^{o,proj}_t = g_o \\left(P^{proj,1}_t\\right)^{z_{op}}\\left(\\tilde{D}^{proj,1}_t\\right)^{z_{od}}\n",
    "$"
   ]
  },
  {
   "cell_type": "code",
   "execution_count": 62,
   "id": "e44da578-9d5d-433f-b2db-03bb77094ee4",
   "metadata": {},
   "outputs": [],
   "source": [
    "C_o_proj(x,p,t) = p[22][1]*(P_proj_1(x,p,t)^p[23][1])*(D_proj_1(x,p,t)^p[23][2]);"
   ]
  },
  {
   "cell_type": "markdown",
   "id": "56de130a-fde0-4fc7-9884-004658144635",
   "metadata": {
    "jp-MarkdownHeadingCollapsed": true,
    "tags": []
   },
   "source": [
    "#### Debt Service"
   ]
  },
  {
   "cell_type": "markdown",
   "id": "191af736-bff0-49ca-a7b0-e7506084f2d4",
   "metadata": {
    "jp-MarkdownHeadingCollapsed": true,
    "tags": []
   },
   "source": [
    "##### Actual Debt Service ($C^d$)"
   ]
  },
  {
   "cell_type": "markdown",
   "id": "0ff4396e-25b4-474c-b2e9-17033d459d71",
   "metadata": {},
   "source": [
    "$C^d_t = \\tilde{J}^b_{t}(1+\\tau_bi_b)$"
   ]
  },
  {
   "cell_type": "code",
   "execution_count": 63,
   "id": "33ca2c7e-eb62-44ff-9455-0be442a3ac33",
   "metadata": {},
   "outputs": [],
   "source": [
    "C_d(x,p,t) = x[18]*(1+p[31]*p[32]);"
   ]
  },
  {
   "cell_type": "markdown",
   "id": "1aae3587-854f-49b5-b57b-3f3bb4072ca3",
   "metadata": {
    "jp-MarkdownHeadingCollapsed": true,
    "tags": []
   },
   "source": [
    "##### Needed Debt Service in Next Year ($C^{d,need}$)"
   ]
  },
  {
   "cell_type": "markdown",
   "id": "2071a1f8-00e3-4988-ab12-36a1a800d327",
   "metadata": {},
   "source": [
    "$\n",
    "C^{d,need}_t = \\tilde{J}^b_t(1+\\tau_bi_b - \\frac{1}{\\tau_b} - i_b) + \\hat{J}^b_t(\\frac{1}{\\tau_b} + i_b)\n",
    "$"
   ]
  },
  {
   "cell_type": "code",
   "execution_count": 64,
   "id": "55b72491-1500-487f-b5be-e7303dbf9aa2",
   "metadata": {},
   "outputs": [],
   "source": [
    "function C_d_need(x,p,t) #needed debt service for the next year\n",
    "    return x[18]*(1+p[31]*p[32]-(1/p[31])-p[32]) + J_b(x,p,t)*((1/p[31])+p[32])\n",
    "end;"
   ]
  },
  {
   "cell_type": "markdown",
   "id": "c5e2a2bd-2b8b-4290-9ed2-a328456f553d",
   "metadata": {
    "jp-MarkdownHeadingCollapsed": true,
    "tags": [],
    "toc-hr-collapsed": true
   },
   "source": [
    "## 1.2 Definition of Signal & Error for Each Action Situation"
   ]
  },
  {
   "cell_type": "markdown",
   "id": "5eb5f506-1997-43ba-a23c-5511558ffeca",
   "metadata": {
    "jp-MarkdownHeadingCollapsed": true,
    "tags": []
   },
   "source": [
    "### Signal - Safety Factor for Short-Term Curtailment ($M_1$)"
   ]
  },
  {
   "cell_type": "markdown",
   "id": "b2c6330e-db14-41ed-88ec-b89fbd7f031c",
   "metadata": {},
   "source": [
    "$\n",
    "M_{1,t} = \\frac{S_t}{D_t}\n",
    "$"
   ]
  },
  {
   "cell_type": "code",
   "execution_count": 65,
   "id": "e22ee820-4f49-4c0d-bf59-5d2d515462a3",
   "metadata": {},
   "outputs": [],
   "source": [
    "M_1(x,p,t) = S(x,p,t)/D(x,p,t);"
   ]
  },
  {
   "cell_type": "markdown",
   "id": "183b44f4-4091-4933-a5e3-28e05ce78dba",
   "metadata": {
    "jp-MarkdownHeadingCollapsed": true,
    "tags": []
   },
   "source": [
    "### Signal - Projected Safety Fator for Investment ($M_2$)"
   ]
  },
  {
   "cell_type": "markdown",
   "id": "e1759123-35c5-4cad-9ce4-b0db28438739",
   "metadata": {},
   "source": [
    "$\n",
    "M_{2,t} = \\frac{S^{proj}_t}{D^{proj}_t}\n",
    "$"
   ]
  },
  {
   "cell_type": "code",
   "execution_count": 66,
   "id": "fd385c52-017f-4bb0-9b3c-bbe860289120",
   "metadata": {},
   "outputs": [],
   "source": [
    "M_2(x,p,t) = S_proj(x,p,t)/D_proj(x,p,t);"
   ]
  },
  {
   "cell_type": "markdown",
   "id": "ea96d459-db87-46e5-93f2-dfe56c4bfe01",
   "metadata": {
    "jp-MarkdownHeadingCollapsed": true,
    "tags": []
   },
   "source": [
    "### Signal - Debt Service Capacity Ratio for Rate-Settting ($M_3$)"
   ]
  },
  {
   "cell_type": "markdown",
   "id": "0f6ace3b-7b32-46d0-bc13-d6d889f7a167",
   "metadata": {},
   "source": [
    "$\n",
    "M_{3,t} = \\frac{R^{proj}_t-C^{o,proj}_t}{C^{d,need}_t}\n",
    "$"
   ]
  },
  {
   "cell_type": "code",
   "execution_count": 67,
   "id": "056cb0c5-b1da-47c4-b3cb-173dd89bfa01",
   "metadata": {},
   "outputs": [],
   "source": [
    "M_3(x,p,t) = (R_proj(x,p,t) - C_o_proj(x,p,t))/C_d_need(x,p,t);"
   ]
  },
  {
   "cell_type": "markdown",
   "id": "f6f8d020-0bc4-4027-b88d-904382aa908b",
   "metadata": {
    "jp-MarkdownHeadingCollapsed": true,
    "tags": []
   },
   "source": [
    "### Error - Short-Term ($e_1$)"
   ]
  },
  {
   "cell_type": "markdown",
   "id": "22b758c3-e498-430b-840f-941ee5387c6a",
   "metadata": {},
   "source": [
    "$\n",
    "e_{1,t} = \\gamma_1-M_{1,t}\n",
    "$"
   ]
  },
  {
   "cell_type": "code",
   "execution_count": 68,
   "id": "21c947c9-a7fd-4418-9cd2-cd33a56d77a6",
   "metadata": {},
   "outputs": [],
   "source": [
    "e_1(x,p,t) = p[17][1] - M_1(x,p,t);"
   ]
  },
  {
   "cell_type": "markdown",
   "id": "028b6488-dda6-4b7f-b672-5e68250b6083",
   "metadata": {
    "jp-MarkdownHeadingCollapsed": true,
    "tags": []
   },
   "source": [
    "### Error - Projected for Investment ($e_2$)"
   ]
  },
  {
   "cell_type": "markdown",
   "id": "95d286d6-6445-4268-b80c-8e0c43ec61c2",
   "metadata": {},
   "source": [
    "$\n",
    "e_{2,t} = \\gamma_2 - M_{2,t}\n",
    "$"
   ]
  },
  {
   "cell_type": "code",
   "execution_count": 69,
   "id": "35784d2b-a5a6-45e0-abc0-e136320ed487",
   "metadata": {
    "scrolled": true
   },
   "outputs": [],
   "source": [
    "e_2(x,p,t) = p[17][2] - M_2(x,p,t);"
   ]
  },
  {
   "cell_type": "markdown",
   "id": "d68481ca-43d1-47e3-a350-40fdf292f17f",
   "metadata": {
    "jp-MarkdownHeadingCollapsed": true,
    "tags": []
   },
   "source": [
    "### Error - Rate-Setting ($e_3$)"
   ]
  },
  {
   "cell_type": "markdown",
   "id": "67e14852-ec06-4b58-a688-db1f4e030f3c",
   "metadata": {},
   "source": [
    "$\n",
    "e_{3,t} = \\gamma_3 - M_{3,t}\n",
    "$"
   ]
  },
  {
   "cell_type": "code",
   "execution_count": 70,
   "id": "4a8cedb6-6753-404c-be2a-6b3aac0695d6",
   "metadata": {},
   "outputs": [],
   "source": [
    "function e_3(x,p,t)\n",
    "    return p[17][3] - M_3(x,p,t)\n",
    "end;"
   ]
  },
  {
   "cell_type": "markdown",
   "id": "d6c95402-9f65-4944-a455-059e3dacedd4",
   "metadata": {
    "jp-MarkdownHeadingCollapsed": true,
    "tags": [],
    "toc-hr-collapsed": true
   },
   "source": [
    "## 1.3 Definition of Controller Steps for Each Action Situation"
   ]
  },
  {
   "cell_type": "markdown",
   "id": "06ddfc19-9c01-473c-88c8-0f11833f4252",
   "metadata": {
    "jp-MarkdownHeadingCollapsed": true,
    "tags": []
   },
   "source": [
    "### 1.3.1 Attention ($Y$)"
   ]
  },
  {
   "cell_type": "markdown",
   "id": "7986a819-737b-4e37-952b-378647b8297e",
   "metadata": {},
   "source": [
    "$\n",
    "Y_{j,t} = \\frac{1}{1 + \\mathrm{exp}(-\\lambda_j(e_{j,t} - \\epsilon_j))} \n",
    "$"
   ]
  },
  {
   "cell_type": "code",
   "execution_count": 71,
   "id": "927140ef-12ef-4e8f-8175-9660dda434ad",
   "metadata": {},
   "outputs": [],
   "source": [
    "function Y_1(x,p,t)\n",
    "    e_1t = e_1(x,p,t)\n",
    "    \n",
    "    return 1/(1+exp(-p[20][1]*(e_1t - p[21][1])))\n",
    "end;"
   ]
  },
  {
   "cell_type": "code",
   "execution_count": 72,
   "id": "b3dc710d-67ba-4c19-b23d-1d63858fb69b",
   "metadata": {},
   "outputs": [],
   "source": [
    "function Y_2(x,p,t)\n",
    "    e_2t = e_2(x,p,t)\n",
    "    \n",
    "    return 1/(1+exp(-p[20][2]*(e_2t - p[21][2])))\n",
    "end;"
   ]
  },
  {
   "cell_type": "code",
   "execution_count": 73,
   "id": "917e677f-6855-42b2-a5df-0a2cc2add40d",
   "metadata": {},
   "outputs": [],
   "source": [
    "function Y_3(x,p,t)\n",
    "    e_3t = e_3(x,p,t)\n",
    "    \n",
    "    return 1/(1+exp(-p[20][3]*(e_3t - p[21][3])))\n",
    "end;"
   ]
  },
  {
   "cell_type": "markdown",
   "id": "38049fc3-f665-4f78-ba5d-002fbd359aa9",
   "metadata": {
    "jp-MarkdownHeadingCollapsed": true,
    "tags": []
   },
   "source": [
    "### 1.3.2 Controller Response: Short-term Curtailment Action Situation ($u_1$)"
   ]
  },
  {
   "cell_type": "markdown",
   "id": "fbce80d0-8306-4e75-9078-a4f4e53ad2b6",
   "metadata": {
    "tags": []
   },
   "source": [
    "$\n",
    "u_{1,t} = \\alpha \\chi_t Y_{1,t}(1-\\frac{\\chi_{min}}{\\chi_t})\n",
    "$"
   ]
  },
  {
   "cell_type": "code",
   "execution_count": 74,
   "id": "9947364a-6a43-48b4-abcb-d2149bf7ea49",
   "metadata": {},
   "outputs": [],
   "source": [
    "function u_1(x,p,t)\n",
    "    χ_min = p[14]/μ(x,p,t) #convert d_min to χ units\n",
    "    \n",
    "    u_1_t = x[2]*Y_1(x,p,t)*p[30]*(1-(χ_min/x[2]))\n",
    "    \n",
    "    if (u_1_t > (x[2] - χ_min)) #if investment would push the per-capita demand below the minimum demand, lower the investment\n",
    "        u_1_t = x[2] - χ_min\n",
    "    end\n",
    "    \n",
    "    return u_1_t\n",
    "end;"
   ]
  },
  {
   "cell_type": "markdown",
   "id": "4046fbfe-b6fa-4c66-b3cf-d1c8db777569",
   "metadata": {
    "jp-MarkdownHeadingCollapsed": true,
    "tags": [],
    "toc-hr-collapsed": true
   },
   "source": [
    "### 1.3.3 Controller Response: Investment Action Situations ($u_{2,k}$)"
   ]
  },
  {
   "cell_type": "markdown",
   "id": "5f678677-dfff-4928-9d8c-e15fbb97690a",
   "metadata": {
    "tags": []
   },
   "source": [
    "#### 1.3.3.1 Maintenance Investment Needs ($u^{m,need}$ & $J^{m,need}$)"
   ]
  },
  {
   "cell_type": "markdown",
   "id": "8537f9a0-b06c-4ba3-ae8a-2a6a334ab515",
   "metadata": {
    "jp-MarkdownHeadingCollapsed": true,
    "tags": []
   },
   "source": [
    "##### Total Maintenance Investment Need (in dollars) ($J^{m,need}$)"
   ]
  },
  {
   "cell_type": "code",
   "execution_count": 75,
   "id": "fd909016-3cb3-49e0-a334-cad312e19434",
   "metadata": {},
   "outputs": [],
   "source": [
    "function J_k_m_need(x,p,t)\n",
    "    J_k_m = zeros(7)\n",
    "    \n",
    "    J_k_m[2] = J_m_η(x,p,t)\n",
    "    J_k_m[3] = J_m_v(x,p,t)\n",
    "    J_k_m[4] = J_m_w_s(x,p,t)\n",
    "    J_k_m[5] = J_m_w_g(x,p,t)\n",
    "    \n",
    "    return J_k_m\n",
    "end;"
   ]
  },
  {
   "cell_type": "code",
   "execution_count": 76,
   "id": "adf00135-f756-45e2-981f-7a1a976e6e3f",
   "metadata": {},
   "outputs": [],
   "source": [
    "J_m_need(x,p,t) = sum(J_k_m_need(x,p,t));"
   ]
  },
  {
   "cell_type": "markdown",
   "id": "d9659803-3377-4e8c-8bf1-5662ff5a5131",
   "metadata": {
    "jp-MarkdownHeadingCollapsed": true,
    "tags": []
   },
   "source": [
    "##### Total Maintenance Investment Need (in volumetric capacity) ($u^{m,need}$)"
   ]
  },
  {
   "cell_type": "code",
   "execution_count": 77,
   "id": "b13aef7c-8d53-4560-be1c-8569600c1cf5",
   "metadata": {},
   "outputs": [],
   "source": [
    "u_m_need(x,p,t) = u_m_η(x,p,t) + u_m_v(x,p,t) + u_m_w_s(x,p,t) + u_m_w_g(x,p,t);"
   ]
  },
  {
   "cell_type": "markdown",
   "id": "eb97832a-3474-4876-a6c6-328994e772bf",
   "metadata": {
    "tags": []
   },
   "source": [
    "##### Maintenance Investment Need for Each Infrastructure Type ($u^{m,need}_k$ & $J^{m,need}_k$)"
   ]
  },
  {
   "cell_type": "markdown",
   "id": "5e00b175-12e6-45e8-8330-bac2f561530b",
   "metadata": {},
   "source": [
    "$\n",
    "u^{m,need}_k = \\left(\\tilde{I}_{k,t} - I_{k,t}(1-\\delta_k)\\right)A_t\n",
    "$\n",
    "\n",
    "where $\\tilde{I}_{k,t}$ is the goal maintenance state of $I_k$ (if $I_{k,t}$ is above maximum capacity, it is allowed to decay to the maximum, $\\bar{I}$. Otherwise, the goal is the current state)\n",
    "\n",
    "$\n",
    "J^m_{k,t} = \\begin{cases}\n",
    "g_\\eta \\left(\\eta_t u^{m,need}_{\\eta,t}\\right)^{z_\\eta} & \\text{if delivery efficiency} \\\\\n",
    "g_k \\left(u^{m,need}_{k,t}\\right)^{z_k} & \\text{otherwise}\n",
    "\\end{cases}\n",
    "$"
   ]
  },
  {
   "cell_type": "markdown",
   "id": "7e962fa7-a473-422e-9ad0-0248470ae86c",
   "metadata": {
    "jp-MarkdownHeadingCollapsed": true,
    "tags": []
   },
   "source": [
    "###### Delivery Efficiency"
   ]
  },
  {
   "cell_type": "code",
   "execution_count": 78,
   "id": "bb1fa292-1f9c-4409-87de-083410a608d0",
   "metadata": {},
   "outputs": [],
   "source": [
    "function u_m_η(x,p,t)\n",
    "    #Note Current State\n",
    "    x_t = ForwardDiff.value(x[15])\n",
    "    A_t = ForwardDiff.value(A(x,p,t))\n",
    "    \n",
    "    #Decide on Goal State\n",
    "    x_goal = ifelse(x_t>p[11], p[11], x_t) #If the current capacity is above maximum, allow the capacity to decay to maximum\n",
    "    \n",
    "    #Calculate Volumetric Investment Need\n",
    "    u_m = (x_goal - x_t*(1-p[15][3]))*A_t\n",
    "    \n",
    "    #Check and correct for negative investment\n",
    "    if(u_m < 0)\n",
    "        return 0\n",
    "    else\n",
    "        return u_m\n",
    "    end\n",
    "end;"
   ]
  },
  {
   "cell_type": "code",
   "execution_count": 79,
   "id": "5593a644-843d-484d-87cc-78dfff588a0a",
   "metadata": {},
   "outputs": [],
   "source": [
    "function J_m_η(x,p,t)\n",
    "    #Note current state and volumetric maintenance investment need\n",
    "    η_t = ForwardDiff.value(x[15])\n",
    "    u_m = u_m_η(x,p,t)\n",
    "    \n",
    "    #Convert volumetric need to dollars \n",
    "    J_m = p[22][3]*((η_t*u_m)^p[23][4])\n",
    "    \n",
    "    return J_m\n",
    "end;"
   ]
  },
  {
   "cell_type": "markdown",
   "id": "22948208-30b1-4f09-918f-11bbaa2cd11f",
   "metadata": {
    "jp-MarkdownHeadingCollapsed": true,
    "tags": []
   },
   "source": [
    "###### Storage Capacity"
   ]
  },
  {
   "cell_type": "code",
   "execution_count": 80,
   "id": "703b57e0-bb6f-4ae8-8073-637c5d4ad959",
   "metadata": {},
   "outputs": [],
   "source": [
    "function u_m_v(x,p,t)\n",
    "   #Note Current State\n",
    "    x_t = ForwardDiff.value(x[5])\n",
    "    c_v_t = ForwardDiff.value(x[13])\n",
    "    μ_t = ForwardDiff.value(x[11])\n",
    "    \n",
    "    #If it is not an investment priority (like PMA case), no maintenance needed\n",
    "    if(p[19][2]==0)\n",
    "        return 0\n",
    "    else\n",
    "        #Decide on goal state\n",
    "        x_goal = ifelse(x_t>p[12][1],p[12][1],x_t) #If the current capacity is above maximum, allow the capacity to decay to maximum\n",
    "    \n",
    "        #Calculate volumetric investment need\n",
    "        u_m = (x_goal - x[5]*(1-p[15][4]))*μ_t*c_v_t\n",
    "    \n",
    "        #check and correct for negative investment\n",
    "        if(u_m < 0)\n",
    "            return 0\n",
    "        else\n",
    "            return u_m\n",
    "        end\n",
    "    \n",
    "    end\n",
    "end;"
   ]
  },
  {
   "cell_type": "code",
   "execution_count": 81,
   "id": "90723056-5e2c-45b0-8c72-221726e32aea",
   "metadata": {},
   "outputs": [],
   "source": [
    "function J_m_v(x,p,t)\n",
    "    #If it is not an investment priority (like PMA case), no maintenance needed\n",
    "    if(p[19][2]==0)\n",
    "        return 0\n",
    "    else\n",
    "        #Note volumetric investment need\n",
    "        u_m = u_m_v(x,p,t)\n",
    "        \n",
    "        #Convert volumetric need to dollars\n",
    "        J_m= p[22][4]*(u_m^p[23][5])\n",
    "        \n",
    "        return J_m\n",
    "    end\n",
    "end;"
   ]
  },
  {
   "cell_type": "markdown",
   "id": "67691e09-6e88-495b-9f31-3d8659402431",
   "metadata": {
    "jp-MarkdownHeadingCollapsed": true,
    "tags": []
   },
   "source": [
    "###### Surface Processing Capacity"
   ]
  },
  {
   "cell_type": "code",
   "execution_count": 82,
   "id": "38f0626d-42cd-4c13-a68c-b8e93019e876",
   "metadata": {},
   "outputs": [],
   "source": [
    "function u_m_w_s(x,p,t)\n",
    "    #Note Current State\n",
    "    x_t = ForwardDiff.value(x[7])\n",
    "    w_max = ForwardDiff.value(w_max_s(x,p,t))\n",
    "    V_bar_s_t = ForwardDiff.value(Vbar_s(x,p,t))\n",
    "    μ_s_t = ForwardDiff.value(x[11])\n",
    "    \n",
    "    #Decide on goal state\n",
    "    x_goal = ifelse(x_t>w_max, w_max, x_t) #If the current capacity is above maximum, allow the capacity to decay to maximum\n",
    "    \n",
    "    #Calculate volumetric investment need\n",
    "    u_m = (x_goal - x_t*(1-p[15][5]))*(V_bar_s_t + μ_s_t)\n",
    "    \n",
    "    #check and correct for negative investment\n",
    "    if(u_m < 0)\n",
    "        return 0\n",
    "    else\n",
    "        return u_m\n",
    "    end\n",
    "end;"
   ]
  },
  {
   "cell_type": "code",
   "execution_count": 83,
   "id": "983b023a-e9b6-42b0-a559-632238a76687",
   "metadata": {},
   "outputs": [],
   "source": [
    "function J_m_w_s(x,p,t)\n",
    "    #Note volumetric investment need\n",
    "    u_m = u_m_w_s(x,p,t)\n",
    "    \n",
    "    #Convert volumetric need to dollars\n",
    "    J_m = p[22][5]*(u_m^p[23][6])\n",
    "    \n",
    "    return J_m\n",
    "end;"
   ]
  },
  {
   "cell_type": "markdown",
   "id": "cc817a82-e30b-44b2-a7d4-8effc6d378e3",
   "metadata": {
    "jp-MarkdownHeadingCollapsed": true,
    "tags": []
   },
   "source": [
    "###### Ground Processing Capacity"
   ]
  },
  {
   "cell_type": "code",
   "execution_count": 84,
   "id": "cc4e1fa3-d40a-43b2-98d2-761979980570",
   "metadata": {},
   "outputs": [],
   "source": [
    "function u_m_w_g(x,p,t)\n",
    "   #Note Current State\n",
    "    x_t = ForwardDiff.value(x[8])\n",
    "    w_max = ForwardDiff.value(w_max_g(x,p,t))\n",
    "    V_bar_g_t = ForwardDiff.value(Vbar_g(x,p,t))\n",
    "    μ_g_t = ForwardDiff.value(x[12])\n",
    "    \n",
    "    #Decide on goal state\n",
    "    x_goal = ifelse(x_t>w_max, w_max, x_t) #If the current capacity is above maximum, allow the capacity to decay to maximum\n",
    "    \n",
    "    #Calculate volumetric investment need\n",
    "    u_m = (x_goal - x_t*((1-p[15][6])))*(V_bar_g_t + μ_g_t)\n",
    "    \n",
    "    #check and correct for negative investment\n",
    "    if(u_m < 0)\n",
    "        return 0\n",
    "    else\n",
    "        return u_m\n",
    "    end\n",
    "end;"
   ]
  },
  {
   "cell_type": "code",
   "execution_count": 85,
   "id": "92e45c0e-ce4f-4e41-9b86-dc0c20146e0e",
   "metadata": {},
   "outputs": [],
   "source": [
    "function J_m_w_g(x,p,t)\n",
    "    #Note volumetric investment need\n",
    "    u_m = u_m_w_g(x,p,t)\n",
    "    \n",
    "    #Convert volumetric need to dollars\n",
    "    J_m = p[22][6]*(u_m^p[23][7])\n",
    "    \n",
    "    return J_m\n",
    "end;"
   ]
  },
  {
   "cell_type": "markdown",
   "id": "0b369081-84dd-4bee-8e4d-15b0f21e7272",
   "metadata": {
    "jp-MarkdownHeadingCollapsed": true,
    "tags": []
   },
   "source": [
    "#### 1.3.3.2 Expansion Investment Needs ($u^{e,need}$ & $J^{e,need}$)"
   ]
  },
  {
   "cell_type": "markdown",
   "id": "991307a0-6c6f-48b5-b94f-ddcfa52117c7",
   "metadata": {},
   "source": [
    "Expansionary investment needs are a function of attention, error, and projected demand. We also add a check to ensure that the needs are never negative\n",
    "\n",
    "$\n",
    "u^{e,need}_t = max\\left(Y_{2,t}e_{2,t}D^{proj}_t, 0\\right)\n",
    "$\n",
    "\n",
    "$\n",
    "J^{e,need}_{k,t} = \\begin{cases}\n",
    "g_k \\left(\\beta_{k,t} \\eta_t u^{e,need}_{t}\\right)^{z_k} & \\text{if delivery efficiency} \\\\\n",
    "g_k \\left(\\beta_{k,t} u^{e,need}_{t}\\right)^{z_k} & \\text{otherwise}\n",
    "\\end{cases}\n",
    "$"
   ]
  },
  {
   "cell_type": "code",
   "execution_count": 86,
   "id": "a74eb8d9-66bf-4d72-9ae1-903b0f712b1b",
   "metadata": {},
   "outputs": [],
   "source": [
    "function u_e_need(x,p,t)\n",
    "    return max(Y_2(x,p,t)*e_2(x,p,t)*D_proj(x,p,t),0)\n",
    "end;"
   ]
  },
  {
   "cell_type": "code",
   "execution_count": 87,
   "id": "0562ce3b-503a-4c77-bb32-82d3bc8fc7d5",
   "metadata": {},
   "outputs": [],
   "source": [
    "function J_k_e_need(x,p,t)\n",
    "    ##Note Volumetric Expansion Investment Need and current state\n",
    "    u_e_need_t = ForwardDiff.value(u_e_need(x,p,t))\n",
    "    η_t = ForwardDiff.value(x[15])\n",
    "    \n",
    "    ##Calculate Allocation Percentages for This Year \n",
    "    β_k_t = β_k(x,p,t)\n",
    "    \n",
    "    ##Initialize J_k vector\n",
    "    J_k = zeros(length(p[19])+1)\n",
    "        \n",
    "    ##Calculate J_k for each k\n",
    "    for k in 1:length(p[19])\n",
    "        #error check to ensure that priority or investment need is never negative \n",
    "        if(β_k_t[k]<0) \n",
    "            print(\"β_k\"*string(k)*\"is neg\")\n",
    "        elseif(u_e_need_t<0)\n",
    "            print(\"u_e_need is neg\")\n",
    "        end\n",
    "        \n",
    "        \n",
    "        #Account for special functional form of delivery efficiency investment cost function\n",
    "        if(k==1)\n",
    "            J_k[k+1] = p[22][2+k]*((β_k_t[k]*η_t*u_e_need_t)^p[23][3+k])\n",
    "        else\n",
    "            J_k[k+1] = p[22][2+k]*((β_k_t[k]*u_e_need_t)^p[23][3+k])\n",
    "        end\n",
    "    end\n",
    "    \n",
    "    ##Calculate remaining investment need for d_bar (long-term demand management)\n",
    "    J_k[1] = p[22][2]*((((1-sum(β_k_t))*u_e_need_t)/p[17][2])^p[23][3]) ###add consideration for gamma_L\n",
    "    \n",
    "    return J_k\n",
    "end;        "
   ]
  },
  {
   "cell_type": "markdown",
   "id": "10516324-88a4-41d9-bf2e-b98486c8d920",
   "metadata": {
    "jp-MarkdownHeadingCollapsed": true,
    "tags": []
   },
   "source": [
    "#### 1.3.3.3 Re-distribute Excess Infrastructure Investments ($\\beta_{kt}$)"
   ]
  },
  {
   "cell_type": "markdown",
   "id": "5d474785-2f19-4b27-8333-c9e52767b184",
   "metadata": {},
   "source": [
    "This function ensures that all expansionary supply needs are addressed through infrastructure investments according to the PIP's priority ($\\beta_k$). If under the $\\beta_k$ priority distribution an infrastructure type $k$ would be raised above its maximum capacity, the excess capacity is distributed among other infrastructure types. Maintenance, by definition, does not move infrastructure capacity beyond its maximum state, so the priority structure only applies for expansion investments."
   ]
  },
  {
   "cell_type": "code",
   "execution_count": 88,
   "id": "3ca3e601-2401-45be-bcf1-c78bd2a379c9",
   "metadata": {},
   "outputs": [],
   "source": [
    "function β_k(x,p,t)\n",
    "    ##Note Supply Needs and Current State\n",
    "    u_e_need_t = ForwardDiff.value(u_e_need(x,p,t))\n",
    "    A_t = ForwardDiff.value(A(x,p,t))\n",
    "    η_t = ForwardDiff.value(x[15])\n",
    "    μ_t = ForwardDiff.value(μ(x,p,t))\n",
    "    C_v_s_t = ForwardDiff.value(x[13])\n",
    "    υ_bar_s_t = ForwardDiff.value(x[5])\n",
    "    Vbar_s_t = ForwardDiff.value(Vbar_s(x,p,t))\n",
    "    Vbar_g_t = ForwardDiff.value(Vbar_g(x,p,t))\n",
    "    μ_s_t = ForwardDiff.value(x[11])\n",
    "    μ_g_t = ForwardDiff.value(x[12])\n",
    "    w_max_s_t = ForwardDiff.value(w_max_s(x,p,t))\n",
    "    w_max_g_t = ForwardDiff.value(w_max_g_proj(x,p,t))\n",
    "    w_s_t = ForwardDiff.value(x[7])\n",
    "    w_g_t = ForwardDiff.value(x[8])\n",
    "    η_proj_t = ForwardDiff.value(η_proj(x,p,t))\n",
    "    υ_bar_proj_s_t = ForwardDiff.value(υbar_proj_s(x,p,t))\n",
    "    w_proj_s_t = ForwardDiff.value(w_proj_s(x,p,t))\n",
    "    w_proj_g_t = ForwardDiff.value(w_proj_g(x,p,t))\n",
    "    \n",
    "    #Initialize Vectors for default β_k, default β_dbar_0, counting excess, and noting whether an infrastructure has excess \n",
    "    β_k_t = copy(p[19])\n",
    "    β_dbar_0 = 1-sum(β_k_t)\n",
    "    excess_k = zeros(length(β_k_t))\n",
    "    β_over = zeros(length(β_k_t))\n",
    "    β_max = zeros(length(β_k_t))\n",
    "    \n",
    "    ##gather excess β\n",
    "    for k in 1:length(β_k_t)\n",
    "        if(β_k_t[k] > 0) #if it is currently being targeted for expansion investments\n",
    "            #Record what would be the supply increase if using the default β\n",
    "            u_pot = β_k_t[k]*u_e_need_t\n",
    "            u_max = u_pot + 1 #in case u_max is not initialized, u_pot will not trigger an excess count\n",
    "            \n",
    "            #Calculate Maximum Possible Supply Increases for Each Infrastructure\n",
    "            if(k==1) #delivery efficiency\n",
    "                u_max = A_t*(p[11] - η_proj_t)\n",
    "            elseif(k==2) #storage capacity\n",
    "                u_max = μ_t*C_v_s_t*(p[12][1] - υ_bar_proj_s_t)\n",
    "            elseif(k==3) #surface processing\n",
    "                u_max = (Vbar_s_t + μ_s_t)*(w_max_s_t - w_proj_s_t)\n",
    "            elseif(k==4) #ground processing\n",
    "                u_max = (Vbar_g_t + μ_g_t)*(w_max_g_t - w_proj_g_t)\n",
    "            end\n",
    "            \n",
    "            #Note the limit to how much beta can be associated with a certain infrastructure type\n",
    "            β_max[k] = ifelse(u_max<0,0,u_max/u_e_need_t)\n",
    "            \n",
    "            #If Potential Excess, Note it \n",
    "            if(u_pot > u_max)\n",
    "                excess_k[k] = (u_pot - u_max)/u_e_need_t\n",
    "                if(excess_k[k] > β_k_t[k]) #if u_max neg, excess > β, so all is excess \n",
    "                    excess_k[k] = β_k_t[k]\n",
    "                end\n",
    "                β_over[k]=1\n",
    "            end\n",
    "        end\n",
    "    end\n",
    "    \n",
    "    ############Redistribute excess β among available infrastructure types################\n",
    "    β_k_new = copy(β_k_t) #vector with final new β values\n",
    "    excess = sum(excess_k) # Total excess to be re-distributed\n",
    "    incr = zeros(length(β_k_t)) #Increase in β for each infrastructure type\n",
    "    \n",
    "    #Calculate magnitude of available β to be proportioned\n",
    "    avail = β_dbar_0\n",
    "    for k in 1:length(β_k_t)\n",
    "        if(β_over[k]==0)\n",
    "            avail += β_k_t[k]\n",
    "        end\n",
    "    end\n",
    "    \n",
    "    #Remove Excess from First Identified Infrastructure Types\n",
    "    for k in 1:length(β_k_t)\n",
    "        if(β_over[k]==1)\n",
    "            β_k_new[k] = β_max[k]\n",
    "        end \n",
    "    end\n",
    "    \n",
    "    #Continue making attempted re-distributions until no other infrastructure types are pushed over their limit\n",
    "    new_overs=ifelse(excess>0,true,false)\n",
    "    β_over2 = copy(β_over)\n",
    "    \n",
    "    counter=0\n",
    "    while(new_overs)\n",
    "        counter+=1\n",
    "        new_overs = false\n",
    "        for k in 1:length(β_k_t)\n",
    "            if(β_k_t[k] > 0) #if it is currently being targeted for expansion investments\n",
    "                if(β_over2[k]==0) #if it has not hit its limit\n",
    "                    #Use Current Proportional Split to Create a Potential New β\n",
    "                    β_new_pot_k = β_k_t[k]*(1 + (excess/avail))\n",
    "                    \n",
    "                    #If it would push the infrastructure type over the limit, note it (β_over and new_overs), set the new β to β_max, and alter the excess and available\n",
    "                    if(β_new_pot_k > β_max[k])\n",
    "                        #Note the new exceedence\n",
    "                        β_over2[k]=1\n",
    "                        new_overs=true\n",
    "                        #Set to max\n",
    "                        β_k_new[k]=β_max[k]\n",
    "                        #Lower total excess\n",
    "                        excess -= (β_k_new[k]-β_k_t[k])\n",
    "                        #Lower available\n",
    "                        avail -= β_k_t[k]\n",
    "                    end\n",
    "                end\n",
    "            end\n",
    "        end\n",
    "        \n",
    "        if(counter>10)\n",
    "            print(\"Error: too many loops\")\n",
    "            new_overs=false\n",
    "        end\n",
    "    end\n",
    "    \n",
    "    \n",
    "    #redistribute to available βs and take excess from over βs\n",
    "    for k in 1:length(β_k_t)\n",
    "        if(β_k_t[k] > 0) #if it is currently being targeted for expansion investments\n",
    "            if(β_over2[k]==0) #if it has not hit its limit\n",
    "                #Distribute remaining available β according to remaining proportional priority \n",
    "                β_k_new[k]= β_k_t[k]*(1 + (excess/avail))\n",
    "            end\n",
    "        end\n",
    "    end\n",
    "    \n",
    "    return β_k_new\n",
    "end;"
   ]
  },
  {
   "cell_type": "markdown",
   "id": "e05cca1e-66f6-41c1-85cd-af234cefc824",
   "metadata": {
    "jp-MarkdownHeadingCollapsed": true,
    "tags": []
   },
   "source": [
    "#### 1.3.3.4 Total Needed Investments (in dollars) ($J^{need}$)"
   ]
  },
  {
   "cell_type": "markdown",
   "id": "5aa1f7d3-14b2-4149-9ab2-9144d34507e0",
   "metadata": {},
   "source": [
    "$\n",
    "J^{need}_{k,t} = J^{e,need}_{k,t} + J^{m,need}_{k,t}\n",
    "$"
   ]
  },
  {
   "cell_type": "code",
   "execution_count": 89,
   "id": "41962489-31e7-49ba-8a8f-1cbf5c329a41",
   "metadata": {},
   "outputs": [],
   "source": [
    "function J_k_need(x,p,t)\n",
    "    J_k_m_need_t = J_k_m_need(x,p,t)\n",
    "    J_k_e_need_t = J_k_e_need(x,p,t)\n",
    "    \n",
    "    J_k_need_t = J_k_e_need_t .+ J_k_m_need_t\n",
    "    \n",
    "    return J_k_need_t\n",
    "end;"
   ]
  },
  {
   "cell_type": "markdown",
   "id": "a0767d8e-54d6-4cba-9ce8-7d4ce700e2b8",
   "metadata": {
    "jp-MarkdownHeadingCollapsed": true,
    "tags": []
   },
   "source": [
    "#### 1.3.3.5 Maximum Possible Investment ($\\bar{J}$)"
   ]
  },
  {
   "cell_type": "markdown",
   "id": "4e6a1444-969a-4b10-9215-cea6f0d14875",
   "metadata": {},
   "source": [
    "$\n",
    "\\bar{J}_t = \\frac{\\tau_b\\left(\\bar{R}_{t+1} - {C}^{o,proj}_{t+1}\\right)}{\\gamma_r\\left(1 + \\tau_bi_b \\right)} + R_t - C^{o}_t - \\left(1 + i_b \\right)\\tau_b \\tilde{J}^{b}_{t}\n",
    "$\n",
    "\n",
    "where, \n",
    "$\n",
    "\\bar{R}_{t+1} = P^{proj,1}_t \\psi_r \\hat{\\pi}_t = P^{proj,1}_t \\psi_r f_t \\bar{\\pi}\n",
    "$"
   ]
  },
  {
   "cell_type": "code",
   "execution_count": 90,
   "id": "5cd1188d-a0d4-4f8f-8ccc-7dc5dda214b6",
   "metadata": {
    "tags": []
   },
   "outputs": [],
   "source": [
    "function J_bar(x,p,t)\n",
    "    #Determine Maximum Revenue to get in next year if pursued the highest rate increase possible\n",
    "    if(x[17] > (1-p[18][2])) #check to see if there is room to raise by ψ_r\n",
    "        max_change = (1-x[17])/x[17]\n",
    "    else\n",
    "        max_change = p[18][2]\n",
    "    end\n",
    "    \n",
    "    R_max = P_proj_1(x,p,t)*(1+max_change)*p[2]*x[17]\n",
    "    \n",
    "    #Calculate the Terms in the J_bar equation\n",
    "    incr = (p[31]*(R_max-C_o_proj(x,p,t)))/(p[17][3]*(1+p[31]*p[32]))\n",
    "    \n",
    "    NetOp = R(x,p,t)-C_o(x,p,t)\n",
    "\n",
    "    J_bar = incr + NetOp - (1+p[32])*p[31]*x[18]\n",
    "    \n",
    "    return J_bar\n",
    "end;"
   ]
  },
  {
   "cell_type": "markdown",
   "id": "20ef47c6-4408-4285-a82e-4ddc347cc626",
   "metadata": {
    "jp-MarkdownHeadingCollapsed": true,
    "tags": []
   },
   "source": [
    "#### 1.3.3.6 Final Pursued Investment (After Saturation Checking) ($J$ & $u_{2,k}$)"
   ]
  },
  {
   "cell_type": "code",
   "execution_count": 91,
   "id": "4fb2b314-8ce7-41a8-adca-1d20193989ce",
   "metadata": {},
   "outputs": [],
   "source": [
    "function J_k(x,p,t)\n",
    "    #Note current investment needs and investment constraints\n",
    "    J_k = copy(J_k_need(x,p,t))\n",
    "    J_need_t = sum(J_k)\n",
    "    J_bar_t = ForwardDiff.value(J_bar(x,p,t))\n",
    "    \n",
    "    #If needs surpass constraint, proportionally decrease investment need\n",
    "    if(J_need_t > J_bar_t)\n",
    "        J_k = J_k.*(J_bar_t/J_need_t)\n",
    "    end\n",
    "    \n",
    "    return J_k\n",
    "end;"
   ]
  },
  {
   "cell_type": "code",
   "execution_count": 92,
   "id": "bd442f4f-844b-40ae-9dcd-dd7d32b2c3e4",
   "metadata": {},
   "outputs": [],
   "source": [
    "J(x,p,t) = sum(J_k(x,p,t));"
   ]
  },
  {
   "cell_type": "code",
   "execution_count": 93,
   "id": "3f7b811c-8762-4424-9354-78ffe6d6dc28",
   "metadata": {},
   "outputs": [],
   "source": [
    "function u_2_k(x,p,t)\n",
    "    u_2_k = zeros(7) \n",
    "    J_k_t = J_k(x,p,t)\n",
    "    η_t = ForwardDiff.value(x[15])\n",
    "    \n",
    "    for k in 1:7\n",
    "        if(J_k_t[k]>0)\n",
    "            if(k==2)\n",
    "                u_2_k[k] = (1/η_t)*(((1/p[22][k+1])*(J_k_t[k]))^(1/p[23][k+2]))\n",
    "            else\n",
    "                u_2_k[k] = ((1/p[22][k+1])*(J_k_t[k]))^(1/p[23][k+2])\n",
    "            end\n",
    "        end\n",
    "    end\n",
    "    \n",
    "    return u_2_k\n",
    "end;"
   ]
  },
  {
   "cell_type": "markdown",
   "id": "0a8616b0-8225-4c8c-924d-ca85fe4eff9b",
   "metadata": {
    "jp-MarkdownHeadingCollapsed": true,
    "tags": []
   },
   "source": [
    "##### Direct Revenue-Sourced Investments ($J^o$) & Bond-Sourced Investments ($J^b$)"
   ]
  },
  {
   "cell_type": "code",
   "execution_count": 94,
   "id": "6b94489d-2531-4745-a7bc-d3a1ec2759f7",
   "metadata": {},
   "outputs": [],
   "source": [
    "function J_o(x,p,t)\n",
    "    J_t = J(x,p,t)\n",
    "    J_o_max = R(x,p,t) - C_o(x,p,t) - C_d(x,p,t)\n",
    "    \n",
    "    return min(J_o_max, J_t)\n",
    "end;"
   ]
  },
  {
   "cell_type": "code",
   "execution_count": 95,
   "id": "bd8b8da4-6bb0-4168-9598-20feaca3a2fe",
   "metadata": {},
   "outputs": [],
   "source": [
    "function J_b(x,p,t)\n",
    "    J_t = J(x,p,t)\n",
    "    J_o_t = J_o(x,p,t)\n",
    "    \n",
    "    return max(J_t - J_o_t, 0)\n",
    "end;"
   ]
  },
  {
   "cell_type": "markdown",
   "id": "405776eb-8869-46ea-a243-c755dbdd8c3d",
   "metadata": {
    "jp-MarkdownHeadingCollapsed": true,
    "tags": []
   },
   "source": [
    "##### Pursued Maintenance ($J^m$) and Expansion ($J^e$) Investments"
   ]
  },
  {
   "cell_type": "code",
   "execution_count": 96,
   "id": "7506c028-224b-43b3-959a-85fc7b5da8b2",
   "metadata": {},
   "outputs": [],
   "source": [
    "function J_m(x,p,t)\n",
    "    return min(J_m_need(x,p,t), J(x,p,t)) \n",
    "end;"
   ]
  },
  {
   "cell_type": "code",
   "execution_count": 97,
   "id": "2dd2c666-02e0-4739-a759-5e54d4448879",
   "metadata": {},
   "outputs": [],
   "source": [
    "function J_e(x,p,t)\n",
    "    return max(J(x,p,t) - J_m(x,p,t), 0)\n",
    "end;"
   ]
  },
  {
   "cell_type": "markdown",
   "id": "7c449d23-c584-4abd-9789-78d46e805bd6",
   "metadata": {
    "jp-MarkdownHeadingCollapsed": true,
    "tags": []
   },
   "source": [
    "### 1.3.4 Controller Response: Rate-Setting ($u_3$)"
   ]
  },
  {
   "cell_type": "markdown",
   "id": "65d52d19-9a11-4a76-898b-fbd04e21a9ac",
   "metadata": {},
   "source": [
    "$\n",
    "u_{3,t} = \\frac{\\hat{C}^d_t}{\\bar{\\pi} P_t} e_{3t} Y_{3t}\n",
    "$\n",
    "\n",
    "*Note that f_change cannot rise above $\\psi_r$, the maximum rate increase constraint"
   ]
  },
  {
   "cell_type": "code",
   "execution_count": 98,
   "id": "ead5904e-3ee7-4959-8921-3b797fb390a0",
   "metadata": {},
   "outputs": [],
   "source": [
    "function u_3(x,p,t)\n",
    "    f_change = (1/(P(x,p,t)*p[2]))*C_d_need(x,p,t)*e_3(x,p,t)*Y_3(x,p,t)\n",
    "    \n",
    "    #Check for maximum rate increase limit\n",
    "    if(f_change+x[17] > 1)\n",
    "        f_change = 1 - x[17]\n",
    "    elseif(f_change/x[17] > p[18][2])\n",
    "        f_change = p[18][2]*x[17]\n",
    "    end\n",
    "    \n",
    "    return f_change\n",
    "end;"
   ]
  },
  {
   "cell_type": "markdown",
   "id": "f87d748b-3aa7-49ef-818e-8ea20fbd9acb",
   "metadata": {
    "jp-MarkdownHeadingCollapsed": true,
    "tags": []
   },
   "source": [
    "### 1.3.5 Controller Unifying Equation ($u$)"
   ]
  },
  {
   "cell_type": "code",
   "execution_count": 99,
   "id": "ac2c91ee-e9cc-40d8-9956-66dbe7766ad4",
   "metadata": {},
   "outputs": [],
   "source": [
    "function u(x,p,t)\n",
    "    u_2_k_t = u_2_k(x,p,t)\n",
    "    u_1_t = ForwardDiff.value(u_1(x,p,t))\n",
    "    u_3_t = ForwardDiff.value(u_3(x,p,t))\n",
    "    \n",
    "    u = copy(u_2_k_t)\n",
    "    push!(u,u_1_t)\n",
    "    push!(u,u_3_t)\n",
    "    \n",
    "    return u\n",
    "end;"
   ]
  },
  {
   "cell_type": "markdown",
   "id": "d7ea3648-8d81-41aa-b3e2-b29bcd4df81c",
   "metadata": {
    "jp-MarkdownHeadingCollapsed": true,
    "tags": []
   },
   "source": [
    "## 1.4 Equations of Motion"
   ]
  },
  {
   "cell_type": "markdown",
   "id": "d43d39d2-89c3-4dee-8d3c-3735b397662b",
   "metadata": {},
   "source": [
    "15 non-dimensional dynamic variables are stored throughout the run of the dynamical system model. Note: $xnew = x_{t+1}$\n",
    "\n",
    "**1. Population ($p=\\frac{P}{K}$)**: $xnew[1] = p_{t+1} = p_t(1+r(1-p_t) + m_i(1-Y^s_t) - m_o Y^s_t)$ \n",
    "\n",
    "**2. Per Capita Demand ($\\chi=\\frac{d}{\\bar{\\chi}\\mu}$)**: $xnew[2] = \\chi_{t+1} = \\chi_t(1 + \\delta_d(1-\\frac{\\chi_t}{\\bar{\\chi}_t})) + \\frac{u^d_t}{\\mu_t}$ \n",
    "\n",
    "**3-4. Reservoir Volume ($\\upsilon=\\frac{V}{\\bar{V}}$)**: $xnew[3] = \\upsilon_{t+1} = \\upsilon_t + \\frac{ q_t - \\frac{O_t(\\cdot)}{\\mu}}{\\beta_tC_{vt}}$\n",
    "\n",
    "Phoenix Version: $\\upsilon_{t+1} = \\upsilon_t + \\frac{\\theta_3q^3_t + \\frac{Q^b_t}{\\mu_3}- \\frac{O_t(\\cdot)}{\\mu_3}}{\\beta_tC_v}$\n",
    "\n",
    "**5-6. Storage Capacity ($\\beta = \\frac{\\bar{V}}{C_v\\mu}$)**: $xnew[5] = \\beta_{t+1} = \\beta_t (1-\\delta_v) + \\frac{u^{\\bar{v}}_{t}}{C_{vt}\\mu_t}$  \n",
    "\n",
    "**7-8. Processing Capacity ($w = \\frac{\\bar{O}}{\\bar{V}+\\mu}$): $xnew[7] = w_{t+1} = w_t (1-\\delta_w) + \\frac{u^w_t}{\\bar{V}_t+\\mu_t}$\n",
    "\n",
    "**9. Surface Inflow ($q^s=\\frac{Q^s}{\\mu^s}$)**: $xnew[9] = q^s_{t+1} = q^s_{ac}(q^s_{t}-1) +C^s_{v,t} \\sqrt{1-(q^s_{ac})^2}N(0,1)+1$ \n",
    "\n",
    "**10. Ground Inflow ($q^g=\\frac{Q^g}{\\mu^g}$)**: $xnew[10] = q^g_{t+1} = q^g_{ac}(q^g_{t}-1) +C^g_{v,t} \\sqrt{1-(q^g_{ac})^2}N(0,1)+1$ \n",
    "\n",
    "**11-12. Mean Inflow($\\mu$)**: $xnew[11] = \\mu_{t+1} = \\mu_t + u^\\mu_t$\n",
    "\n",
    "**15. Delivery Efficiency ($\\eta$)**: $xnew[15] = \\eta_{t+1} = \\eta_t(1-\\delta_\\eta) + \\frac{u^{\\eta}_t}{A_t}$\n",
    "\n",
    "**16. Baseline Demand ($\\bar{\\chi}=\\frac{\\bar{d}}{\\mu}$)**: $xnew[16] = \\bar{\\chi}_{t+1} = \\bar{\\chi}_t - \\frac{u^\\bar{d}_t}{\\mu_t}$\n",
    "\n",
    "**17. Rates ($f=\\frac{\\pi}{\\bar{\\pi}}$)**: $xnew[17] = f_{t+1} = f_t + \\Delta f_t$\n",
    "\n",
    "**18-end. Planned Investment ($u^*$)**: see if-else statements in the function below"
   ]
  },
  {
   "cell_type": "markdown",
   "id": "7963a5a3-0653-41d4-bef2-cd4c72a1f6c6",
   "metadata": {
    "tags": []
   },
   "source": [
    "#### Water System Equations of Motion"
   ]
  },
  {
   "cell_type": "markdown",
   "id": "2b0dd04e-6760-4d1c-b0f4-dee87e7c59b2",
   "metadata": {
    "jp-MarkdownHeadingCollapsed": true,
    "tags": []
   },
   "source": [
    "##### Implement or Store Long-Term Investment"
   ]
  },
  {
   "cell_type": "code",
   "execution_count": 100,
   "id": "102be217-853c-4354-9b3c-348d372a5aa2",
   "metadata": {},
   "outputs": [],
   "source": [
    "function ImplementOrStoreLTInvest(x,u,p,t)\n",
    "    tf = convert(Float64, t)\n",
    "    u_impl_k = zeros(length(u)-2) #vector for total investments that will be implemented\n",
    "    u_m_k = zeros(length(u)-2) #vector for maintenance investments that will be implemented\n",
    "    \n",
    "    ####Note Maintenance Investments for Relevant Infrastructures\n",
    "    u_m_k[2] = min(u_m_η(x,p,t), copy(u[2]))\n",
    "    u_impl_k[2] = u_m_k[2]\n",
    "    u_m_k[3] = min(u_m_v(x,p,t), copy(u[3]))\n",
    "    u_impl_k[3] = u_m_k[3]\n",
    "    u_m_k[4] = min(u_m_w_s(x,p,t), copy(u[4]))\n",
    "    u_impl_k[4] = u_m_k[4]\n",
    "    u_m_k[5] = min(u_m_w_g(x,p,t), copy(u[5]))\n",
    "    u_impl_k[5] = u_m_k[5]\n",
    "    \n",
    "    ############Store Un-Implemented Investments\n",
    "    u_plan_k = zeros(planInvestMemorySize(p))\n",
    "    \n",
    "    ############Decide Whether a Potential Investment will be Implemented based on τ_i\n",
    "    counter = 1 #index to keep track of place\n",
    "    for k in 1:length(u_impl_k)\n",
    "        if(p[16][k]==1) ####If τ_i is 1 there is no need for planning or separately accounting for maintenance \n",
    "            u_impl_k[k] = copy(u[k])\n",
    "        else\n",
    "            u_ready = ForwardDiff.value(x[counter+18]) #Note the investments that will be implemented in t \n",
    "            \n",
    "            u_impl_k[k] = u_impl_k[k] + u_ready #implement the next investment in the queue\n",
    "            \n",
    "            if(p[16][k]>2)\n",
    "                for c in 3:p[16][k] #move up past investments in the queue\n",
    "                    u_next = ForwardDiff.value(x[counter+19])\n",
    "                    u_plan_k[counter] = u_next\n",
    "                    counter += 1\n",
    "                end\n",
    "            end\n",
    "            \n",
    "            u_plan_k[counter] = u[k] - u_m_k[k] #store non-maintenance investments made in year t\n",
    "            counter += 1\n",
    "        end\n",
    "    end\n",
    "    \n",
    "    ############Return Implemented Investments & New Stored Investments\n",
    "    return [u_impl_k, u_plan_k]\n",
    "end;"
   ]
  },
  {
   "cell_type": "markdown",
   "id": "ab714616-1237-47d6-a368-be85fb075237",
   "metadata": {
    "jp-MarkdownHeadingCollapsed": true,
    "tags": []
   },
   "source": [
    "##### Update Infrastructure"
   ]
  },
  {
   "cell_type": "code",
   "execution_count": 101,
   "id": "78bd0803-cf60-43ac-bed2-7c2b8061660d",
   "metadata": {},
   "outputs": [],
   "source": [
    "function UpdateInfrastructure(x,u_impl,C_v_new,p,t) #H is the implemented H for that year\n",
    "    #####Setup Vectors & Adjust for ForwardDiff\n",
    "    I_t = [ForwardDiff.value(x[16])]\n",
    "    push!(I_t, ForwardDiff.value(x[15]))\n",
    "    push!(I_t, ForwardDiff.value(x[5]))\n",
    "    push!(I_t, ForwardDiff.value(x[7]))\n",
    "    push!(I_t, ForwardDiff.value(x[8]))\n",
    "    push!(I_t, ForwardDiff.value(x[11]))\n",
    "    push!(I_t, ForwardDiff.value(x[12]))\n",
    "    I_new = copy(I_t)\n",
    "    \n",
    "    ###Note Other Variables that Have to be Adjusted for ForwardDiff\n",
    "    C_v_old = [ForwardDiff.value(x[13]) ForwardDiff.value(x[14])]\n",
    "    υ_bar_g_old = ForwardDiff.value(x[6])\n",
    "    P_t = ForwardDiff.value(P(x,p,t))\n",
    "    A_t = ForwardDiff.value(A(x,p,t))\n",
    "    u_k_t=zeros(7)\n",
    "    for k in 1:7\n",
    "        u_k_t[k]=ForwardDiff.value(u_impl[k])\n",
    "    end\n",
    "    \n",
    "    #########Inflow\n",
    "    #Surface\n",
    "    if(p[25][1] == 2) #sudden change scenario\n",
    "        if(p[24] == 1) #PMA Case\n",
    "            I_new[6] = ifelse(t == p[25][3]-1, (1+p[25][2])*(I_t[6]-p[1][3]) + p[1][3], I_t[6]) + u_k_t[6]\n",
    "        else\n",
    "            I_new[6] = ifelse(t == p[25][3]-1, (1+p[25][2])*I_t[6], I_t[6]) + u_k_t[6]\n",
    "        end\n",
    "    else #no change scenario\n",
    "        I_new[6] = I_t[6] + u_impl_k[6]\n",
    "    end  \n",
    "    \n",
    "    #Ground - currently no groundwater change scenario\n",
    "    I_new[7] = I_t[7] + u_k_t[7] \n",
    "    \n",
    "    ########Storage Capacity\n",
    "    ##Surface\n",
    "    υ_max_s_2 = I_t[3]*((C_v_old[1]*I_t[6])/(C_v_new[1]*I_new[6]))\n",
    "    H_vbar_t2 = u_k_t[3]/(C_v_new[1]*I_new[6]) #Convert volumetric investment to storage capacity relevant units\n",
    "    I_new[3] = υ_max_s_2*(1-p[15][4]) + H_vbar_t2;\n",
    "    \n",
    "    ##Ground\n",
    "    υ_max_g_2 = υ_bar_g_old*((C_v_old[2]*I_t[7])/(C_v_new[2]*I_new[7]))\n",
    "    υ_bar_g_new = υ_max_g_2\n",
    "    \n",
    "    ########Processing Capacity\n",
    "    #Surface\n",
    "    w_s_2 = I_t[4]*((I_t[6]*(I_t[3]*C_v_old[1]+1))/(I_new[6]*(I_new[3]*C_v_new[1]+1)))\n",
    "    H_w_s_t2 = u_k_t[4]/(I_new[6]*(I_new[3]*C_v_new[1]+1)) #Convert volumetric investment to processing capacity relevant units\n",
    "    I_new[4] = w_s_2*(1-p[15][5]) + H_w_s_t2; #SW pumping capacity\n",
    "    \n",
    "    #Ground\n",
    "    w_g_2 = I_t[5]*((I_t[7]*(υ_bar_g_old*C_v_old[2]+1))/(I_new[7]*(υ_bar_g_new*C_v_new[2]+1)))\n",
    "    H_w_g_t2 = u_k_t[5]/(I_new[7]*(υ_bar_g_new*C_v_new[2]+1)) #Convert volumetric investment to processing capacity relevant units\n",
    "    I_new[5] = w_g_2*(1-p[15][6]) + H_w_g_t2; #GW pumping capacity\n",
    "    \n",
    "    ########Delivery Efficiency\n",
    "    η_next=I_t[2]*(1-p[15][3]) +  u_k_t[2]/A_t #Convert volumetric investment to delivery efficiency relevant units and add to existing delivery efficiency\n",
    "    I_new[2]=ifelse(η_next>p[11],p[11],η_next)\n",
    "    \n",
    "    ########Long-Term Demand Management\n",
    "    χbar_2 = I_t[1]*((I_t[6]+I_t[7])/(I_new[6]+I_new[7]))\n",
    "    H_dbar_t2 = u_k_t[1]/((I_new[6]+I_new[7])*P_t) #Convert volumetric investment to demand management relevant units\n",
    "    I_new[1] = χbar_2*(1-p[15][2]) - H_dbar_t2;\n",
    "    \n",
    "    ########Return Outputs\n",
    "    return [I_new, υ_bar_g_new]\n",
    "end;"
   ]
  },
  {
   "cell_type": "markdown",
   "id": "61ea06bf-cf5c-437b-b762-7ba1f3024374",
   "metadata": {
    "jp-MarkdownHeadingCollapsed": true,
    "tags": []
   },
   "source": [
    "##### Water Users"
   ]
  },
  {
   "cell_type": "code",
   "execution_count": 102,
   "id": "0f0ce406-3230-4de1-b58c-8ff437b86b6c",
   "metadata": {},
   "outputs": [],
   "source": [
    "function updateUsers(x,I_new,p,t)\n",
    "    ######Population Dynamics - Logistic Growth\n",
    "    p_new = x[1]*(1 + p[6]*(1-x[1])) \n",
    "    \n",
    "    ######Per-Capita Demand Dynamics\n",
    "    d_ST_t = d_ST(x,p,t)\n",
    "    χ_ST_t = d_ST_t/μ(x,p,t) #Convert d_ST to χ units\n",
    "    χ_ST_2 = χ_ST_t*((x[11]+x[12])/(I_new[6]+I_new[7])) #Re-calibrate χ_ST to new streamflow context \n",
    "    χbar_2 = x[16]*((x[11]+x[12])/(I_new[6]+I_new[7])) #Re-calibrate χbar to new streamflow context\n",
    "    \n",
    "    χ_new = χ_ST_2*(1+p[30]*(1-(χ_ST_2/χbar_2))) #Calculate new PC demand in χ units \n",
    "    if(χ_new < p[14]/(I_new[6]+I_new[7])) #Check that new PC demand is above minimum per capita demand\n",
    "        χ_new = p[14]/(I_new[6]+I_new[7])\n",
    "    end\n",
    "    \n",
    "    ##########Return Outupts\n",
    "    return [p_new χ_new]\n",
    "end;"
   ]
  },
  {
   "cell_type": "markdown",
   "id": "7d489f22-5900-4fd2-84d7-765ef95fd600",
   "metadata": {
    "jp-MarkdownHeadingCollapsed": true,
    "tags": []
   },
   "source": [
    "##### Water Balance"
   ]
  },
  {
   "cell_type": "code",
   "execution_count": 103,
   "id": "f13a8a42-4a26-4f48-bdad-b7fc9ee5ee45",
   "metadata": {},
   "outputs": [],
   "source": [
    "function runWaterBalance(x,C_v_new,I_new,υ_bar_g_new,p,t)\n",
    "    #############Reservoir Volume\n",
    "    #####Surface Storage \n",
    "    #Update\n",
    "    υ_s_2 = x[3]*((x[5]*x[13]*x[11])/(I_new[3]*C_v_new[1]*I_new[6])) #Re-calibrate υ to new storage capacity and inflow context\n",
    "    υ_new_s = υ_s_2 + (Q_a_s(x,p,t) - (O_s(x,p,t) + O_f(x,p,t) + Q_b(x,p,t)))/(I_new[3]*C_v_new[1]*I_new[6]);\n",
    "    \n",
    "    #Enforce Bounds\n",
    "    if (υ_new_s>1)\n",
    "        υ_new_s=1\n",
    "    elseif(υ_new_s < 0)\n",
    "        υ_new_s=0\n",
    "    end\n",
    "    \n",
    "    #####Ground Storage\n",
    "    #Update\n",
    "    υ_g_2 = x[4]*((x[6]*x[14]*x[12])/(υ_bar_g_new*C_v_new[2]*I_new[7])) #Re-calibrate υ to new storage capacity and inflow context\n",
    "    υ_new_g = υ_g_2 + (Q_a_g(x,p,t) + Q_b(x,p,t) - O_g(x,p,t))/(υ_bar_g_new*C_v_new[2]*I_new[7])\n",
    "    \n",
    "    #Enforce Bounds\n",
    "    if (υ_new_g>1)\n",
    "        υ_new_g=1\n",
    "    elseif(υ_new_g<0)\n",
    "        υ_new_g=0\n",
    "    end\n",
    "    \n",
    "    ##############Inflows for Next Year\n",
    "    ####Surface\n",
    "    if(p[24]==1)#PMA Case, inflow is just the mean\n",
    "        q_new_s=1\n",
    "    else\n",
    "        q_new_s = p[4][1]*(x[9]-1) + x[13]*sqrt(1-p[4][1]*p[4][1])*randn()+1;\n",
    "    end\n",
    "    \n",
    "    ####Ground\n",
    "    if(p[24]==1)#PMA Case, inflow is just the mean\n",
    "        q_new_g=1\n",
    "    else\n",
    "        q_new_g = p[4][2]*(x[10]-1) + x[14]*sqrt(1-p[4][2]*p[4][2])*randn()+1;\n",
    "    end\n",
    "    \n",
    "    \n",
    "    #########Return Outputs\n",
    "    return [υ_new_s υ_new_g q_new_s q_new_g]\n",
    "end;"
   ]
  },
  {
   "cell_type": "markdown",
   "id": "bb767bdb-b162-4bac-961c-bd5d79f74ace",
   "metadata": {
    "jp-MarkdownHeadingCollapsed": true,
    "tags": []
   },
   "source": [
    "##### Full Plant EOM"
   ]
  },
  {
   "cell_type": "code",
   "execution_count": 104,
   "id": "435c2dff-e44a-4628-b871-9c6277911e02",
   "metadata": {},
   "outputs": [],
   "source": [
    "function WaterSystem(x,u_t,p,t)\n",
    "    #########Initialize Needed Variables\n",
    "    u_2_k_t = u_t[1:(end-1)]\n",
    "    u_1_t = u_t[end-1]\n",
    "    u_3_t = u_t[end]\n",
    "    xnew = copy(x)\n",
    "    \n",
    "    ####################Implement Investments#######################\n",
    "    ############Long-Term\n",
    "    u_update = ImplementOrStoreLTInvest(x,u_t,p,t)\n",
    "    u_impl_k = u_update[1] \n",
    "    u_plan_k = u_update[2] \n",
    "    \n",
    "    ######## Store Planned Investments Made During This Time Period & Their Investment Years############\n",
    "    ##u_plan\n",
    "    for c in 1:length(u_plan_k)\n",
    "        xnew[18+c] = u_plan_k[c]\n",
    "    end\n",
    "    \n",
    "    ####################Update C_v#######################\n",
    "    ## In default case and PMA case, no update to C_v\n",
    "    #Surface\n",
    "    xnew[13] = x[13]\n",
    "    #Ground\n",
    "    xnew[14] = x[14]\n",
    "    \n",
    "    C_v_new = [ForwardDiff.value(xnew[13]) ForwardDiff.value(xnew[14])]\n",
    "    \n",
    "    ####################Update Infrastructure#######################\n",
    "    Infrast_update = UpdateInfrastructure(x,u_impl_k,C_v_new,p,t)\n",
    "    xnew[16] = Infrast_update[1][1] #LT Demand Management\n",
    "    xnew[15] = Infrast_update[1][2] #Delivery Efficiency\n",
    "    xnew[5] = Infrast_update[1][3] #Surface Storage\n",
    "    xnew[6] = Infrast_update[2] #Ground Storage\n",
    "    xnew[7] = Infrast_update[1][4] #Surface Processing Capacity\n",
    "    xnew[8] = Infrast_update[1][5] #Ground Processing Capacity\n",
    "    xnew[11] = Infrast_update[1][6] #Surface Mean Inflows\n",
    "    xnew[12] = Infrast_update[1][7] #Ground Mean Inflows\n",
    "    \n",
    "    ####################Water Balance#######################\n",
    "    WB_new = runWaterBalance(x,C_v_new,Infrast_update[1],Infrast_update[2],p,t)\n",
    "    \n",
    "    xnew[3] = WB_new[1] #Surface Reservoir Volume\n",
    "    xnew[4] = WB_new[2] #Ground Aquifer Volume\n",
    "    xnew[9] = WB_new[3] #Surface Inflows\n",
    "    xnew[10] = WB_new[4] #Ground Inflows\n",
    "    \n",
    "    ####################Water Users#######################\n",
    "    Users_update = updateUsers(x,Infrast_update[1],p,t)\n",
    "    \n",
    "    xnew[1] = Users_update[1]\n",
    "    xnew[2] = Users_update[2]\n",
    "    \n",
    "    ####################Rates & Bond Investments#######################\n",
    "    #Rates\n",
    "    xnew[17] = x[17] + u_3_t \n",
    "    #Average Bond Investment \n",
    "    xnew[18] = (x[18]*(p[31]-1) + J_b(x,p,t))*(1/p[31])\n",
    "    \n",
    "    ##########Return New x\n",
    "    return xnew\n",
    "end;"
   ]
  },
  {
   "cell_type": "markdown",
   "id": "3e96c0e0-1cc7-4881-ae41-eac2397daa74",
   "metadata": {
    "jp-MarkdownHeadingCollapsed": true,
    "tags": []
   },
   "source": [
    "##### All Together EOM"
   ]
  },
  {
   "cell_type": "code",
   "execution_count": 105,
   "id": "b5c6ee0e-9c03-4323-aeec-b2908f392144",
   "metadata": {},
   "outputs": [],
   "source": [
    "function f(xnew,x,p,t)\n",
    "    ########### Setup\n",
    "    ##Convert t to a float\n",
    "    tf = convert(Float64, t)\n",
    "    \n",
    "    ###########Run Controller\n",
    "    u_t = u(x,p,t)\n",
    "    \n",
    "    ###########Run Plant\n",
    "    x_update = WaterSystem(x,u_t,p,t)\n",
    "    \n",
    "    for i in 1:length(x_update)\n",
    "        xnew[i] = x_update[i]\n",
    "    end\n",
    "    \n",
    "    return\n",
    "end;"
   ]
  },
  {
   "cell_type": "markdown",
   "id": "2b60df4f-3d40-499c-a262-f7982ab0adc0",
   "metadata": {
    "jp-MarkdownHeadingCollapsed": true,
    "tags": [],
    "toc-hr-collapsed": true
   },
   "source": [
    "# 2. Model Initialization"
   ]
  },
  {
   "cell_type": "markdown",
   "id": "0f0320db-3ef4-48df-b038-99eacf6f28ec",
   "metadata": {
    "jp-MarkdownHeadingCollapsed": true,
    "tags": []
   },
   "source": [
    "## 2.1 Default Setup (General City)"
   ]
  },
  {
   "cell_type": "markdown",
   "id": "aab7f93a-54cf-414f-bf61-82f0e0b481a0",
   "metadata": {
    "jp-MarkdownHeadingCollapsed": true,
    "tags": []
   },
   "source": [
    "### Parameter & Initial Condition Definitions"
   ]
  },
  {
   "cell_type": "markdown",
   "id": "ff9810e9-b47b-41e8-a02f-8713c80be8c3",
   "metadata": {
    "tags": []
   },
   "source": [
    "The model is initalized using a setup function **Default()** that is pre-programmed with all default parameter and initial condition values. The user can change any initial condition or parameter through arguments in **Default()**. Refer to the table below for the parameters and initial conditions used and what name to use when altering the setup.\n",
    "\n",
    "***Parameters***\n",
    "\n",
    "| Full Parameter Name | Model Variable Name | Definition | Units |Default Value | Allowable Range |\n",
    "| -------------- | ------ | ---------- | ----- |------------- | --------------- |\n",
    "| Max Surface Streamflow Mean | $\\mu$_s_max | Max mean surface inflow that the city can seek | Bgal/yr OR AFY | 200000 | $[0,\\infty)$ |\n",
    "| Max Ground Streamflow Mean | $\\mu$_g_max | Max mean ground inflow (recharge) that the city can seek | Bgal/yr OR AFY | 0 | $[0,\\infty)$ |\n",
    "| Max Per-Capita Revenue | $\\pi$_max | Max revenue that city can extract per citizen | Dollars/person/yr | 400 | $[0, \\infty)$ |\n",
    "| Streamflow Variation Scenario Type | $\\Delta$C_v_scen | Variation Change Type (0 = no change, 1 = gradual, 2 = sudden) | Unitless | 0 | $\\{0,1,2\\}$ |\n",
    "| Surface Streamflow Auto-correlation | $\\rho_s$ | 1-year lagged auto-correlation in surface streamflow | Unitless | 0.2 | $[0,1]$ |\n",
    "| Ground Inflow Auto-correlation | $\\rho_g$ | 1-year lagged auto-correlation in ground inflow | Unitless | 0 | $[0,1]$ |\n",
    "| Carrying Capacity | $\\kappa$ | Population carrying capacity | Unitless | 1500000 | $(0, \\infty)$ |\n",
    "| Intrinsic Growth Rate | r | logistically fit, intrinsic growth rate of population | Unitless | 0.1 | $(0,\\infty)$ |\n",
    "| Max Delivery Efficiency | $\\eta$_max | Max attainable delivery efficiency | Unitless | 2.0 | $[0, 2]$ |\n",
    "| Max Surface Storage Capacity | $\\bar{\\upsilon}$_max_s | Max feasible surface storage capacity (multiple of inflow standard deviation) | Unitless | 12 | $[0, \\infty)$ |\n",
    "| Max Ground Storage Capacity | $\\bar{\\upsilon}$_max_g | Max feasible ground storage capacity (multiple of inflow standard deviation) | Unitless | 40 | $[0, \\infty)$ |\n",
    "| Max Legal Use of Ground Storage | a_gv | Max legally allowed use of ground storage (proportion) | Unitless | 1 | $[0,1]$ |\n",
    "| Max Legal Use of Ground Inflow | a_gq | Max legally allowed use of ground inflow (proportion) | Unitless | 1 | $[0,1]$ |\n",
    "| Max Legal Use of Surface Storage | a_sv | Max legally allowed use of surface storage (proportion) | Unitless | 1 | $[0,1]$ |\n",
    "| Max Legal Use of Surface Inflow | a_sq | Max legally allowed use of surface inflow (proportion) | Unitless | 1 | $[0,1]$ |\n",
    "| Min Per Capita Use | d_min | Min possible per-capita demand | (Bgal/yr OR AFY)/person | 0.04 | $[0, \\infty)$ |\n",
    "| Background Conservation Rate | $\\delta$_dbar | Annual decay rate of long-term conservation measures (background) | Unitless | 0.0116 | $[0,1]$ |\n",
    "| Surface Storage Decay Rate | $\\delta$_v | Annual decay rate of surface storage capacity | Unitless | 0.001 | $[0,1]$ |\n",
    "| Delivery Efficiency Decay Rate | $\\delta$_$\\eta$ | Annual decay rate of delivery efficiency | Unitless | 0.001 | $[0,1]$ |\n",
    "| Surface Processing Decay Rate | $\\delta$_w_s | Annual decay rate of surface processing capacity | Unitless | 0.001 | $[0,1]$ |\n",
    "| Ground Processing Decay Rate | $\\delta$_w_g | Annual decay rate of ground processing capacity | Unitless | 0.001 | $[0,1]$ |\n",
    "| LT Demand Mgmt Implementation Time | $\\tau$_d | Time to implement long-term demand management | yrs | 3 | $[1,\\infty)$ |\n",
    "| Delivery Efficiency Impl Time | $\\tau$_$\\eta$ | Time to implement delievery efficiency improvements | yrs | 4 | $[1,\\infty)$ |\n",
    "| Storage Capacity Impl Time | $\\tau$_v | Time to implement surface storage capacity improvements | yrs | 5 | $[1,\\infty)$ |\n",
    "| Surface Processing Impl Time | $\\tau$_w_s | Time to implement surface processing capacity improvements | yrs | 3 | $[1,\\infty)$ |\n",
    "| Ground Processing Impl Time | $\\tau$_w_g | Time to implement ground processing capacity improvements | yrs | 3 | $[1,\\infty)$ |\n",
    "| Surface Flow Augmentation Impl Time | $\\tau$_$\\mu$_s | Time to implement surface flow augmentation improvements | yrs | 4 | $[1,\\infty)$ |\n",
    "| Ground Flow Augmentation Impl Time | $\\tau$_$\\mu$_g | Time to implement ground flow augmentation improvements | yrs | 4 | $[1,\\infty)$ |\n",
    "| Short-Term Goal Supply Sufficiency | $\\gamma$_1 |  Goal short-term proportion between supply and demand | Unitless | 1 | $[0,\\infty)$ |\n",
    "| Long-Term Goal Supply Buffer | $\\gamma$_2 | Goal long-term proportion between supply and demand | Unitless | 1.2 | $[0,\\infty)$ |\n",
    "| Minimum Debt Service Coverage Ratio | $\\gamma$_3 | Minimum Debt Service Coverage Ratio Allowed in any Year | unitless | 2 | $[0,\\infty)$ |\n",
    "| Max Rate Increase | $\\psi$_r | Max possible proportional increase in rates | Unitless | 0.06 | $[0,\\infty)$ |\n",
    "| Delivery Efficiency Priority | $\\beta$_$\\eta$ | Proportion of long-term investments directed to delivery efficiency | Unitless | 0.2 | $[0,1]$ |\n",
    "| Storage Capacity Priority | $\\beta$_v | Proportion of long-term investments directed to surface storage capacity | Unitless | 0.4 | $[0,1]$ |\n",
    "| Surface Processing Priority | $\\beta$_w_s | Proportion of long-term investments directed to surface processing capacity | Unitless | 0.3 | $[0,1]$ |\n",
    "| Ground Processing Priority | $\\beta$_w_g | Proportion of long-term investments directed to ground processing capacity | Unitless | 0 | $[0,1]$ |\n",
    "| Surface Augmentation Priority | $\\beta$_$\\mu$_s | Proportion of long-term investments directed to surface flow augmentation | Unitless | 0 | $[0,1]$ |\n",
    "| Ground Augmentation Priority | $\\beta$_$\\mu$_g | Proportion of long-term investments directed to ground flow augmentation | Unitless | 0 | $[0,1]$ |\n",
    "| Short-Term Curtailment Sensitivity | $\\lambda$_1 | Sensitivity (inst. friction component) in short-term investment | Unitless | 22 | $[0, \\infty)$ |\n",
    "| Long-Term Investment Sensitivity | $\\lambda$_2 | Sensitivity (inst. friction component) in long-term investment | Unitless | 22 | $[0, \\infty)$ |\n",
    "| Rate-Setting Sensitivity | $\\lambda$_3 | Sensitivity (inst. friction component) in rate-setting | Unitless | 22 | $[0, \\infty)$ |\n",
    "| ST Curtailment Activation Threshold | $\\epsilon$_1 | Threshold for action (inst. friction component) in short-term investment | Unitless | 0 | $[0, \\infty)$ |\n",
    "| LT Investment Activation Threshold | $\\epsilon$_2| Threshold for action (inst. friction component) in long-term investment | Unitless | 0 | $[0, \\infty)$ |\n",
    "| Rate-Setting Activation Threshold | $\\epsilon$_3| Threshold for action (inst. friction component) in rate-setting | Unitless | 0 | $[0, \\infty)$ |\n",
    "| Operating Cost Function Coefficient | g_o | Coefficient in operating costs function (see equation) | Dollars/(persons*Vol) | 2.5 |  $[0, \\infty)$ |\n",
    "| LT Dem Mgmt Investment Coefficient | g_dbar | Coefficient in LT dem mgmt investment function | AFY/Dollars | 4.4 E-7 | $[0,\\infty)$ |\n",
    "| Del Eff Investment Coefficient | g_$\\eta$ | Coefficient in delivery efficiency investment funciton | AFY/Dollars | 0.0033 | $[0,\\infty)$ | \n",
    "| Storage Capacity Investment Coefficient | g_vbar | Coefficient in storage capacity investment function | AF/Dollars | 0.003 | $[0, \\infty)$ | \n",
    "| SW Proc Capacity Investment Coefficient | g_ws | Coefficient in surface processing capacity investment function | AFY/Dollars | 0.00015 | $[0,\\infty)$ |\n",
    "| GW Proc Capacity Investment Coefficient | g_wg | Coefficient in ground processing capacity investment function | AFY/Dollars | 0.00015 | $[0,\\infty)$ |\n",
    "| SW Inflow Aug Investment Coefficient | g_$\\mu$s | Coefficient in surface inflow augmentation investment function | AFY/Dollars | 0.0001 | $[0,\\infty)$ |\n",
    "| GW Inflow Aug Investment Coefficient | g_$\\mu$g | Coefficient in ground inflow augmentation investment function | AFY/Dollars | 0.0001 | $[0,\\infty)$ |\n",
    "| Operating Cost Population Scale Factor | z_op | Population scale factor in operating cost function | unitless | 0.563 | $[0,\\infty)$ |\n",
    "| Operating Cost Demand Scale Factor | z_od | Demand scale factor in operating cost function | unitless | 0.831 | $[0,\\infty)$ |\n",
    "| LT Dem Mgmt Investment Scale Factor | z_dbar | Investment scale factor for long-term demand management | unitless | 1 | $[0,\\infty)$ |\n",
    "| Del Eff Investment Scale Factor | z_$\\eta$ | Investment scale factor for delivery efficiency | unitless | 0.82 | $[0,\\infty)$ |\n",
    "| Storage Capacity Investment Scale Factor | z_vbar | Investment scale factor for storage capacity | unitless | 1 | $[0,\\infty)$ |\n",
    "| SW Proc Capacity Investment Scale Factor | z_ws | Investment scale factor for processing capacity | unitless | 1 | $[0,\\infty)$ |\n",
    "| GW Proc Capacity Investment Scale Factor | z_wg | Investment scale factor for processing capacity | unitless | 1 | $[0,\\infty)$ |\n",
    "| SW Inflow Aug Investment Scale Factor | z_$\\mu$s | Investment scale factor for sw inflow augmentation | unitless | 1 | $[0,\\infty)$ |\n",
    "| GW Inflow Aug Investment Scale Factor | z_$\\mu$g | Investment scale factor for gw inflow augmentation | unitless | 1 | $[0,\\infty)$ |\n",
    "| Case Specification | case | Indicate which case type to follow (0 = default, 1 = PHX) | Unitless | 0 |$\\{0,1\\}$ |\n",
    "| Mean Surface Inflow Change Type | $\\Delta\\mu$_s_type | Type of change to surface mean inflow (0 = none, 1 = gradual, 2 = sudden) | Unitless | 0 | $\\{0,1,2\\}$ |\n",
    "| Mean Surface Inflow Percent Change | $\\Delta\\mu$_s_pc | Percent change to surface mean inflow | Unitless | 0 | $[0, \\infty)$ |\n",
    "| Mean Sufrace Inflow Change Time | $\\Delta\\mu$_s_t | Time that sudden change occurs or time that gradual change will be complete | yrs | 0 | $[0, \\infty)$ |\n",
    "| Max Surface Processing | w_max_s | Max attainable surface processing (proportion of storage capacity + mean inflow) | Unitless | 1 | $[0,1]$ |\n",
    "| Max Ground Processing | w_max_g | Max attainable ground processing (proportion of storage capacity + mean inflow) | Unitless | 0.5 | $[0,1]$ |\n",
    "| Base Groundwater Use | $\\theta$_g | Proportion of Demand that is usually served by groundwater | Unitless | 0.0 | $[0,1]$ |\n",
    "| Projection Years | $\\tau$_p | Years of Projection for Long-Term Investment Signal | Years | 5 | $[0, \\infty)$ |\n",
    "| ST Dem Mgmt Investment Effectiveness Coefficient | $\\alpha$ | Coefficient for effectiveness in ST conservation investments | unitless | 0.5 | $[0,\\infty)$ |\n",
    "| Bond Life | $\\tau$_b | Life of issued bonds | years | 15 | $[0,\\infty)$ |\n",
    "| Bond Interest Rate | i_b | Interest Rate of Issued Bonds | unitless | 0.04 | $[0,1]$ |\n",
    "| Proportion of Rates from Fixed Charges | $\\beta$_p | Proportion of the expected revenue to come from fixed per user charges | unitless | 0.5 | $[0,1]$ |\n",
    "| Del Eff Investment Dollars Proportion | $\\phi$_$\\eta$ | Proportion of investment dollars to delivery efficiency | unitless | 0.6 | $[0,1]$ |\n",
    "| Stor Capac Investment Dollars Proportion | $\\phi$_v | Proportion of investment dollars to storage capacity | unitless | 0.3 | $[0,1]$ |\n",
    "| Surface Proc Capac Investment Dollars Proportion | $\\phi$_w_s | Proportion of investment dollars to surface processing capacity | unitless | 0.3 | $[0,1]$ |\n",
    "| Ground Proc Capac Investment Dollars Proportion | $\\phi$_w_g | Proportion of investment dollars to ground processing capacity | unitless | 0 | $[0,1]$ |\n",
    "| Surface Inflow Investment Dollars Proportion | $\\phi$_$\\mu$_s | Proportion of investment dollars to surface inflow | unitless | 0 | $[0,1]$ |\n",
    "| Ground Inflow Investment Dollars Proportion | $\\phi$_$\\mu$_g | Proportion of investment dollars to ground inflow | unitless | 0 | $[0,1]$ |\n",
    "\n",
    "***Initial Conditions***\n",
    "| Full Variable Name | Model Variable Name | Definition | Units |Default Value | Allowable Range |\n",
    "| -------------- | ------ | ---------- | ----- |------------- | --------------- |\n",
    "| Population Fill | p_0 | Proportion of population to carrying capacity | Unitless | 0.65 | $[0, \\infty)$ |\n",
    "| Actual Per-Capita Demand | $\\chi$_0 | per-capita demand, accounting for short-term conservation (proportion of mean inflow) | Unitless | $8E-7$ | $[0, \\infty)$ |\n",
    "| Surface Storage Fill | $\\upsilon$_s_0 | Fill proportion of surface storage | Unitless | 1 | $[0, 1]$ |\n",
    "| Ground Storage Fill | $\\upsilon$_g_0 | Fill proportion of ground storage | Unitless | 1 | $[0, 1]$ |\n",
    "| Surface Storage Capacity | $\\upsilon$_bar_s_0 | Surface storage capacity (multiple of inflow standard deviation) | Unitless | 4 | $[0, \\infty)$ |\n",
    "| Ground Storage Capacity | $\\upsilon$_bar_g_0 | Ground storage capacity (multiple of inflow standard deviation) | Unitless | 1 | $[0, \\infty)$ |\n",
    "| Surface Processing Capacity | w_s_0 | Surface processing capacity (proportion of storage capacity & mean inflow) | Unitless | 1 | $[0, \\infty)$ |\n",
    "| Ground Processing Capacity | w_g_0 | Ground processing capacity (proportion of storage capacity & mean inflow) | Unitless | 0 | $[0, \\infty)$ |\n",
    "| Surface Inflow | q_s_0 | Surface inflow (proportion of mean) | Unitless | 1 | $[0, \\infty)$ |\n",
    "| Ground Inflow | q_g_0 | Ground inflow (proportion of mean) | Unitless | 0 | $[0, \\infty)$ |\n",
    "| Mean Surface Inflow | $\\mu$_s_0 | Mean surface inflow | AFY or Bgal/yr | 200000 | $[0, \\infty)$ |\n",
    "| Mean Ground Inflow | $\\mu$_g_0 | Mean ground inflow | AFY or Bgal/yr | 0 | $[0, \\infty)$ |\n",
    "| Surface Inflow Variation | C_v_s_0 | Surface flow coefficient of variation | Unitless | 0.1 | $[0, \\infty)$ |\n",
    "| Ground Inflow Variation | C_v_g_0 | Ground flow coefficient of variation | Unitless | 0.01 | $[0, \\infty)$ |\n",
    "| Delivery Efficiency | $\\eta$_0 | Delivery efficiency (proportion of withdrawn delivered) | Unitless | 1 | $[0, \\infty)$ |\n",
    "| Base Per-Capita Demand | $\\chi$bar_0 | Base per-capita demand, independent of ST conservation (proportion of mean inflow) | Unitless | $8E-7$ | $[0, \\infty)$ |\n",
    "| Per-Capita Revenue | f_0 | Proportion of per-capita revenue to max ($\\pi$_max) | Unitless | 0.5 | $[0,1]$ | \n",
    "| Average Bond Investment | J_b_avg_0 | Average annual bond-sourced investment | \\$/yr | 69000000 | $[0,\\infty)$ |"
   ]
  },
  {
   "cell_type": "markdown",
   "id": "35572010-7ad5-4d96-b25a-78f2414c5588",
   "metadata": {
    "jp-MarkdownHeadingCollapsed": true,
    "tags": []
   },
   "source": [
    "### Setup Function (Default)"
   ]
  },
  {
   "cell_type": "code",
   "execution_count": 106,
   "id": "0b358b4a-e2ef-4769-9ca8-ba5f9dddbca8",
   "metadata": {},
   "outputs": [],
   "source": [
    "function Default(;μ_s_max = 200000, μ_g_max = 0.001, μ_other_1 = 0, μ_other_2 = 0, π_max = 400, ΔC_v_scen = 0, ρ_s = 0.2, ρ_g = 0.0, κ = 1500000, r = 0.1, η_max = 1.7, υ_bar_max_s = 12.0, \n",
    "        υ_bar_max_g = 40.0, a_gv = 1.0, a_gq = 1.0, a_sv = 1.0, a_sq = 1.0, a_q2 = 1.0, a_q3 = 0, a_q4 = 0, a_q5 = 0, d_min = 0.04, δ_dbar = 0.004, δ_v = 0.07, δ_η = 0.07, δ_w_s = 0.07, \n",
    "        δ_w_g = 0.07, τ_d = 1.0, τ_v = 1.0, τ_η = 1.0, τ_w_s = 1.0, τ_w_g = 1.0, τ_μ_s = 1.0, τ_μ_g = 1.0, γ_1 = 1, γ_2 = 1.2, γ_3 = 2, ψ_r = 0.15, β_η = 0.3, β_v = 0.3, β_w_s = 0.3, β_w_g = 0.0, \n",
    "        β_μ_s = 0.0, β_μ_g = 0.0, λ_1 = 22.0, λ_2 = 22.0, λ_3 = 22.0, ϵ_1 = 0.0, ϵ_2 = 0.0, ϵ_3 = 0.0, g_o = 2.5, g_dbar = 5948, g_η = 5873, g_vbar = 6000, g_ws = 4657, g_wg = 4657, g_μs = 4000, \n",
    "        g_μg = 4000, z_op = 0.518, z_od = 1.167, z_dbar = 1, z_η = 1, z_vbar = 1, z_ws = 1, z_wg = 1, z_μs = 1, z_μg = 1, case = 0, Δμ_s_type = 0, Δμ_s_pc = 0.0, Δμ_s_t = 0, w_max_s = 1.0, \n",
    "        w_max_g = 0.0, θ_g = 0, θ_1 = 0, τ_p = 5, α = 0.5, τ_b = 15, i_b = 0.04, ϕ_η = 0.6, ϕ_v = 0.3, ϕ_w_s = 0.3, ϕ_w_g = 0.0, ϕ_μ_s = 0.0, ϕ_μ_g = 0.0, β_p = 0.5, p_0 = 0.65, χ_0 = 8.0E-7, υ_s_0 = 1.0, \n",
    "        υ_g_0 = 1.0, υ_bar_s_0 = 4.0, υ_bar_g_0 = 1.0, w_s_0 = 1.0, w_g_0 = 0.0, q_s_0 = 1.0, q_g_0 = 0.0, μ_s_0 = 200000, μ_g_0 = 0.001, C_v_s_0 = 0.1, C_v_g_0 = 0.01, η_0 = 1.0, χbar_0 = 8.0E-7, \n",
    "        f_0 = 0.5, J_b_avg_0 = 69000000)\n",
    "    \n",
    "    ##########Parameters############\n",
    "    #1:μ\n",
    "    μbar = [μ_s_max μ_g_max μ_other_1 μ_other_2]\n",
    "    \n",
    "    #2:π_max\n",
    "    \n",
    "    #####Other Streamflow Parameters\n",
    "    #3: ΔC_v\n",
    "    ΔC_v = ΔC_v_scen \n",
    "    \n",
    "    #4: ρ\n",
    "    ρ = [ρ_s, ρ_g]\n",
    "    \n",
    "    #24: Select Case\n",
    "    \n",
    "    #25: Mean Inflow Change Scneario Definition, Δμ\n",
    "    Δμ_g_type = Δμ_g_pc = Δμ_g_t = Δμ_s_τ = Δμ_g_τ = 0 #not relevant in this model version\n",
    "    Δμ = [Δμ_s_type Δμ_s_pc Δμ_s_t Δμ_g_type Δμ_g_pc Δμ_g_t Δμ_s_τ Δμ_g_τ]\n",
    "        \n",
    "    #####Population Growth \n",
    "        \n",
    "    #5: Carrying Capacity, κ\n",
    "        \n",
    "    #6: Intrinsic Growth rate, r\n",
    "        \n",
    "    #7: Immigration Rate, m_i - relevant in other model versions\n",
    "    m_i = 0\n",
    "        \n",
    "    #8: Emigration Rate, m_0 - relevant in other model versions\n",
    "    m_o = 0\n",
    "        \n",
    "    #####Hard Infrastructure Operations\n",
    "        \n",
    "    #9: Hedging Policy Coefficient, h - relevant in other model versions \n",
    "    h = 0\n",
    "    \n",
    "    #10: Minimum Allowed Storage Level, υ_min - just set to 0 because υ is a proportion\n",
    "    υ_min = [0 0]\n",
    "        \n",
    "    #11: Maximum Delivery Efficiency, η\n",
    "        \n",
    "    #12: Maximum Storage Capacity, β_max\n",
    "    υ_bar_max = [υ_bar_max_s υ_bar_max_g]\n",
    "        \n",
    "    #13: Maximum Legal Allocation, A\n",
    "    a = [a_gv a_gq a_sv a_sq a_q2 a_q3 a_q4 a_q5]\n",
    "        \n",
    "    #27: Maximum Pumping Capacity, w\n",
    "    w_max = [w_max_s w_max_g]\n",
    "        \n",
    "    #####Water Use\n",
    "    #14: Minimum Per-Capita Use, d_min\n",
    "    \n",
    "    #27: Demand Proportions for Base Use, θ\n",
    "    θ = [θ_g θ_1]\n",
    "        \n",
    "    #####Infrastructure Dynamic Characteristics\n",
    "    #15: Infrastructure Decay, δ\n",
    "    δ_d = 0 #not relevant in this version\n",
    "    δ = [δ_d δ_dbar δ_η δ_v δ_w_s δ_w_g]\n",
    "        \n",
    "    #16: Implementation Time, τ_i\n",
    "    τ_i = [τ_d τ_η τ_v τ_w_s τ_w_g τ_μ_s τ_μ_g]\n",
    "        \n",
    "    #####Institutional Context\n",
    "    #17: Scope Rule, Controller Goals/References\n",
    "    γ = [γ_1 γ_2 γ_3]\n",
    "    \n",
    "    #18: Choice Rules/Constraints\n",
    "    ψ_s = 0.0 #Not relevant in this model version\n",
    "    ψ = [ψ_s ψ_r]\n",
    "        \n",
    "    #19: Investment Allocation Mental Model (β)\n",
    "    β = [β_η β_v β_w_s β_w_g β_μ_s β_μ_g]\n",
    "        \n",
    "    #20,21: Institutional Friction\n",
    "    λ = [λ_1 λ_2 λ_3]\n",
    "    ϵ = [ϵ_1 ϵ_2 ϵ_3]\n",
    "        \n",
    "    #####Costs\n",
    "    #22: Cost Function Coefficients, g\n",
    "    g = [g_o g_dbar g_η g_vbar g_ws g_wg g_μs g_μg]\n",
    "        \n",
    "    #23: Cost Function Scale Factors, z\n",
    "    z = [z_op z_od z_dbar z_η z_vbar z_ws z_wg z_μs z_μg]\n",
    "    \n",
    "    #30: Short-term investment effectiveness coefficient, α\n",
    "    \n",
    "    #31: Bond LIfe, τ_b\n",
    "    \n",
    "    #32: Bond Interest Rate, i_b\n",
    "    \n",
    "    #33: Whether γ_3 error is calculated with absolute value\n",
    "    γ_3_abs = 0 #not relevant for this model version \n",
    "    \n",
    "    #34: Willingness to Cheat on Groundwater Allowance, β_c\n",
    "    β_c = 0 #not relevant in this model version\n",
    "    \n",
    "    #35: Investment ($) Allocation - just used for g_k calculation\n",
    "    ϕ = [ϕ_η ϕ_v ϕ_w_s ϕ_w_g ϕ_μ_s ϕ_μ_g]\n",
    "    \n",
    "    #36: Proportion of the Expected Per Capita Revenue from Fixed Charges\n",
    "    \n",
    "    \n",
    "    #####Special Options\n",
    "    #28: Memory of Long-Term Integral Controller\n",
    "    τ_m = 0 #not relevant in this model version \n",
    "        \n",
    "    #29: Projectioin in Long-Term Controller (τ_p) \n",
    "    \n",
    "    #####Create Parameter Vector\n",
    "    p = [μbar,π_max,ΔC_v,ρ,κ,r,m_i,m_o,h,υ_min,η_max,υ_bar_max,a,d_min,δ,τ_i,γ,ψ,β,λ,ϵ,g,z,case,Δμ,w_max,θ,τ_m,τ_p,α,τ_b,i_b,γ_3_abs,β_c,ϕ,β_p]\n",
    "    \n",
    "    ##########Initial Conditions############\n",
    "    #####Create Initial Conditions Vector\n",
    "    x_0 = [p_0, χ_0,υ_s_0,υ_g_0,υ_bar_s_0,υ_bar_g_0,w_s_0,w_g_0,q_s_0,q_g_0,μ_s_0,μ_g_0,C_v_s_0,C_v_g_0,η_0,χbar_0,f_0,J_b_avg_0]\n",
    "    \n",
    "    ###Add Memory for Planned Investment Capacity\n",
    "    for k in 1:length(τ_i)\n",
    "        if(τ_i[k]>1)\n",
    "            for i in 1:τ_i[k]-1\n",
    "                append!(x_0,0.0)\n",
    "            end\n",
    "        end\n",
    "    end\n",
    "    \n",
    "    return [p, x_0]\n",
    "end;"
   ]
  },
  {
   "cell_type": "markdown",
   "id": "374cc3c5-8ec3-4e3d-923a-3f2323075304",
   "metadata": {
    "jp-MarkdownHeadingCollapsed": true,
    "tags": []
   },
   "source": [
    "### General Parameter Auxilary Variables"
   ]
  },
  {
   "cell_type": "markdown",
   "id": "5a673d7f-541e-4d73-81e1-1031d1922d51",
   "metadata": {
    "jp-MarkdownHeadingCollapsed": true,
    "tags": []
   },
   "source": [
    "#### Size of Planned Investment Capacity Memory (Number of Variables to add to $x$ based on $\\tau^i_k$)"
   ]
  },
  {
   "cell_type": "code",
   "execution_count": 107,
   "id": "636c4ebf-4af0-4d0f-b9cf-fcc4187b33a8",
   "metadata": {},
   "outputs": [],
   "source": [
    "function planInvestMemorySize(p)\n",
    "    num = 0\n",
    "    for k in 1:length(p[16])\n",
    "        if(p[16][k]>1)\n",
    "            num += p[16][k]-1\n",
    "        end\n",
    "    end\n",
    "    \n",
    "    return floor(Int,num)\n",
    "end;"
   ]
  },
  {
   "cell_type": "markdown",
   "id": "e4165db1-4946-44e2-b3d1-34948811b6c0",
   "metadata": {
    "jp-MarkdownHeadingCollapsed": true,
    "tags": []
   },
   "source": [
    "## 2.2 Phoenix Municipal Area (PMA) setups"
   ]
  },
  {
   "cell_type": "markdown",
   "id": "2103e926-a593-4ac8-ad93-c40612f65fa8",
   "metadata": {
    "jp-MarkdownHeadingCollapsed": true,
    "tags": []
   },
   "source": [
    "### PMA Parameters & Initial Conditions "
   ]
  },
  {
   "cell_type": "markdown",
   "id": "b36f7185-a30d-49e9-8f7f-e1c961993d80",
   "metadata": {},
   "source": [
    "***Parameters***\n",
    "\n",
    "| Full Parameter Name | Model Variable Name | Definition | Units |Default Value | Allowable Range |\n",
    "| -------------- | ------ | ---------- | ----- |------------- | --------------- |\n",
    "| Mean SRP Inflow | $\\mu$_SRP | Mean inflow into PMA through SRP canals | AFY | 900000 | $[0,\\infty)$ |\n",
    "| Mean CAP Inflow | $\\mu$_CAP | Mean inflow into PMA through CAP canals | AFY | 650491 | $[0,\\infty)$ |\n",
    "| Mean Groundwater Inflow | $\\mu$_g_0 | Mean Groundwater Inflow into PMA | AFY | 690602 | $[0,\\infty)$ |\n",
    "| Max Per Capita Revenue | $\\pi$_max | Max Per Capita Revenue | \\$/yr | 1000 | $[0,\\infty)$ |\n",
    "| Carrying Capacity | $\\kappa$ | Population carrying capacity | Unitless | 1500000 | $(0, \\infty)$ |\n",
    "| Intrinsic Growth Rate | r | logistically fit, intrinsic growth rate of population | Unitless | 0.1 | $(0,\\infty)$ |\n",
    "| Max Delivery Efficiency | $\\eta$_max | Max attainable delivery efficiency | Unitless | 2.0 | $[0, 2]$ |\n",
    "| Max Legal Use of Ground Storage | a_gv | Max legally allowed use of ground storage (proportion) | Unitless | 1 | $[0,1]$ |\n",
    "| Max Legal Use of Ground Inflow | a_gq | Max legally allowed use of ground inflow (proportion) | Unitless | 1 | $[0,1]$ |\n",
    "| Max Legal Use of Surface Storage | a_sv | Max legally allowed use of surface storage (proportion) | Unitless | 0 | $[0,1]$ |\n",
    "| SRP Allocation | a_SRP | Proportion of SRP inflow allocated to city | Unitless | 0.30883 | $[0,1]$ | \n",
    "| CAP Allocation | a_CAP | Proportion of CAP inflow allocated to city | Unitless | 0.41168 | $[0,1]$ | \n",
    "| CAP Low Priority Allocation | a_CAP_low | Proportion of Low Priority CAP inflow allocated to city | Unitless | 0.5324 | $[0,1]$ |\n",
    "| CAP High Priority Allocation | a_CAP_high | Proportion of High Priority CAP inflow allocated to city | Unitless | 0.3894 | $[0,1]$ |\n",
    "| SRP NCS & Gatewater Allocation | a_SRP_NG | Proportion of SRP inflow allocation attributable to NCS and gatewater | Unitless | 0.06367 | $[0,1]$ |\n",
    "| Min Per Capita Use | d_min | Min possible per-capita demand | (Bgal/yr OR AFY)/person | 0.04 | $[0, \\infty)$ |\n",
    "| Hard Infrastructure Decay | $\\delta$ | Hard infrastructure decay value | Unitless | 0.05 | $[0,1]$ | \n",
    "| Background Conservation Rate | $\\delta$_dbar | Annual decay rate of long-term conservation measures (background) | Unitless | 0.0003 | $[0,1]$ |\n",
    "| LT Demand Mgmt Implementation Time | $\\tau$_d | Time to implement long-term demand management | yrs | 1 | $[1,\\infty)$ |\n",
    "| Hard Infrastructure Implementation Time | $\\tau$_i | Hard infrastructure implementation times | yrs | 3 | $[1,\\infty)$ | \n",
    "| Long-Term Goal Supply Buffer | $\\gamma$_2 | Goal long-term proportion between supply and demand | Unitless | 1.2 | $[0,\\infty)$ |\n",
    "| Minimum Debt Service Coverage Ratio | $\\gamma$_3 | Minimum Debt Service Coverage Ratio Allowed in any Year | unitless | 2 | $[0,\\infty)$ |\n",
    "| Max Rate Increase | $\\psi$_r | Max possible proportional increase in rates | Unitless | 0.06 | $[0,\\infty)$ |\n",
    "| Delivery Efficiency Priority | $\\beta$_$\\eta$ | Proportion of long-term investments directed to delivery efficiency | Unitless | 0.2 | $[0,1]$ |\n",
    "| Surface Processing Priority | $\\beta$_w_s | Proportion of long-term investments directed to surface processing capacity | Unitless | 0 | $[0,1]$ |\n",
    "| Ground Processing Priority | $\\beta$_w_g | Proportion of long-term investments directed to ground processing capacity | Unitless | 0.7 | $[0,1]$ |\n",
    "| Short-Term Curtailment Sensitivity | $\\lambda$_1 | Sensitivity (inst. friction component) in short-term investment | Unitless | 22 | $[0, \\infty)$ |\n",
    "| Long-Term Investment Sensitivity | $\\lambda$_2 | Sensitivity (inst. friction component) in long-term investment | Unitless | 22 | $[0, \\infty)$ |\n",
    "| Rate-Setting Sensitivity | $\\lambda$_3 | Sensitivity (inst. friction component) in rate-setting | Unitless | 22 | $[0, \\infty)$ |\n",
    "| ST Curtailment Activation Threshold | $\\epsilon$_1 | Threshold for action (inst. friction component) in short-term investment | Unitless | 0 | $[0, \\infty)$ |\n",
    "| LT Investment Activation Threshold | $\\epsilon$_2| Threshold for action (inst. friction component) in long-term investment | Unitless | 0 | $[0, \\infty)$ |\n",
    "| Rate-Setting Activation Threshold | $\\epsilon$_3| Threshold for action (inst. friction component) in rate-setting | Unitless | 0 | $[0, \\infty)$ |\n",
    "| Operating Cost Function Coefficient | g_o | Coefficient in operating costs function (see equation) | Dollars/(persons*Vol) | 0.1435 |  $[0, \\infty)$ |\n",
    "| LT Dem Mgmt Investment Coefficient | g_dbar | Coefficient in LT dem mgmt investment function | AFY/Dollars | 5948 | $[0,\\infty)$ |\n",
    "| Operating Cost Population Scale Factor | z_op | Population scale factor in operating cost function | unitless | 0.5581 | $[0,\\infty)$ |\n",
    "| Operating Cost Demand Scale Factor | z_od | Demand scale factor in operating cost function | unitless | 1.0303 | $[0,\\infty)$ |\n",
    "| LT Dem Mgmt Investment Scale Factor | z_dbar | Investment scale factor for long-term demand management | unitless | 1 | $[0,\\infty)$ |\n",
    "| Del Eff Investment Scale Factor | z_$\\eta$ | Investment scale factor for delivery efficiency | unitless | 1.01266 | $[0,\\infty)$ |\n",
    "| Proc Capacity Investment Scale Factor | z_w | Investment scale factor for processing capacity | unitless | 1.04019 | $[0,\\infty)$ |\n",
    "| Mean Surface Inflow Change Type | $\\Delta\\mu$_s_type | Type of change to surface mean inflow (0 = none, 1 = gradual, 2 = sudden) | Unitless | 2 | $\\{0,1,2\\}$ |\n",
    "| Mean Surface Inflow Percent Change | $\\Delta\\mu$_s_pc | Percent change to surface mean inflow | Unitless | -0.284 | $[0, \\infty)$ |\n",
    "| Mean Sufrace Inflow Change Time | $\\Delta\\mu$_s_t | Time that sudden change occurs or time that gradual change will be complete | yrs | 14 | $[0, \\infty)$ |\n",
    "| Base Groundwater Use | $\\theta$_g | Proportion of Demand that is usually served by groundwater | Unitless | 0.024 | $[0,1]$ |\n",
    "| SRP Demand Proportion | $\\theta$_1 | Proportion of Demand that is SRP eligible | Unitless | 0.5 | $[0,1]$ |\n",
    "| Projection Years | $\\tau$_p | Years of Projection for Long-Term Investment Signal | Years | 5 | $[0, \\infty)$ |\n",
    "| ST Dem Mgmt Investment Effectiveness Coefficient | $\\alpha$ | Coefficient for effectiveness in ST conservation investments | unitless | 0.5 | $[0,\\infty)$ |\n",
    "| Bond Life | $\\tau$_b | Life of issued bonds | years | 15 | $[0,\\infty)$ |\n",
    "| Bond Interest Rate | i_b | Interest Rate of Issued Bonds | unitless | 0.04 | $[0,1]$ |\n",
    "| Proportion of Rates from Fixed Charges | $\\beta$_p | Proportion of the expected revenue to come from fixed per user charges | unitless | 0.5 | $[0,1]$ |\n",
    "| Del Eff Investment Dollars Proportion | $\\phi$_$\\eta$ | Proportion of investment dollars to delivery efficiency | unitless | 0.6605 | $[0,1]$ |\n",
    "| Surface Proc Capac Investment Dollars Proportion | $\\phi$_w_s | Proportion of investment dollars to surface processing capacity | unitless | 0.2964 | $[0,1]$ |\n",
    "| Ground Proc Capac Investment Dollars Proportion | $\\phi$_w_g | Proportion of investment dollars to ground processing capacity | unitless | 0.0331 | $[0,1]$ |\n",
    "| Initial SRP Availability | A_SRP_0 | Initial Volume of Available SRP Water | AFY | 200275.18 | $[0,\\infty)$ |\n",
    "\n",
    "***Initial Conditions***\n",
    "\n",
    "| Full Variable Name | Model Variable Name | Definition | Units |Default Value | Allowable Range |\n",
    "| -------------- | ------ | ---------- | ----- |------------- | --------------- |\n",
    "| Population Fill | p_0 | Proportion of population to carrying capacity | Unitless | 0.86466 | $[0, \\infty)$ |\n",
    "| Actual Per-Capita Demand | $\\chi$_0 | per-capita demand, accounting for short-term conservation (proportion of mean inflow) | Unitless | 8.96274E-8 | $[0, \\infty)$ |\n",
    "| Ground Storage Fill | $\\upsilon$_g_0 | Fill proportion of ground storage | Unitless | 0.53257 | $[0, 1]$ |\n",
    "| Ground Processing Capacity | w_g_0 | Ground processing capacity (proportion of storage capacity & mean inflow) | Unitless | 0.005315 | $[0, \\infty)$ |\n",
    "| Surface Inflow Variation | C_v_s_0 | Surface flow coefficient of variation | Unitless | 0.001 | $[0, \\infty)$ |\n",
    "| Ground Inflow Variation | C_v_g_0 | Ground flow coefficient of variation | Unitless | 0.001 | $[0, \\infty)$ |\n",
    "| Delivery Efficiency | $\\eta$_0 | Delivery efficiency (proportion of withdrawn delivered) | Unitless | 0.9742 | $[0, \\infty)$ |\n",
    "| Base Per-Capita Demand | $\\chi$bar_0 | Base per-capita demand, independent of ST conservation (proportion of mean inflow) | Unitless | 8.96274E-8 | $[0, \\infty)$ |\n",
    "| Per-Capita Revenue | f_0 | Proportion of per-capita revenue to max ($\\pi$_max) | Unitless | 0.23836 | $[0,1]$ | \n",
    "| Average Bond Investment | J_b_avg_0 | Average annual bond-sourced investment | \\$/yr | 69694375 | $[0,\\infty)$ |\n"
   ]
  },
  {
   "cell_type": "markdown",
   "id": "db0027e5-aa19-4302-af31-c7f3bd91ed3c",
   "metadata": {
    "jp-MarkdownHeadingCollapsed": true,
    "tags": []
   },
   "source": [
    "### Determine Investment Cost Function Coefficients from Other Parameters (PMA-Specific Function)"
   ]
  },
  {
   "cell_type": "code",
   "execution_count": 108,
   "id": "76c4491a-5c32-49dc-83f9-4b0e1cc8f7a6",
   "metadata": {},
   "outputs": [],
   "source": [
    "function set_g(μ_s_0,μ_g_0,μ_tot,μ_SRP,μ_CAP,a_SRP,a_CAP,a_SRP_NG,a_gq,a_gv,θ_1,V_g_0, A_l_g_0,V_bar_g_0,\n",
    "        κ_endog,κ,p_0,χbar_0,χ_0,f_0,π_bar,g_o,z_op,z_od,J_b_avg_0,τ_b,i_b,η_0,w_g_0,w_s_0,δ_η,δ_w_s,\n",
    "        δ_w_g,z_η, z_w,ϕ_η,ϕ_w,A_SRP_0)\n",
    "    \n",
    "    #Determine Maintenance Investment Need ($)\n",
    "    a_q_0 = (a_SRP*μ_SRP + a_CAP*(μ_s_0-μ_SRP) + a_gq*μ_g_0)/μ_tot\n",
    "    \n",
    "    #Set Initial Conditions\n",
    "    P_0 = p_0*κ\n",
    "    D_0 = χ_0*P_0*μ_tot\n",
    "    R_0 = f_0*π_bar*P_0\n",
    "    C_o_0 = g_o*(P_0^z_op)*(D_0^z_od)\n",
    "    C_d_0 = (1+τ_b*i_b)*J_b_avg_0\n",
    "    J_o_0 = C_d_0\n",
    "    \n",
    "    #Determine Capacity Need (H) Based on δ\n",
    "    A_l_s_SRP = A_SRP_0\n",
    "    A_l_s_CAP = μ_CAP*a_CAP\n",
    "    A_l_s_0 = A_l_s_SRP + A_l_s_CAP\n",
    "    A_w_s_0 = w_s_0*μ_s_0\n",
    "    A_w_g_0 = w_g_0*(μ_g_0+V_bar_g_0)\n",
    "    \n",
    "    A_s=min(A_l_s_0,A_w_s_0)\n",
    "    A_g=min(A_l_g_0,A_w_g_0)\n",
    "    A_0=A_s+A_g\n",
    "    \n",
    "    u_m_η = (η_0)*A_0*δ_η\n",
    "    u_m_ws = w_s_0*μ_s_0*δ_w_s \n",
    "    u_m_wg = w_g_0*(μ_g_0+V_bar_g_0)*δ_w_g\n",
    "    \n",
    "    #Determine Available Maintenance Investment (J_m)\n",
    "    J_m = J_b_avg_0 + J_o_0\n",
    "    \n",
    "    J_m_η = ϕ_η*J_m\n",
    "    J_m_w = ϕ_w*J_m\n",
    "    \n",
    "    #Calculate g as a function of H_m, U_m, and z\n",
    "    g_η = J_m_η/((η_0*u_m_η)^z_η)\n",
    "    g_w = J_m_w/((u_m_ws^z_w)+(u_m_wg^z_w)) #treating the g's for processing capacity as the same across surface/ground\n",
    "    \n",
    "    return[g_η g_w g_w]\n",
    "end;"
   ]
  },
  {
   "cell_type": "markdown",
   "id": "6582a322-60fa-4f3d-8976-6cfbe7aa51d7",
   "metadata": {
    "jp-MarkdownHeadingCollapsed": true,
    "tags": []
   },
   "source": [
    "### City of Phoenix Setup"
   ]
  },
  {
   "cell_type": "code",
   "execution_count": 109,
   "id": "42842f45-b386-47a2-9b4a-b198e175dd4a",
   "metadata": {},
   "outputs": [],
   "source": [
    "function Phoenix(;μ_SRP = 900000,  μ_CAP = 448663, μ_g_0 = 690602, π_max = 1000, κ = 1686528, r = 0.0878, η_max = 1.5, a_gv = 1, a_gq = 0.05357, a_sv = 0.0, a_SRP = 0.30883, \n",
    "        a_CAP = 0.41168, a_CAP_low=0.5324,a_CAP_high=0.3894,a_SRP_NG=0.06367, d_min = 0.072, δ=0.05, δ_dbar = 0.0003, τ=3.0, γ_2 = 1.2, γ_3 = 2, ψ_r = 0.15, β_η = 0.2, \n",
    "        β_w_s = 0, β_w_g = 0.7, λ_1 = 110, λ_2 = 22, λ_3 = 22, ϵ_1 = 0.0, ϵ_2 = 0.0, ϵ_3 = 0.0, g_o = 0.1435, g_dbar = 5948,  z_op = 0.5581, z_od = 1.0303, z_dbar = 1, z_η = 1.01266,  \n",
    "        z_w=1.04019, Δμ_s_type = 2, Δμ_s_pc = -0.284, Δμ_s_t = 14, θ_g = 0.024, θ_1 = 0.5, τ_p = 5, α = 0.5, τ_b = 15, i_b=0.04, ϕ_η = 0.6605, ϕ_w_s = 0.2964, ϕ_w_g = 0.0331, \n",
    "        β_p = 0.6322, QC=0, A_SRP_0=200275.18, p_0 = 0.86466, χ_0 = 8.96274E-8, υ_g_0 = 0.53257, υ_bar_s_0 = 7.415E-9, w_s_0 = nothing, w_g_0 = 0.005315, C_v_s_0 = 0.001,C_v_g_0=0.001, \n",
    "        η_0 = 0.9742, χbar_0 = 8.96274E-8, f_0 = 0.23836, J_b_avg_0 = 69694375)\n",
    "    \n",
    "    ####Adjust J_b_avg_0 to τ_b and ι if necessary\n",
    "    C_d_0 = J_b_avg_0*(1+15*0.04) #with default settings\n",
    "    J_b_avg_0 = C_d_0/(1+τ_b*i_b) \n",
    "    \n",
    "    ####μ        \n",
    "    μ_s_0 = μ_SRP + μ_CAP\n",
    "    μ_tot = μ_s_0 + μ_g_0\n",
    "    \n",
    "    ####Set υ_g_0, β_g_0 and β_g_max\n",
    "    V_bar_g_0 = (200*a_gq*μ_g_0) #double the 100 years of safe yield alloance\n",
    "    υ_bar_g_0 = V_bar_g_0/(C_v_g_0*μ_g_0)\n",
    "    υ_bar_g_max = υ_bar_g_0\n",
    "    V_g_0 = υ_g_0*V_bar_g_0\n",
    "    \n",
    "    ####W_max\n",
    "    P_0 = p_0*κ\n",
    "    D_0 = χ_0*P_0*μ_tot\n",
    "    #CAP Avail\n",
    "    A_l_s_CAP = μ_CAP*a_CAP\n",
    "    #SRP Avail\n",
    "    A_l_s_SRP = A_SRP_0\n",
    "    #Total Surface\n",
    "    A_l_s_0 = A_l_s_SRP + A_l_s_CAP\n",
    "    #Max Surface Processing\n",
    "    w_max_s = A_l_s_0/(υ_bar_s_0*C_v_s_0*μ_s_0 + μ_s_0)\n",
    "    #Legal GW Avail\n",
    "    A_l_g_0 = a_gq*μ_g_0 + a_gv*max(0,V_g_0-(100*a_gq*μ_g_0))\n",
    "    #Max Ground Processing\n",
    "    w_max_g = (A_l_g_0*1.6)/(V_bar_g_0+μ_g_0) #1.6 accounts for the desire to have surplus capacity for peak intrannual demands\n",
    "    \n",
    "    ####Initial Surface Processing\n",
    "    if(w_s_0 == nothing)\n",
    "        w_s_0 = w_max_s\n",
    "    end\n",
    "    \n",
    "    ####Implementation Times, τ\n",
    "    τ_η =  τ_w_s = τ_w_g = τ\n",
    "    \n",
    "    ####Hard Infrastructure Decay Rates, δ\n",
    "    δ_η = δ_w_s = δ_w_g = δ\n",
    "    \n",
    "    ####Investment Cost Function Normalizing Coefficients, g\n",
    "    z_ws = z_w\n",
    "    z_wg = z_w\n",
    "    if(QC==1) #Queen Creek is calibrated to 2016 data to account for H20 aquisition\n",
    "        p_0_QC=74842/κ #2016\n",
    "        χbar_0_QC = 16344.01/(μ_tot*p_0_QC*κ) #2016\n",
    "        χ_0_QC=χbar_0_QC\n",
    "        f_0_QC=23734654/(p_0_QC*κ*π_max) #2016\n",
    "        J_b_avg_0_QC=3492917.5 #2016\n",
    "        \n",
    "        g=set_g(μ_s_0,μ_g_0,μ_tot,μ_SRP,μ_CAP,a_SRP,a_CAP,a_SRP_NG,a_gq,a_gv,θ_1,V_g_0, A_l_g_0, V_bar_g_0, 0,κ,p_0_QC,χbar_0_QC,\n",
    "            χ_0_QC,f_0_QC,π_max,g_o,z_op,z_od,J_b_avg_0_QC,τ_b,i_b,η_0,w_g_0,w_s_0,δ_η,δ_w_s, δ_w_g,z_η, z_w, ϕ_η, (ϕ_w_s+ϕ_w_g),A_SRP_0)\n",
    "    else\n",
    "        g=set_g(μ_s_0,μ_g_0,μ_tot,μ_SRP,μ_CAP,a_SRP,a_CAP,a_SRP_NG,a_gq,a_gv,θ_1,V_g_0, A_l_g_0, V_bar_g_0, 0,κ,p_0,χbar_0,χ_0,\n",
    "            f_0,π_max,g_o,z_op,z_od,J_b_avg_0,τ_b,i_b,η_0,w_g_0,w_s_0,δ_η,δ_w_s, δ_w_g,z_η, z_w, ϕ_η, (ϕ_w_s+ϕ_w_g),A_SRP_0)\n",
    "    end\n",
    "    g_η=g[1]\n",
    "    g_ws=g[2]\n",
    "    g_wg=g[3]\n",
    "    \n",
    "    \n",
    "    return Default(μ_s_max = μ_s_0, μ_g_max = μ_g_0, μ_other_1=μ_SRP, μ_other_2=μ_CAP, π_max = π_max, κ=κ, r = r, η_max = η_max, υ_bar_max_s = 6.45E-9, υ_bar_max_g = υ_bar_g_max, a_gv = a_gv, \n",
    "        a_gq = a_gq, a_sv = a_sv, a_sq = a_SRP, a_q2 = a_CAP, a_q3=a_CAP_low, a_q4=a_CAP_high, a_q5 = a_SRP_NG,  d_min = d_min, δ_dbar = δ_dbar, δ_v = 0.0, δ_η = δ_η, δ_w_s = δ_w_s, \n",
    "        δ_w_g = δ_w_g, τ_d = 1.0, τ_η = τ_η, τ_w_s = τ_w_s, τ_w_g = τ_w_g, γ_2 = γ_2, γ_3 = γ_3, ψ_r = ψ_r, β_η = β_η, β_v = 0, β_w_s = β_w_s, β_w_g = β_w_g, β_μ_s = 0.0, β_μ_g = 0.0, \n",
    "        λ_1 = λ_1, λ_2 = λ_2, λ_3 = λ_3, ϵ_1 = ϵ_1, ϵ_2 = ϵ_2, ϵ_3 = ϵ_3, g_o = g_o, g_dbar = g_dbar, g_η = g_η, g_vbar = 0, g_μs = 0, g_μg = 0, g_ws = g_ws, g_wg = g_wg, z_op = z_op, \n",
    "        z_od = z_od, z_dbar = z_dbar, z_η = z_η, z_vbar = 1, z_ws = z_ws, z_wg = z_wg, z_μs = 1, z_μg = 1, case = 1, Δμ_s_type = Δμ_s_type, Δμ_s_pc = Δμ_s_pc, Δμ_s_t = Δμ_s_t, w_max_s = w_max_s, \n",
    "        w_max_g = w_max_g, θ_g = θ_g, θ_1 = θ_1, τ_p = τ_p, α=α, τ_b = τ_b, i_b=i_b, ϕ_η = ϕ_η, ϕ_v = 0, ϕ_w_s = ϕ_w_s, ϕ_w_g = ϕ_w_g, ϕ_μ_s = 0, ϕ_μ_g = 0, β_p=β_p, p_0 = p_0, χ_0 = χ_0, \n",
    "        υ_s_0 = 0.0, υ_g_0 = υ_g_0, υ_bar_s_0 = υ_bar_s_0, υ_bar_g_0 = υ_bar_g_0, w_s_0 = w_s_0, w_g_0 = w_g_0, q_s_0 = 1.0, q_g_0 = 1.0, μ_s_0 = μ_s_0, μ_g_0 = μ_g_0, C_v_s_0 = C_v_s_0, \n",
    "        C_v_g_0 = C_v_g_0, η_0 = η_0, χbar_0 = χbar_0, f_0 = f_0, J_b_avg_0=J_b_avg_0) \n",
    "end;"
   ]
  },
  {
   "cell_type": "markdown",
   "id": "66dfd7de-1a58-44b0-a76a-547d76bde81a",
   "metadata": {
    "jp-MarkdownHeadingCollapsed": true,
    "tags": []
   },
   "source": [
    "### City of Scottsdale Setup"
   ]
  },
  {
   "cell_type": "code",
   "execution_count": 110,
   "id": "e516aa2f-48e6-4ba5-8232-7f1d32e8085d",
   "metadata": {
    "tags": []
   },
   "outputs": [],
   "source": [
    "function Scottsdale(;π_max = 1000, κ = 242300, r = 0.143, η_max = 1.5, a_gv = 1, a_gq = 0.03114, a_sv = 0.0, a_SRP = 0.03067, a_CAP = 0.18076, a_CAP_low=0.0472, a_CAP_high = 0.2055,\n",
    "        a_SRP_NG=0, d_min = 0.074, δ=0.05, δ_dbar = 0.0003, τ=3.0, γ_2 = 1.2, γ_3 = 2, ψ_r = 0.15, β_η = 0.2, β_w_s = 0, β_w_g = 0.7, λ_1 = 110, λ_2 = 22, λ_3 = 22, ϵ_1 = 0.0, ϵ_2 = 0.0, \n",
    "        ϵ_3 = 0.0, g_o = 0.4316, z_op = 0.5581, z_od = 1.0303, z_η = 1.01266, z_w = 1.04019, Δμ_s_type = 2, Δμ_s_pc = -0.284, Δμ_s_t = 14, θ_g = 0.075, θ_1 = 0.17, τ_p = 5, α = 0.5, \n",
    "        τ_b = 15, i_b=0.04, ϕ_η = 0.6605, ϕ_w_s = 0.2409, ϕ_w_g = 0.0886, β_p = 0.3586, A_SRP_0=13632.80, p_0 = 0.89948, χ_0 = 1.86072E-7, υ_g_0 = 0.52182, w_s_0 = nothing, \n",
    "        w_g_0 = 0.006977, η_0 = 1.0562, χbar_0 = 1.86072E-7, f_0 = 0.39811, J_b_avg_0 = 12500000)\n",
    "\n",
    "    \n",
    "    \n",
    "    return Phoenix(π_max = π_max, κ=κ, r = r, η_max = η_max, a_gv = a_gv, a_gq = a_gq, a_sv = a_sv, a_SRP = a_SRP, a_CAP = a_CAP, a_CAP_low=a_CAP_low,a_CAP_high=a_CAP_high, a_SRP_NG=a_SRP_NG, \n",
    "        d_min = d_min, δ=δ, δ_dbar = δ_dbar, τ=τ, γ_2 = γ_2, γ_3 = γ_3, ψ_r = ψ_r, β_η = β_η, β_w_s = β_w_s, β_w_g = β_w_g, λ_1 = λ_1, λ_2 = λ_2, λ_3 = λ_3, ϵ_1 = ϵ_1, ϵ_2 = ϵ_2, ϵ_3 = ϵ_3,\n",
    "        g_o = g_o, z_op = z_op, z_od = z_od, z_η = z_η, z_w = z_w, Δμ_s_type = Δμ_s_type, Δμ_s_pc = Δμ_s_pc, Δμ_s_t = Δμ_s_t, θ_g = θ_g, θ_1 = θ_1, τ_p = τ_p, α=α, τ_b = τ_b, i_b=i_b, \n",
    "        ϕ_η = ϕ_η, ϕ_w_s = ϕ_w_s, ϕ_w_g = ϕ_w_g, β_p=β_p, QC=0, A_SRP_0=A_SRP_0, p_0 = p_0, χ_0 = χ_0, υ_g_0 = υ_g_0, w_s_0 = w_s_0, w_g_0 = w_g_0, η_0 = η_0, χbar_0 = χbar_0, f_0 = f_0,\n",
    "        J_b_avg_0=J_b_avg_0)\n",
    "end;"
   ]
  },
  {
   "cell_type": "markdown",
   "id": "fcca8596-edf5-4941-99a2-b91be522f79b",
   "metadata": {
    "jp-MarkdownHeadingCollapsed": true,
    "tags": []
   },
   "source": [
    "### Town of Queen Creek Setup"
   ]
  },
  {
   "cell_type": "code",
   "execution_count": 111,
   "id": "677bf4dd-f077-4390-85c4-39f4174e020b",
   "metadata": {},
   "outputs": [],
   "source": [
    "function QueenCreek(;π_max = 1000, κ = 101553, r = 0.24, η_max = 1.5, a_gv = 1, a_gq = 0.02135, a_sv = 0.0, a_SRP = 0.0, a_CAP = 0.01038, a_CAP_low=0.0594, a_CAP_high = 0.0013,a_SRP_NG=0,\n",
    "        d_min = 0.063, δ=0.05, δ_dbar = 0.0003, τ=3.0, γ_2 = 1.2, γ_3 = 2, ψ_r = 0.15, β_η=0.04, β_w_s=0.04, β_w_g=0.9, λ_1 = 110, λ_2 = 22, λ_3 = 22, ϵ_1 = 0.0, ϵ_2 = 0.0, ϵ_3 = 0.0, \n",
    "        g_o = 0.8346, z_op = 0.5581, z_od = 1.0303, z_η = 1.01266, z_w = 1.04019, Δμ_s_type = 2, Δμ_s_pc = -0.284, Δμ_s_t = 14, θ_g = 0.075, θ_1 = 0.0, τ_p = 5, α = 0.5, τ_b = 15, \n",
    "        i_b=0.04, ϕ_η = 0.6605, ϕ_w_s = 0.0088, ϕ_w_g = 0.3207, β_p = 0.5801, A_SRP_0=0, p_0 = 0.31705, χ_0 = 1.55365E-7, υ_g_0 = 0.59817, w_s_0 = 0.0005, w_g_0 =0.006737, η_0 = 0.9339, \n",
    "        χbar_0 = 1.55365E-7, f_0 = 0.24106, J_b_avg_0 = 1322425.63)\n",
    "    \n",
    "    return Phoenix(π_max = π_max, κ=κ, r = r, η_max = η_max, a_gv = a_gv, a_gq = a_gq, a_sv = a_sv, a_SRP = a_SRP, a_CAP = a_CAP, a_CAP_low=a_CAP_low,a_CAP_high=a_CAP_high, a_SRP_NG=a_SRP_NG, \n",
    "        d_min = d_min, δ=δ, δ_dbar = δ_dbar, τ=τ, γ_2 = γ_2, γ_3 = γ_3, ψ_r = ψ_r, β_η = β_η, β_w_s = β_w_s, β_w_g = β_w_g, λ_1 = λ_1, λ_2 = λ_2, λ_3 = λ_3, ϵ_1 = ϵ_1, ϵ_2 = ϵ_2, ϵ_3 = ϵ_3,\n",
    "        g_o = g_o, z_op = z_op, z_od = z_od, z_η = z_η, z_w = z_w, Δμ_s_type = Δμ_s_type, Δμ_s_pc = Δμ_s_pc, Δμ_s_t = Δμ_s_t, θ_g = θ_g, θ_1 = θ_1, τ_p = τ_p, α=α, τ_b = τ_b, i_b=i_b, \n",
    "        ϕ_η = ϕ_η, ϕ_w_s = ϕ_w_s, ϕ_w_g = ϕ_w_g, β_p=β_p, QC=1, A_SRP_0=A_SRP_0, p_0 = p_0, χ_0 = χ_0, υ_g_0 = υ_g_0, w_s_0 = w_s_0, w_g_0 = w_g_0, η_0 = η_0, χbar_0 = χbar_0, f_0 = f_0,\n",
    "        J_b_avg_0=J_b_avg_0)\n",
    "end;"
   ]
  },
  {
   "cell_type": "markdown",
   "id": "61e27414-4859-4a5b-a285-328458ff17d5",
   "metadata": {
    "jp-MarkdownHeadingCollapsed": true,
    "tags": []
   },
   "source": [
    "# 3.Running the Model"
   ]
  },
  {
   "cell_type": "markdown",
   "id": "722b7b57-7388-46a4-995b-f6cf369fb024",
   "metadata": {
    "jp-MarkdownHeadingCollapsed": true,
    "tags": []
   },
   "source": [
    "## 3.1 Specify Input "
   ]
  },
  {
   "cell_type": "code",
   "execution_count": 112,
   "id": "a5c9ca2f-52c9-4251-8d7b-c2c8d3d2d7b6",
   "metadata": {},
   "outputs": [],
   "source": [
    " function create_UWIIM(setup::Any=Default(); f=f)\n",
    "    p = copy(setup[1])\n",
    "    x_0 = Float64.(setup[2])\n",
    "    \n",
    "    model = DiscreteDynamicalSystem(f, x_0, p)\n",
    "    \n",
    "    return model\n",
    "end;"
   ]
  },
  {
   "cell_type": "markdown",
   "id": "20815e89-1110-439f-b30b-4e8202d55c82",
   "metadata": {
    "jp-MarkdownHeadingCollapsed": true,
    "tags": [],
    "toc-hr-collapsed": true
   },
   "source": [
    "## 3.2 Create Output"
   ]
  },
  {
   "cell_type": "markdown",
   "id": "73aeb335-2d6a-4e18-8061-12184cc9b629",
   "metadata": {},
   "source": [
    "Every time the model is run (**run_UWIIM()**) an array of four components is returned to visualize the trajectory \n",
    "\n",
    "1. Dataframe of state and auxilary variables over time \n",
    "\n",
    "2. Non-dimensional Time Series Plots (vector of 13 plots) (see sub-section b)\n",
    "\n",
    "3. Dimensional Time Series Plots (vector of 13 plots) (see sub-section b)"
   ]
  },
  {
   "cell_type": "markdown",
   "id": "a7a401aa-7a60-4d8d-ba8c-55667c721765",
   "metadata": {
    "jp-MarkdownHeadingCollapsed": true,
    "tags": []
   },
   "source": [
    "### a.) Generate Dataframe of Trajectory Variables"
   ]
  },
  {
   "cell_type": "code",
   "execution_count": 113,
   "id": "886501dc-62ed-4fc2-846e-2c2c98bf9439",
   "metadata": {
    "tags": []
   },
   "outputs": [],
   "source": [
    "function createVarsDF(UWIIM,p,num_t,year_0)\n",
    "   ##Generate Trajectory\n",
    "    tr = trajectory(UWIIM, num_t)\n",
    "    \n",
    "    ##Collect Into DataFrame\n",
    "    t = collect(0:num_t)\n",
    "    col_copy = copy(collect(columns(tr)))\n",
    "\n",
    "    p_ex, χ, υ_s, υ_g, υ_bar_s, υ_bar_g, w_s, w_g, q_s_ex, q_g_ex, μ_s, μ_g, C_v_s, C_v_g, η, χbar, f, J_b_avg = columns(tr)\n",
    "    \n",
    "    μ_ex = zeros(length(tr.data))\n",
    "    V_s_ex = zeros(length(tr.data))\n",
    "    V_g_ex = zeros(length(tr.data))\n",
    "    Vbar_s_ex = zeros(length(tr.data))\n",
    "    Vbar_g_ex = zeros(length(tr.data))\n",
    "    υ_proj_g_ex = zeros(length(tr.data))\n",
    "    year_ex = zeros(length(tr.data))\n",
    "    D_ex = zeros(length(tr.data))\n",
    "    d_ST_ex = zeros(length(tr.data))\n",
    "    D_ST_ex = zeros(length(tr.data))\n",
    "    D_proj_ex = zeros(length(tr.data))\n",
    "    D_bar_ex = zeros(length(tr.data))\n",
    "    O_ex = zeros(length(tr.data))\n",
    "    o_ex = zeros(length(tr.data))\n",
    "    O_d_ex = zeros(length(tr.data))\n",
    "    o_d_ex = zeros(length(tr.data))\n",
    "    O_s_ex = zeros(length(tr.data))\n",
    "    o_s_ex = zeros(length(tr.data))\n",
    "    O_g_ex = zeros(length(tr.data))\n",
    "    o_g_ex = zeros(length(tr.data))\n",
    "    O_f_ex = zeros(length(tr.data))\n",
    "    o_f_ex = zeros(length(tr.data))\n",
    "    q_ex = zeros(length(tr.data))\n",
    "    Q_ex = zeros(length(tr.data))\n",
    "    Q_a_ex = zeros(length(tr.data))\n",
    "    q_a_ex = zeros(length(tr.data))\n",
    "    Q_a_s_ex = zeros(length(tr.data))\n",
    "    Q_a_g_ex = zeros(length(tr.data))\n",
    "    Q_s_ex = zeros(length(tr.data))\n",
    "    Q_g_ex = zeros(length(tr.data))\n",
    "    P_ex = zeros(length(tr.data))\n",
    "    κbar_ex = zeros(length(tr.data))\n",
    "    S_ex = zeros(length(tr.data))\n",
    "    S_proj_ex = zeros(length(tr.data))\n",
    "    SF_ex = zeros(length(tr.data))\n",
    "    SF_proj_ex = zeros(length(tr.data))\n",
    "    DSCR_ex=zeros(length(tr.data)) \n",
    "    e_1_ex = zeros(length(tr.data))\n",
    "    e_2_ex = zeros(length(tr.data))\n",
    "    e_3_ex = zeros(length(tr.data))\n",
    "    u_1_ex = zeros(length(tr.data))\n",
    "    R_ex = zeros(length(tr.data))\n",
    "    Y_1_ex = zeros(length(tr.data))\n",
    "    Y_2_ex = zeros(length(tr.data))\n",
    "    Y_3_ex = zeros(length(tr.data))\n",
    "    C_o_ex = zeros(length(tr.data))\n",
    "    C_d_ex = zeros(length(tr.data))\n",
    "    J_ex = zeros(length(tr.data)) \n",
    "    J_bar_ex = zeros(length(tr.data))\n",
    "    A_s_ex = zeros(length(tr.data)) \n",
    "    A_g_ex = zeros(length(tr.data)) \n",
    "    A_l_s_ex = zeros(length(tr.data)) \n",
    "    A_l_g_ex = zeros(length(tr.data)) \n",
    "    A_w_s_ex = zeros(length(tr.data)) \n",
    "    A_w_g_ex = zeros(length(tr.data)) \n",
    "    A_ex = zeros(length(tr.data))\n",
    "    w_max_s_ex = zeros(length(tr.data))\n",
    "    w_max_g_ex = zeros(length(tr.data))\n",
    "    J_m_need_ex = zeros(length(tr.data))\n",
    "    J_m_need_ws_ex = zeros(length(tr.data))\n",
    "    J_m_need_η_ex = zeros(length(tr.data))\n",
    "    u_e_need_ex = zeros(length(tr.data))\n",
    "    u_impl_dbar_ex = zeros(length(tr.data))\n",
    "    u_impl_η_ex = zeros(length(tr.data))\n",
    "    u_impl_vbar_ex = zeros(length(tr.data))\n",
    "    u_impl_w_s_ex = zeros(length(tr.data))\n",
    "    u_impl_w_g_ex = zeros(length(tr.data))\n",
    "    u_impl_μ_s_ex = zeros(length(tr.data))\n",
    "    u_impl_μ_g_ex = zeros(length(tr.data))\n",
    "    J_m_ex = zeros(length(tr.data))\n",
    "    J_e_ex = zeros(length(tr.data))\n",
    "    J_o_ex = zeros(length(tr.data))\n",
    "    J_b_ex = zeros(length(tr.data))\n",
    "    A_l_g_proj_ex=zeros(length(tr.data))\n",
    "    A_g_proj_ex=zeros(length(tr.data))\n",
    "    A_s_proj_ex=zeros(length(tr.data))\n",
    "    A_l_s_proj_ex=zeros(length(tr.data))\n",
    "    η_proj_ex = zeros(length(tr.data))\n",
    "    w_s_proj_ex = zeros(length(tr.data))\n",
    "    β_η_ex = zeros(length(tr.data))\n",
    "    β_w_s_ex = zeros(length(tr.data))\n",
    "    β_w_g_ex = zeros(length(tr.data))\n",
    "    \n",
    "    \n",
    "    #Note Phoenix Specific Variables\n",
    "    if(p[24]==1)\n",
    "        O_ex_1 = zeros(length(tr.data))\n",
    "        O_ex_2 = zeros(length(tr.data))\n",
    "        o_ex_1 = zeros(length(tr.data))\n",
    "        o_ex_2 = zeros(length(tr.data))\n",
    "        Q_1_ex = zeros(length(tr.data))\n",
    "        Q_2_ex = zeros(length(tr.data))\n",
    "        Q_b_ex = zeros(length(tr.data))\n",
    "    end\n",
    "    \n",
    "    for i in 1:length(tr.data)\n",
    "        μ_ex[i] = μ(tr.data[i],p,t[i])\n",
    "        year_ex[i] = year_0 + (i-1)\n",
    "        V_s_ex[i] = V_s(tr.data[i],p,t[i])\n",
    "        V_g_ex[i] = V_g(tr.data[i],p,t[i])\n",
    "        Vbar_s_ex[i] = Vbar_s(tr.data[i],p,t[i])\n",
    "        Vbar_g_ex[i] = Vbar_g(tr.data[i],p,t[i])\n",
    "        υ_proj_g_ex[i] = υ_and_η_proj_g(tr.data[i],p,t[i])[1]\n",
    "        D_ex[i] = D(tr.data[i],p,t[i])\n",
    "        d_ST_ex[i] = d_ST(tr.data[i],p,t[i])\n",
    "        D_ST_ex[i] = D_ST(tr.data[i],p,t[i])\n",
    "        D_proj_ex[i] = D_proj(tr.data[i],p,t[i])\n",
    "        D_bar_ex[i] = D_bar(tr.data[i],p,t[i])\n",
    "        O_ex[i] = O(tr.data[i],p,t[i]) \n",
    "        o_ex[i] = O_ex[i]/μ_ex[i]\n",
    "        O_d_ex[i] = O_d(tr.data[i],p,t[i])\n",
    "        o_d_ex[i] = O_d_ex[i]/μ_ex[i]\n",
    "        O_s_ex[i] = O_s(tr.data[i],p,t[i]) \n",
    "        o_s_ex[i] = O_s_ex[i]/μ_ex[i]\n",
    "        O_g_ex[i] = O_g(tr.data[i],p,t[i]) \n",
    "        o_g_ex[i] = O_g_ex[i]/μ_ex[i]\n",
    "        O_f_ex[i] = O_f(tr.data[i],p,t[i]) \n",
    "        o_f_ex[i] = O_f_ex[i]/μ_ex[i]\n",
    "        q_ex[i] = q(tr.data[i],p,t[i]) \n",
    "        Q_ex[i] = Q(tr.data[i],p,t[i]) \n",
    "        Q_a_ex[i] = Q_a(tr.data[i],p,t[i]) \n",
    "        q_a_ex[i] = q_a(tr.data[i],p,t[i]) \n",
    "        Q_a_s_ex[i] = Q_a_s(tr.data[i],p,t[i]) \n",
    "        Q_a_g_ex[i] = Q_a_g(tr.data[i],p,t[i])  \n",
    "        Q_s_ex[i] = q_s_ex[i]*μ_s[i]\n",
    "        Q_g_ex[i] = q_g_ex[i]*μ_g[i]\n",
    "        Q_b_ex[i]=Q_b(tr.data[i],p,t[i])\n",
    "        P_ex[i] = P(tr.data[i],p,t[i])\n",
    "        S_ex[i] = S(tr.data[i],p,t[i])\n",
    "        S_proj_ex[i] = S_proj(tr.data[i],p,t[i])\n",
    "        SF_ex[i] = M_1(tr.data[i],p,t[i])\n",
    "        SF_proj_ex[i] = M_2(tr.data[i],p,t[i])\n",
    "        DSCR_ex[i] = M_3(tr.data[i],p,t[i])\n",
    "        e_1_ex[i] = e_1(tr.data[i],p,t[i])\n",
    "        e_2_ex[i] = e_2(tr.data[i],p,t[i])\n",
    "        e_3_ex[i] = e_3(tr.data[i],p,t[i])\n",
    "        u_1_ex[i] = u_1(tr.data[i],p,t[i])\n",
    "        R_ex[i] = R(tr.data[i],p,t[i])\n",
    "        Y_1_ex[i] = Y_1(tr.data[i],p,t[i])\n",
    "        Y_2_ex[i] = Y_2(tr.data[i],p,t[i])\n",
    "        Y_3_ex[i] = Y_3(tr.data[i],p,t[i])\n",
    "        C_o_ex[i] = C_o(tr.data[i],p,t[i])\n",
    "        C_d_ex[i] = C_d(tr.data[i],p,t[i])\n",
    "        J_ex[i] = J(tr.data[i],p,t[i])\n",
    "        J_bar_ex[i] = J_bar(tr.data[i],p,t[i])    \n",
    "        A_s_ex[i] = A_s(tr.data[i],p,t[i])\n",
    "        A_g_ex[i] = A_g(tr.data[i],p,t[i])\n",
    "        A_s_proj_ex[i]=A_proj_s(tr.data[i],p,t[i])\n",
    "        A_g_proj_ex[i]=A_proj_g(tr.data[i],p,t[i])\n",
    "        A_l_s_ex[i] = A_l_s(tr.data[i],p,t[i])\n",
    "        A_l_s_proj_ex[i] = A_proj_l_s(tr.data[i],p,t[i])\n",
    "        A_l_g_proj_ex[i] = A_proj_l_g(tr.data[i],p,t[i])\n",
    "        A_l_g_ex[i] = A_l_g(tr.data[i],p,t[i])\n",
    "        A_w_s_ex[i] = A_w_s(tr.data[i],p,t[i])\n",
    "        A_w_g_ex[i] = A_w_g(tr.data[i],p,t[i])\n",
    "        A_ex[i] = A(tr.data[i],p,t[i])\n",
    "        w_max_s_ex[i] = w_max_s(tr.data[i],p,t[i])\n",
    "        w_max_g_ex[i] = w_max_g(tr.data[i],p,t[i])\n",
    "        J_m_need_ex[i] = J_m_need(tr.data[i],p,t[i]) \n",
    "        J_m_need_ws_ex[i] = J_m_w_s(tr.data[i],p,t[i]) \n",
    "        J_m_need_η_ex[i] =J_m_η(tr.data[i],p,t[i]) \n",
    "        J_m_ex[i] = J_m(tr.data[i],p,t[i])\n",
    "        J_e_ex[i] = J_e(tr.data[i],p,t[i])\n",
    "        J_b_ex[i] = J_b(tr.data[i],p,t[i])\n",
    "        J_o_ex[i] = J_o(tr.data[i],p,t[i])\n",
    "        u_e_need_ex[i] = u_e_need(tr.data[i],p,t[i])\n",
    "        η_proj_ex[i] = η_proj(tr.data[i],p,t[i])\n",
    "        w_s_proj_ex[i] = w_proj_s(tr.data[i],p,t[i])\n",
    "        β_k_t = β_k(tr.data[i],p,t[i])\n",
    "        β_η_ex[i] = β_k_t[1]\n",
    "        β_w_s_ex[i] = β_k_t[3]\n",
    "        β_w_g_ex[i] = β_k_t[4]\n",
    "        \n",
    "        #Record Implemented Expansionary Investments\n",
    "        u_t = u(tr.data[i],p,t[i])\n",
    "        u_impl_k_ex = ImplementOrStoreLTInvest(tr.data[i],u_t,p,t[i])[1]\n",
    "        u_impl_dbar_ex[i] = u_impl_k_ex[1]\n",
    "        u_impl_η_ex[i] = u_impl_k_ex[2]\n",
    "        u_impl_vbar_ex[i] = u_impl_k_ex[3]\n",
    "        u_impl_w_s_ex[i] = u_impl_k_ex[4]\n",
    "        u_impl_w_g_ex[i] = u_impl_k_ex[5]\n",
    "        u_impl_μ_s_ex[i] = u_impl_k_ex[6]\n",
    "        u_impl_μ_g_ex[i] = u_impl_k_ex[7]\n",
    "        \n",
    "        #PMA Specific Auxiliary Variables of Interest\n",
    "        if(p[24]==1) \n",
    "            O_ex_1[i] = O_1(tr.data[i],p,t[i])\n",
    "            O_ex_2[i] = O_2(tr.data[i],p,t[i])\n",
    "            o_ex_1[i] = O_ex_1[i]/(μ_s[i]+μ_g[i])\n",
    "            o_ex_2[i] = O_ex_2[i]/(μ_s[i]+μ_g[i])\n",
    "            Q_1_ex[i] = p[1][3]*p[13][4]\n",
    "            \n",
    "            Q_CAP = (Q_s(tr.data[i],p,t[i]) - p[1][3])\n",
    "            CAP_short = p[1][4] - Q_CAP\n",
    "            NIA_avail = max(0,70022-CAP_short)\n",
    "            high_avail = Q_CAP - NIA_avail\n",
    "            Q_2_ex[i] = p[13][6]*NIA_avail + p[13][7]*high_avail\n",
    "        end\n",
    "    end\n",
    "    \n",
    "    ##Shortage Calculations\n",
    "    ω_pre = ifelse.(D_bar_ex.> S_ex,(D_bar_ex-S_ex)./D_bar_ex,0)\n",
    "    ω_post = ifelse.(D_ST_ex.> S_ex,(D_ST_ex-S_ex)./D_ST_ex,0)\n",
    "    n_ω_pre = ifelse.(ω_pre .> 0, 1, 0)\n",
    "    n_ω_post = ifelse.(ω_post .> 0, 1, 0)\n",
    "    \n",
    "    ##Aggregate Variables into Single Dataframe\n",
    "    if(p[24]==1)\n",
    "        vars = DataFrame(t=t,year=year_ex,p=p_ex, χ=χ, υ_s=υ_s, υ_g=υ_g, υ_bar_s=υ_bar_s, υ_bar_g=υ_bar_g, w_s=w_s, w_g=w_g, q_s=q_s_ex, q_g=q_g_ex, Q=Q_ex, q=q_ex, Q_s=Q_s_ex, Q_g=Q_g_ex, μ_s=μ_s, μ_g=μ_g, \n",
    "            C_v_s=C_v_s, C_v_g=C_v_g, η=η, χbar=χbar, f=f,  μ=μ_ex, V_s = V_s_ex, V_g = V_g_ex, Vbar_s = Vbar_s_ex, Vbar_g = Vbar_g_ex, D=D_ex, D_proj=D_proj_ex,υ_proj_g=υ_proj_g_ex, O=O_ex, o=o_ex, O_d = O_d_ex, o_d = o_d_ex, \n",
    "            O_s=O_s_ex, o_s=o_s_ex, O_g=O_g_ex, o_g=o_g_ex, O_f=O_f_ex, o_f=o_f_ex, O_1=O_ex_1, o_1=o_ex_1, O_2=O_ex_2, o_2=o_ex_2, P=P_ex, S=S_ex, S_proj=S_proj_ex,Q_a = Q_a_ex, q_a = q_a_ex, \n",
    "            Q_a_s = Q_a_s_ex, Q_a_g = Q_a_g_ex, SF=SF_ex, SF_proj=SF_proj_ex,DSCR=DSCR_ex, e_1=e_1_ex, e_2 = e_2_ex, e_3 = e_3_ex, u_1=u_1_ex, R=R_ex, Y_1=Y_1_ex, Y_2=Y_2_ex, Y_3 = Y_3_ex, C_o = C_o_ex, \n",
    "            C_d = C_d_ex, J=J_ex, ω_pre=ω_pre,ω_post=ω_post,n_ω_pre=n_ω_pre,n_ω_post=n_ω_post, Q_1=Q_1_ex, Q_2=Q_2_ex, A_s=A_s_ex,A_g=A_g_ex,A=A_ex, A_l_s=A_l_s_ex, A_l_g=A_l_g_ex, A_w_s=A_w_s_ex,\n",
    "            A_w_g=A_w_g_ex, w_max_s = w_max_s_ex, w_max_g = w_max_g_ex, J_m_need=J_m_need_ex, J_m_need_ws= J_m_need_ws_ex,J_m_need_η=J_m_need_η_ex,u_impl_dbar =u_impl_dbar_ex,u_impl_η =u_impl_η_ex,u_impl_vbar =u_impl_vbar_ex, \n",
    "            u_impl_w_s =u_impl_w_s_ex,u_impl_w_g =u_impl_w_g_ex,\n",
    "            u_impl_μ_s =u_impl_μ_s_ex,u_impl_μ_g =u_impl_μ_g_ex, J_m=J_m_ex, J_e=J_e_ex, J_b_avg=J_b_avg,J_bar=J_bar_ex,J_b=J_b_ex,J_o=J_o_ex, \n",
    "            D_bar=D_bar_ex,D_ST = D_ST_ex, d_ST = d_ST_ex,u_e_need=u_e_need_ex,A_l_g_proj=A_l_g_proj_ex,A_g_proj=A_g_proj_ex, A_s_proj=A_s_proj_ex,η_proj=η_proj_ex,\n",
    "            A_l_s_proj=A_l_s_proj_ex, β_η=β_η_ex,β_w_s=β_w_s_ex,β_w_g=β_w_g_ex,Q_b=Q_b_ex,w_s_proj=w_s_proj_ex)\n",
    "    else \n",
    "        vars = DataFrame(t=t,year=year_ex,p=p_ex, χ=χ, υ_s=υ_s, υ_g=υ_g, υ_bar_s=υ_bar_s, υ_bar_g=υ_bar_g, w_s=w_s, w_g=w_g, q_s=q_s_ex, q_g=q_g_ex, Q=Q_ex, q=q_ex, Q_s=Q_s_ex, Q_g=Q_g_ex, μ_s=μ_s, μ_g=μ_g, \n",
    "            C_v_s=C_v_s, C_v_g=C_v_g, η=η, χbar=χbar, f=f,  μ=μ_ex, V_s = V_s_ex, V_g = V_g_ex, Vbar_s = Vbar_s_ex,υ_proj_g=υ_proj_g_ex,Vbar_g = Vbar_g_ex, D=D_ex, D_proj=D_proj_ex, O=O_ex, o=o_ex, O_d = O_d_ex, o_d = o_d_ex, O_s=O_s_ex, \n",
    "            o_s=o_s_ex, O_g=O_g_ex, o_g=o_g_ex, O_f=O_f_ex, o_f=o_f_ex, P=P_ex, S=S_ex, S_proj=S_proj_ex, Q_a = Q_a_ex, q_a = q_a_ex, Q_a_s = Q_a_s_ex, Q_a_g = Q_a_g_ex, SF=SF_ex, SF_proj=SF_proj_ex, \n",
    "            DSCR=DSCR_ex, e_1=e_1_ex, e_2 = e_2_ex, e_3 = e_3_ex, u_1=u_1_ex, R=R_ex, Y_1=Y_1_ex, Y_2=Y_2_ex, Y_3 = Y_3_ex, C_o = C_o_ex, C_d = C_d_ex, J=J_ex, ω_pre=ω_pre,ω_post=ω_post,n_ω_pre=n_ω_pre,\n",
    "            n_ω_post=n_ω_post, A_s=A_s_ex,A_g=A_g_ex,A=A_ex,A_l_s=A_l_s_ex, A_l_g=A_l_g_ex, A_w_s=A_w_s_ex,A_w_g=A_w_g_ex,w_max_s = w_max_s_ex, w_max_g = w_max_g_ex,J_m_need=J_m_need_ex,\n",
    "            J_m_need_ws= J_m_need_ws_ex,J_m_need_η=J_m_need_η_ex,u_impl_dbar =u_impl_dbar_ex,u_impl_η =u_impl_η_ex,u_impl_vbar =u_impl_vbar_ex, u_impl_w_s =u_impl_w_s_ex,u_impl_w_g =u_impl_w_g_ex,\n",
    "            u_impl_μ_s =u_impl_μ_s_ex,u_impl_μ_g =u_impl_μ_g_ex, J_m=J_m_ex, J_e=J_e_ex,J_b_avg=J_b_avg,J_bar=J_bar_ex,J_b=J_b_ex,J_o=J_o_ex, D_bar=D_bar_ex,D_ST = D_ST_ex, d_ST = d_ST_ex,\n",
    "            u_e_need=u_e_need_ex,A_l_g_proj=A_l_g_proj_ex,A_g_proj=A_g_proj_ex,A_s_proj=A_s_proj_ex,η_proj=η_proj_ex,A_l_s_proj=A_l_s_proj_ex, β_η=β_η_ex,β_w_s=β_w_s_ex,β_w_g=β_w_g_ex)\n",
    "    end\n",
    "\n",
    "    return vars\n",
    "end;"
   ]
  },
  {
   "cell_type": "markdown",
   "id": "6e1e31ae-c606-42cf-ba70-84b141d560e1",
   "metadata": {
    "jp-MarkdownHeadingCollapsed": true,
    "tags": []
   },
   "source": [
    "### b.) Generate Time Series Plots"
   ]
  },
  {
   "cell_type": "markdown",
   "id": "604eb1f4-bcec-4062-8942-98cfb6e0a607",
   "metadata": {
    "jp-MarkdownHeadingCollapsed": true,
    "tags": []
   },
   "source": [
    "#### Description of Plots"
   ]
  },
  {
   "cell_type": "markdown",
   "id": "5f4ea9af-b7bb-473e-8f99-509409df04f0",
   "metadata": {},
   "source": [
    "All Time Series Plotting Functions return a vector of 13 plots:\n",
    "\n",
    "i. Shortage Plot (Supply, Demand, Shortage)\n",
    "\n",
    "ii. Flows Plot (Inflows & Use) \n",
    "\n",
    "iii. Storage Plot (Fill Volume & Storage Capacity) \n",
    "\n",
    "iv. Error \n",
    "\n",
    "v. Attention\n",
    "\n",
    "vi. Financial Flows (Revenue, Costs, Investments)\n",
    "\n",
    "vii. Per-Capita Revenue \n",
    "\n",
    "viii. Delivery Efficiency \n",
    "\n",
    "ix. Per-Capita Demand (Base & Actual)\n",
    "\n",
    "x. Processing Capacity\n",
    "\n",
    "xi. Population\n",
    "\n",
    "xii. Mean Inflow (including augmentation)\n",
    "\n",
    "xiii. All plots "
   ]
  },
  {
   "cell_type": "markdown",
   "id": "224de33e-390d-469a-8002-a58374009498",
   "metadata": {
    "jp-MarkdownHeadingCollapsed": true,
    "tags": []
   },
   "source": [
    "#### Non-dimensional Time Series"
   ]
  },
  {
   "cell_type": "code",
   "execution_count": 114,
   "id": "7acbf3bc-2b1e-4f81-9af7-e46fa8d15d7a",
   "metadata": {
    "tags": []
   },
   "outputs": [],
   "source": [
    "function timeSeriesPlot_nondim(vars,p,x_0)\n",
    "   \n",
    "    ##Plot Test Plots\n",
    "    #Shortage, Demand, Supply, Population\n",
    "    plt_short=plot(vars.t, [vars.S./vars.μ vars.χ.*vars.P vars.χbar.*vars.P vars.ω_pre vars.ω_post], labels = [\"Supply\" \"Demand\" \"Demand_base\" \"Shortage_PreCons\" \"Shortage_w/Cons\"], xlabel = \"Year\", ylabel = \"Flow/μ\", \n",
    "        linecolor = [:green :blue :indigo :pink :red], title = \"Shortage\",legend=:outerright)\n",
    "    \n",
    "    #Flows\n",
    "    if(p[24]==1)\n",
    "        plt_flows = plot(vars.t, [vars.q_a vars.o_d], labels=[\"In_avail\" \"Use\"], ylims = (0,vars.q_a[1]*1.5), xlabel = \"Year\", ylabel=\"Flow/μ\", title = \"Inflows & Use\", \n",
    "        legend = :outerright, linecolor = [:darkgreen :darkgreen], linestyle=[:solid :dot])\n",
    "    else\n",
    "        plt_flows = plot(vars.t, [vars.q_a vars.Q_a_s./vars.μ p[13][4].*(1 .+ vars.C_v_s) p[13][4].*(1 .- vars.C_v_s) vars.Q_a_g./vars.μ vars.o_d vars.o_s vars.o_g vars.o_p vars.o_f], \n",
    "            labels= [\"In_avail\" \"In_s\" \"+σ_s\" \"-σ_s\" \"In_g\" \"Use_all\" \"Use_s\" \"Use_g\" \"Use_p\" \"Use_f\"], ylims = (0,vars.q_a[1]*1.5), xlabel = \"Year\", ylabel=\"Flow/μ\", title = \"Inflows & Use\", legend = :outerright, \n",
    "            linecolor = [:black :green :green :green :turquoise :black :green :turquoise :blue :brown], linestyle=[:solid :solid :dash :dash :solid :dot :dot :dot :dot :dot])\n",
    "    end\n",
    "    \n",
    "    #Storage Volume & Capacity\n",
    "    plt_stor = plot(vars.t, [vars.υ_s.*vars.υ_bar_s vars.υ_bar_s], labels = [\"Stor_Vol\" \"Stor_Capac\"], ylims = (0,p[12][1].*1.5), xlabel = \"Year\", ylabel=\"Vol/(μ*C_v)\", title = \"Reservoir Storage\", \n",
    "        legend = :outerright, linecolor = [:grey :black])\n",
    "    \n",
    "    #Error\n",
    "    plt_e = plot(vars.t,[vars.e_1 vars.e_2 vars.e_3], labels = [\"Short-Term\" \"Invest\" \"Rates\"], xlabel = \"Year\", ylabel = \"Error\", title = \"Error\", \n",
    "        legend = :outerright, ylims = (-3,3), linecolor = [:blue :green :brown])\n",
    "    \n",
    "    #Attention\n",
    "    plt_ρ = plot(vars.t,[vars.Y_1 vars.Y_2 vars.Y_3],labels = [\"Short-Term\" \"Invest\" \"Rates\"], xlabel=\"Year\", ylabel = \"Attention\", \n",
    "        title = \"Attention\", legend=:outerright, linecolor = [:blue :green :brown])\n",
    "\n",
    "    #Financial Flows\n",
    "    plt_fin = plot(vars.t,[vars.R.*0.000001 vars.C_o.*0.000001 vars.C_d.*0.000001 vars.J.*0.000001./p[16][2]], labels = [\"Rev\" \"Op Costs\" \"Debt Serv\" \"Inv Long\"], \n",
    "        xlabel=\"Year\", ylabel = \"Dollars (M)\", title = \"Financial Flows\", legend=:outerright, ylims=(0,(p[2]*p[5].*0.000001)), \n",
    "        linecolor = [:brown :pink :blue :green])\n",
    "    \n",
    "    #Rate-Setting\n",
    "    plt_f = plot(vars.t,vars.f, labels = \"f\", xlabel=\"Time(years)\", ylabel = \"Per-Capita Rates/Max Per-Capita Rates\", title = \"Rates - Max Rates Ratio\", legend=:outerright, \n",
    "        ylims=(0,1.2), linecolor = :brown)\n",
    "    \n",
    "    #Delivery Efficiency\n",
    "    plt_η = plot(vars.t, [vars.η vars.u_impl_η./vars.A], xlabel = \"Year\",labels = [\"η\" \"Invest_η\"],ylabel=\"Del. Eff (%Outflow)\", title = \"Delivery Efficiency\", \n",
    "        linecolor = :purple, linestyle = [:solid :dot], legend=:outerright, ylims = (0,2.2))\n",
    "    hline!([p[11]], labels=\"η_max\", linestyle=:dash, linecolor=:purple)\n",
    "    \n",
    "    #Per-Capita Demand\n",
    "    plt_d = plot(vars.t, [vars.χ vars.χbar (vars.u_1./vars.μ).*(-1) (vars.u_impl_dbar./vars.μ).*(-1) p[14]./vars.μ], xlabel = \"Year\", ylabel=\"Flows/cap/μ\",\n",
    "        labels=[\"Dem_PC\" \"BaseDem_PC\" \"Conserv_ST\" \"Conserv_LT\" \"Dem_PC_min\"], title=\"Per-Capita Demand\", ylims = (0,1.1*vars.χbar[1]), \n",
    "        legend=:outerright, linecolor = [:blue :indigo :blue :indigo :indigo], linestyle = [:solid :solid :dot :dot :dash])\n",
    "    \n",
    "    #Pumping Capacity\n",
    "    plt_w = plot(vars.t, [vars.w_s vars.w_g vars.u_impl_w_s./(vars.Vbar_s.+vars.Q_a_s) vars.u_impl_w_g./(vars.Vbar_s.+vars.Q_a_s) vars.w_max_s vars.w_max_g], xlabel = \"Year\",\n",
    "        labels = [\"w_s\" \"Invest_w_s\" \"w_g\" \"Invest_w_g\" \"w_s_max\" \"w_g_max\"], ylabel=\"Surface Pump Capac (%Storage)\", title = \"Processing Capacity\", \n",
    "        linecolor = [:green :turquoise :green :turquoise :green :turquoise], linestyle = [:solid :solid :dot :dot :dash :dash], legend=:outerright, ylims = (0,1.2))\n",
    "    \n",
    "    #Mean Inflow\n",
    "    plt_μ = plot(vars.t, [vars.μ_s./vars.μ[1] vars.μ_g./vars.μ[1]], xlabel = \"Year\", labels = [\"μ_s\" \"μ_g\"], ylabel = \"Mean Inflow/Total Initial Mean Inflow (μ_0)\", title = \"Mean River Inflow\", \n",
    "        linecolor = [:green :turquoise], linestyle = :solid, legend = :outerright, ylims = (0,1.5))\n",
    "    hline!([p[1][1]/vars.μ[1]], labels=\"μ_s_max\", linestyle=:dash, linecolor=:green)\n",
    "    hline!([p[1][2]/vars.μ[1]], labels=\"μ_g_max\", linestyle=:dash, linecolor=:turquoise)\n",
    "    \n",
    "    #Population\n",
    "    plt_P = plot(vars.t, vars.P.*0.001, ylabel=\"1000 Persons\", xlabel = \"Year\", title = \"Population\", labels=\"Pop\", ylims=(0,p[5]*1.2*0.001), \n",
    "        linecolor = :orange, linestyle = [:solid :dash :dot], legend = :outerright)\n",
    "    \n",
    "    #Aggregate Plots\n",
    "    plt = plot(plt_short, plt_flows, plt_stor, plt_e, plt_ρ, plt_fin, plt_f, plt_η, plt_d, plt_w, plt_P, plt_μ, size = (1800,1500), layout = (4,3))\n",
    "    \n",
    "    #Save in Plot List\n",
    "    plt_list = [plt_short plt_flows plt_stor plt_e plt_ρ plt_fin plt_f plt_η plt_d plt_w plt_P plt_μ plt]\n",
    "    \n",
    "    return plt_list\n",
    "end;"
   ]
  },
  {
   "cell_type": "markdown",
   "id": "90c6542a-d146-440b-80e0-0a06cdcfbf76",
   "metadata": {
    "jp-MarkdownHeadingCollapsed": true,
    "tags": []
   },
   "source": [
    "#### Dimensional Time Series"
   ]
  },
  {
   "cell_type": "code",
   "execution_count": 115,
   "id": "97f39008-20a8-462f-b7d3-55448153e249",
   "metadata": {},
   "outputs": [],
   "source": [
    "function timeSeriesPlot_dim(vars,p,x_0,units)\n",
    "    ##Note Key Times; If Phoenix scenario, note CAP shock time. If general, not time that demand reaches μ\n",
    "    if(p[24]==1)\n",
    "        t_CAP = p[25][3]\n",
    "        year_CAP = vars.year[1] + t_CAP\n",
    "    end\n",
    "    \n",
    "    ##Plot Test Plots\n",
    "    #Shortage, Demand, Supply, Population\n",
    "    if(units == \"AF\")\n",
    "        plt_short=plot(vars.year, [vars.S.*0.001 vars.D_ST.*0.001 vars.χbar.*vars.P.*vars.μ.*0.001 vars.ω_pre.*vars.D_bar.*0.001 vars.ω_post.*vars.D_ST.*0.001], \n",
    "            labels = [\"Supply\" \"Demand\" \"Demand_base\" \"Shortage_preCons\" \"Shortage_w/Cons\"], xlabel = \"Year\", ylabel = \"KAFY\", \n",
    "            linecolor = [:green :blue :indigo :pink :red], title = \"Supply & Demand\",legend=:outerright, legendtitle=\"Supply & Demand\")\n",
    "    else\n",
    "        plt_short=plot(vars.year, [vars.S.*0.000000001 vars.D_ST.*0.000000001 vars.χbar.*vars.P.*vars.μ.*0.000000001 vars.ω_pre.*vars.D_bar.*0.000000001 vars.ω_post.*vars.D_ST.*0.000000001], \n",
    "            labels = [\"Supply\" \"Demand\" \"Demand_base\" \"Shortage_preCons\" \"Shortage_w/Cons\"], xlabel = \"Year\", ylabel = \"Bgal/yr\", linecolor = [:green :blue :indigo :pink :red], \n",
    "            title = \"Supply & Demand\",legend=:outerright, legendtitle=\"Supply & Demand\")\n",
    "    end\n",
    "    if(p[24]==1)\n",
    "        vline!([year_CAP],labels=\"t_CAP\",linestyle=:dash, linecolor = :magenta)\n",
    "    end\n",
    "    \n",
    "    #Flows\n",
    "    if(p[24] == 1)\n",
    "        plt_flows = plot(vars.year, [vars.Q_a.*0.001 vars.Q_1.*0.001 vars.Q_2.*0.001 vars.Q_a_g.*0.001 vars.O_d.*0.001 vars.O_1.*0.001 vars.O_2.*0.001 vars.O_g.*0.001], \n",
    "            labels=[\"In_all\" \"In_SRP\" \"In_CAP\" \"In_GW\" \"Use_all\" \"Use_SRP\" \"Use_CAP\" \"Use_GW\"], ylims = (0,1.2*0.001*vars.Q_a[1]), xlabel = \"Year\", ylabel = \"KAFY\", title = \"Inflows & Use\", legend = :outerright, \n",
    "            linecolor = [:black :darkgreen :purple :turquoise :black :darkgreen :purple :turquoise], linestyle=[:solid :solid :solid :solid :dot :dot :dot :dot], legendtitle=\"Inflows & Use\")\n",
    "        vline!([year_CAP],labels=\"t_CAP\",linestyle=:dash, linecolor = :magenta)\n",
    "    else\n",
    "        if(units == \"AF\")\n",
    "            plt_flows = plot(vars.year, [vars.Q_a.*0.001 vars.Q_a_s.*0.001 (1 .+ vars.C_v_s).*vars.μ_s.*p[13][4].*0.001 (1 .- vars.C_v_s).*vars.μ_s.*p[13][4].*0.001 vars.Q_a_g.*0.001 (1 .+ vars.C_v_g).*vars.μ_g.*p[13][2].*0.001 (1 .- vars.C_v_g).*vars.μ_g.*p[13][2].*0.001 vars.O_d.*0.001 vars.O_s.*0.001 vars.O_g.*0.001 vars.O_p.*0.001 vars.O_f.*0.001], \n",
    "                labels=[\"In_all\" \"In_s\" \"+σ_s\" \"-σ_s\" \"In_g\" \"+σ_g\" \"-σ_g\" \"Use_all\" \"Use_s\" \"Use_g\" \"Use_p\" \"Flood\"], ylims = (0,1.5*0.001*vars.μ[1]), xlabel = \"Year\", title = \"Inflows & Use\", ylabel = \"KAFY\", legend = :outerright, \n",
    "                linecolor = [:black :green :green :green :turquoise :turquoise :turquoise :black :green :turquoise :blue :brown], linestyle=[:solid :solid :dash :dash :solid :dash :dash :dot :dot :dot :dot :dot], legendtitle=\"Inflows & Use\")\n",
    "        else\n",
    "            plt_flows = plot(vars.year, [vars.Q_a.*0.000000001 vars.Q_a_s.*0.000000001 (1 .+ vars.C_v_s).*vars.μ_s.*p[13][4].*0.000000001 (1 .- vars.C_v_s).*vars.μ_s.*p[13][4].*0.000000001 vars.Q_a_g.*0.000000001 (1 .+ vars.C_v_g).*vars.μ_g.*p[13][2].*0.000000001 (1 .- vars.C_v_g).*vars.μ_g.*p[13][2].*0.000000001 vars.O_d.*0.000000001 vars.O_s.*0.000000001 vars.O_g.*0.000000001 vars.O_p.*0.000000001 vars.O_f.*0.000000001], \n",
    "                labels=[\"In_all\" \"In_s\" \"+σ_s\" \"-σ_s\" \"In_g\" \"+σ_g\" \"-σ_g\" \"Use_all\" \"Use_s\" \"Use_g\" \"Use_p\" \"Flood\"], ylims = (0,1.5*0.000000001*vars.μ[1]), xlabel = \"Year\", title = \"Inflows & Use\", ylabel = \"Bgal.yr\", \n",
    "                legend = :outerright, linecolor = [:black :green :green :green :turquoise :turquoise :turquoise :black :green :turquoise :blue :brown], \n",
    "                linestyle=[:solid :solid :dash :dash :solid :dash :dash :dot :dot :dot :dot :dot], legendtitle=\"Inflows & Use\")\n",
    "        end\n",
    "    end\n",
    "    \n",
    "    #Storage Volume & Capacity\n",
    "    if(p[24] ==1)\n",
    "        SY = p[13][2]*p[1][2]*100 #calculate the safe-yield storage volume\n",
    "        \n",
    "        plt_stor = plot(vars.year, [vars.V_g.*0.000001 vars.Vbar_g.*0.000001 vars.υ_proj_g.*vars.Vbar_g.*0.000001], labels = [\"Stor_Vol\" \"Stor_Capac\" \"Stor_Vol_proj\"], ylims = (0,vars.Vbar_g[1]*0.000001*1.2), \n",
    "                xlabel = \"Year\", ylabel = \"MAF\", title = \"Local Aquifer Storage\", legend = :outerright, linecolor = [:grey :black :brown], legendtitle=\"Storage Capacity\")\n",
    "        vline!([year_CAP],labels=\"t_CAP\",linestyle=:dash, linecolor = :magenta)\n",
    "        hline!([SY.*0.000001],labels=\"SY\",linestyle=:dash,linecolor=:red)\n",
    "    else\n",
    "        if(units == \"AF\")\n",
    "            plt_stor = plot(vars.year, [vars.V_s.*0.000001 vars.Vbar_s.*0.000001 vars.V_g.*0.000001 vars.Vbar_g.*0.000001], labels = [\"Stor_Vol\" \"Stor_Capac\" \"Stor_Vol\" \"Stor_Capac\"], \n",
    "                ylims = (0,max(p[12][1]*vars.C_v_s[1]*vars.μ_s[1], p[12][2]*vars.C_v_g[1]*vars.μ_g[1])*0.000001*1.5), xlabel = \"Year\", ylabel = \"MAF\", title = \"Storage\", \n",
    "                legend = :outerright, linecolor = [:grey :black :grey :black], legendtitle=\"Storage Capacity\")\n",
    "        else\n",
    "            plt_stor = plot(vars.year, [vars.V_s.*0.000000001 vars.Vbar_s.*0.000000001 vars.V_g.*0.000000001 vars.Vbar_g.*0.000000001], labels = [\"Stor_Vol\" \"Stor_Capac\" \"Stor_Vol\" \"Stor_Capac\"], \n",
    "                ylims = (0,max(p[12][1]*vars.C_v_s[1]*vars.μ_s[1], p[12][2]*vars.C_v_g[1]*vars.μ_g[1])*0.000000001*1.5), xlabel = \"Year\", ylabel = \"Bgal\", title = \"Storage\", \n",
    "                legend = :outerright, linecolor = [:grey :black :grey :black], legendtitle=\"Storage Capacity\")\n",
    "        end\n",
    "    end\n",
    "    \n",
    "    #Error\n",
    "    plt_e = plot(vars.year,[vars.e_1 vars.e_2 vars.e_3], labels = [\"Short-Term\" \"Invest\" \"Rates\"], xlabel = \"Year\", ylabel = \"Error\", title = \"Error\", \n",
    "        legend = :outerright, ylims = (-3,3), linecolor = [:blue :grey :green :brown], legendtitle=\"Error\")\n",
    "    if(p[24]==1)\n",
    "        vline!([year_CAP],labels=\"t_CAP\",linestyle=:dash, linecolor = :magenta)\n",
    "    end\n",
    "    \n",
    "    \n",
    "    #Attention\n",
    "    plt_Y = plot(vars.year,[vars.Y_1 vars.Y_2 vars.Y_3],labels = [\"Short-Term\" \"Long-Term\" \"Rates\"], xlabel=\"Year\", ylabel = \"Attention\", \n",
    "        title = \"Attention\", legend=:outerright, linecolor = [:blue :green :brown], legendtitle=\"Attention\")\n",
    "    if(p[24]==1)\n",
    "        vline!([year_CAP],labels=\"t_CAP\",linestyle=:dash, linecolor = :magenta)\n",
    "    end\n",
    "\n",
    "    #Financial Flows\n",
    "    plt_fin = plot(vars.year,[vars.R.*0.000001 vars.C_o.*0.000001 vars.C_d.*0.000001 vars.J_bar.*0.000001 vars.J.*0.000001 vars.J_m_need.*0.000001], \n",
    "        labels = [\"Rev\" \"Op Costs\" \"Debt Serv\" \"MaxInvest\" \"Inv Long\" \"Inv_Maint\"], \n",
    "        xlabel=\"Year\", ylabel = \"Dollars (M)\", title = \"Financial Flows\", legend=:outerright, ylims=(0,(maximum(vars.R)*0.000001*2)), legendtitle=\"Financial Flows\", \n",
    "        linecolor = [:purple :red :orange :black :green :brown])\n",
    "    if(p[24]==1)\n",
    "        vline!([year_CAP],labels=\"t_CAP\",linestyle=:dash, linecolor = :magenta)\n",
    "    end\n",
    "    \n",
    "    #Rate-Setting\n",
    "    plt_f = plot(vars.year,vars.f.*p[2], labels = \"f\", xlabel=\"Time(years)\", ylabel = \"Per-Capita Rates (Dollars/yr)\", title = \"Rates - Max Rates Ratio\", legend=:outerright, \n",
    "        ylims=(0,1.2*maximum(vars.f.*p[2])), linecolor = :brown, legendtitle=\"Rates\")\n",
    "    hline!([p[2]], labels = \"Rate_PC_max\", linestyle=:dash, linecolor=:brown) \n",
    "    if(p[24]==1)\n",
    "        vline!([year_CAP],labels=\"t_CAP\",linestyle=:dash, linecolor = :magenta)\n",
    "    end\n",
    "    \n",
    "    #Delivery Efficiency\n",
    "    plt_η = plot(vars.year, [vars.η vars.u_impl_η./vars.A], xlabel = \"Year\",labels = [\"η\" \"Invest_η\"],ylabel=\"Del. Eff (%Outflow)\", title = \"Delivery Efficiency\", \n",
    "        linecolor = :purple, linestyle = [:solid :dot], legend=:outerright, ylims = (0,p[11]*1.2), legendtitle=\"Delivery Efficiency\")\n",
    "    hline!([p[11]], labels=\"η_max\", linestyle=:dash, linecolor=:purple)\n",
    "    if(p[24]==1)\n",
    "        vline!([year_CAP],labels=\"t_CAP\",linestyle=:dash, linecolor = :magenta)\n",
    "    end\n",
    "    \n",
    "    #Per-Capita Demand\n",
    "    if(units == \"AF\")\n",
    "        plt_d = plot(vars.year, [vars.d_ST.*892.15 vars.χbar.*vars.μ.*892.15 vars.u_1.*(-1).*vars.μ.*892.15 vars.u_impl_dbar.*vars.μ.*(-1).*892.15], xlabel = \"Year\", ylabel=\"PC Dem (GPCD)\",\n",
    "            labels=[\"Dem_PC\" \"BaseDem_PC\" \"Conserv_ST\" \"Conserv_LT\"], title=\"Per-Capita Demand\", ylims = (0,1.1*vars.χbar[1]*892.15*vars.μ[1]), legend=:outerright, linecolor = [:blue :indigo :blue :indigo], \n",
    "            linestyle = [:solid :solid :dot :dot], legendtitle=\"Per-Capita Demand\")\n",
    "        hline!([p[14]*892.15], labels=\"Dem_PC_min\", linestyle=:dash, linecolor=:indigo)\n",
    "    else\n",
    "       plt_d = plot(vars.year, [vars.d_ST./365 vars.χbar.*vars.μ./365 vars.u_1.*(-1)./365 vars.u_impl_plan_dbar.*(-1)./365], xlabel = \"Year\", ylabel=\"PC Dem (GPCD)\", \n",
    "            labels=[\"Dem_PC\" \"BaseDem_PC\" \"Conserv_ST\" \"Conserv_LT\"], title=\"Per-Capita Demand\", ylims = (0,1.1*vars.χbar[1]/365*vars.μ[1]), legend=:outerright, linecolor = [:blue :indigo :blue :indigo], \n",
    "            linestyle = [:solid :solid :dot :dot], legendtitle=\"Per-Capita Demand\")\n",
    "        hline!([p[14]/365], labels=\"Dem_PC_min\", linestyle=:dash, linecolor=:indigo)\n",
    "    end\n",
    "    if(p[24]==1)\n",
    "        vline!([year_CAP],labels=\"t_CAP\",linestyle=:dash, linecolor = :magenta)\n",
    "    end\n",
    "    \n",
    "    #Pumping Capacity\n",
    "    if(units == \"AF\")\n",
    "        plt_w = plot(vars.year, [vars.w_s.*(vars.υ_bar_s.*vars.C_v_s .+ 1).*vars.μ_s.*0.001 vars.w_g.*(vars.υ_bar_g.*vars.C_v_g .+ 1).*vars.μ_g.*0.001 vars.u_impl_w_s.*0.001 vars.u_impl_w_g*0.001 vars.w_max_s.*(vars.υ_bar_s.*vars.C_v_s .+ 1).*vars.μ_s.*0.001 vars.w_max_g.*(vars.υ_bar_g.*vars.C_v_g .+ 1).*vars.μ_g.*0.001], \n",
    "            xlabel = \"Year\", ylabel = \"KAF/yr\", labels = [\"w_s\" \"w_g\" \"Invest_w_s\" \"Invest_w_g\" \"w_s_max\" \"w_g_max\"], title = \"Processing Capacity\", linecolor = [:green :turquoise :green :turquoise :green :turquoise], \n",
    "            linestyle = [:solid :solid :dot :dot :dash :dash], legend=:outerright, ylims = (0, max(maximum(vars.A_l_s*1.2*0.001),maximum(vars.A_l_g.*1.2*0.001))), legendtitle=\"Processing Capacity\")\n",
    "    else\n",
    "        plt_w = plot(vars.year, [vars.w_s.*(vars.υ_bar_s.*vars.C_v_s .+ 1).*vars.μ_s.*0.000000001 vars.w_g.*(vars.υ_bar_g.*vars.C_v_g .+ 1).*vars.μ_g.*0.000000001 vars.u_impl_w_s.*0.000000001 vars.u_impl_w_g*0.000000001 vars.w_max_s.*(vars.υ_bar_s.*vars.C_v_s .+ 1).*vars.μ_s.*0.000000001 vars.w_max_g.*(vars.υ_bar_g.*vars.C_v_g .+ 1).*vars.μ_g.*0.000000001], \n",
    "            xlabel = \"Year\", ylabel = \"Bgal/yr\", labels = [\"w_s\" \"w_g\" \"Invest_w_s\" \"Invest_w_g\" \"w_s_max\" \"w_g_max\"], title = \"Processing Capacity\", linecolor = [:green :turquoise :green :turquoise :green :turquoise], \n",
    "            linestyle = [:solid :solid :dot :dot :dash :dash], legend=:outerright, ylims = (0, max(maximum(vars.w_max_s.*(vars.V_s .+ vars.μ_s)),maximum(vars.w_max_g.*(vars.Vbar_g .+ vars.μ_g)))*0.000000001*1.2), legendtitle=\"Processing Capacity\")\n",
    "    end\n",
    "    if(p[24]==1)\n",
    "        vline!([year_CAP],labels=\"t_CAP\",linestyle=:dash, linecolor = :magenta)\n",
    "    end\n",
    "    \n",
    "    #Mean Inflow\n",
    "    if(units==\"AF\")\n",
    "        plt_μ = plot(vars.year, [vars.μ_s.*0.001 vars.μ_g.*0.001], xlabel = \"Year\", labels = [\"μ_s\" \"μ_g\"], ylabel = \"Mean Inflow (KAFY)\", title = \"Mean Inflow\", linecolor = [:darkgreen :turquoise], linestyle = :solid, \n",
    "        legend = :outerright, ylims = (0,max(p[1][1],p[1][2])*1.2*0.001), legendtitle=\"Mean Inflow\")\n",
    "    else\n",
    "        plt_μ = plot(vars.year, [vars.μ_s.*0.000000001 vars.μ_g.*0.000000001], xlabel = \"Year\", labels = [\"μ_s\" \"μ_g\"], ylabel = \"Mean Inflow (Bgal.yr)\", title = \"Mean Inflow\", linecolor = [:darkgreen :turquoise], \n",
    "            linestyle = :solid, legend = :outerright, ylims = (0,max(p[1][1],p[1][2])*1.2*0.000000001), legendtitle=\"Mean Inflow\")\n",
    "    end\n",
    "    if(p[24]==1)\n",
    "        vline!([year_CAP],labels=\"t_CAP\",linestyle=:dash, linecolor = :magenta)\n",
    "    end\n",
    "    \n",
    "    #Population\n",
    "    plt_P = plot(vars.year, vars.P.*0.001, ylabel=\"Persons (K)\", xlabel = \"Year\", title = \"Population\", labels=\"Pop\", \n",
    "        ylims=(0,p[5]*1.2*0.001), linecolor = :orange, linestyle = [:solid :dash :dot], legend = :outerright, legendtitle=\"Population\")\n",
    "    if(p[24]==1)\n",
    "        vline!([year_CAP],labels=\"t_CAP\",linestyle=:dash, linecolor = :magenta)\n",
    "    end\n",
    "    \n",
    "    #Aggregate Plots\n",
    "    plt = plot(plt_short, plt_flows, plt_stor, plt_e, plt_Y, plt_fin, plt_f, plt_η, plt_d, plt_w, plt_P, plt_μ, size = (1800,1500), layout = (4,3))\n",
    "    \n",
    "    #Save in Plot List\n",
    "    plt_list = [plt_short plt_flows plt_stor plt_e plt_Y plt_fin plt_f plt_η plt_d plt_w plt_P plt_μ plt]\n",
    "    \n",
    "    return plt_list\n",
    "end;"
   ]
  },
  {
   "cell_type": "markdown",
   "id": "45789fc1-fd3c-49d4-aa2a-4a8b8f49e8bd",
   "metadata": {
    "jp-MarkdownHeadingCollapsed": true,
    "tags": []
   },
   "source": [
    "### c.) Aggregate Output"
   ]
  },
  {
   "cell_type": "code",
   "execution_count": 116,
   "id": "0734afa9-399d-44fd-bb6e-37648900dd7b",
   "metadata": {},
   "outputs": [],
   "source": [
    "function UWIIM_output(model; setup=Default(), t_run=100, year_0=2010, units=\"AF\")\n",
    "    p=setup[1]\n",
    "    x_0=Float64.(setup[2])\n",
    "    \n",
    "    varsDF = createVarsDF(model,p,t_run,year_0)\n",
    "    \n",
    "    plt_ts_nd = timeSeriesPlot_nondim(varsDF,p,x_0)\n",
    "    \n",
    "    plt_ts_dim = timeSeriesPlot_dim(varsDF,p,x_0,units)\n",
    "    \n",
    "    output = [varsDF, plt_ts_nd, plt_ts_dim]\n",
    "    \n",
    "    return output\n",
    "end;"
   ]
  },
  {
   "cell_type": "markdown",
   "id": "686197f0-413b-42bb-a0dc-d13bd9dd8639",
   "metadata": {
    "jp-MarkdownHeadingCollapsed": true,
    "tags": []
   },
   "source": [
    "## 3.3 One Line to Rule Them All"
   ]
  },
  {
   "cell_type": "markdown",
   "id": "2d2e2392-c0bb-4dec-b5a7-9b7a6c60b867",
   "metadata": {},
   "source": [
    "In addition to defining the setup for the model, the user has additional settings they can set for a given model run\n",
    "\n",
    "1. t_run (default = 100): the number of years the trajectory should run \n",
    "\n",
    "2. year_0 (default = 2010): for plotting, define what the initial year is\n",
    "\n",
    "3. units (default = \"AF\"): specify \"AF\" or \"gal\" for water units"
   ]
  },
  {
   "cell_type": "code",
   "execution_count": 117,
   "id": "f77f3c9a-93d4-47d6-be99-b80a4d9c685d",
   "metadata": {},
   "outputs": [],
   "source": [
    "function run_UWIIM(setup::Any=Default(); t_run=50, year_0=2010, units=\"AF\", f=f)\n",
    "    model = create_UWIIM(setup;f=f)\n",
    "    \n",
    "    output = UWIIM_output(model; setup=setup, t_run=t_run, year_0=year_0, units=units)\n",
    "    \n",
    "    return output\n",
    "end;"
   ]
  },
  {
   "cell_type": "markdown",
   "id": "6cd6b875-a4c7-49b7-9435-74d3a84a3a41",
   "metadata": {
    "jp-MarkdownHeadingCollapsed": true,
    "tags": []
   },
   "source": [
    "# 4. Example Ouptputs"
   ]
  },
  {
   "cell_type": "markdown",
   "id": "49c66ddc-2686-42e5-9285-c3a4a9a6ac9f",
   "metadata": {
    "tags": [],
    "toc-hr-collapsed": true
   },
   "source": [
    "## With Phoenix Setup"
   ]
  },
  {
   "cell_type": "code",
   "execution_count": 179,
   "id": "6bc13866-fe85-4fcd-b92b-83d8cc5f623b",
   "metadata": {},
   "outputs": [],
   "source": [
    "#Generate Output (based on 1 trajectory with Phoenix setup) \n",
    "#output_test_PHX = run_UWIIM(Phoenix(); t_run=50,year_0=2010,units=\"AF\");\n",
    "#output_test_PHX[3][end]"
   ]
  },
  {
   "cell_type": "markdown",
   "id": "5222a48d-8bb7-486d-8bf7-a15a973248a3",
   "metadata": {
    "tags": [],
    "toc-hr-collapsed": true
   },
   "source": [
    "## With Scottsdale Setup"
   ]
  },
  {
   "cell_type": "code",
   "execution_count": 181,
   "id": "19b2ba65-5cd6-449e-b6ab-60ea18cca9fc",
   "metadata": {},
   "outputs": [],
   "source": [
    "#Generate Output (based on 1 trajectory with Phoenix setup)\n",
    "#output_test_Sc = run_UWIIM(Scottsdale(); t_run=50,year_0=2010,units=\"AF\")\n",
    "#output_test_Sc[3][end]"
   ]
  },
  {
   "cell_type": "markdown",
   "id": "f4557bc0-781c-45c8-8648-e4fb530d4a8b",
   "metadata": {
    "tags": [],
    "toc-hr-collapsed": true
   },
   "source": [
    "## With Queen Creek Setup"
   ]
  },
  {
   "cell_type": "code",
   "execution_count": 118,
   "id": "6f87444d-c140-4462-8510-1f574d4cc7f3",
   "metadata": {},
   "outputs": [
    {
     "data": {
      "image/png": "[encoded data removed]"
     },
     "execution_count": 118,
     "metadata": {},
     "output_type": "execute_result"
    }
   ],
   "source": [
    "#Generate Output\n",
    "output_test_QC = run_UWIIM(QueenCreek(Δμ_s_pc=0); t_run=50,year_0=2010,units=\"AF\")\n",
    "output_test_QC[3][end]"
   ]
  },
  {
   "cell_type": "code",
   "execution_count": 137,
   "id": "e9b2cb5e-2cce-4656-8cc3-ce6749f33cf9",
   "metadata": {},
   "outputs": [
    {
     "data": {
      "text/plain": [
       "1.484053507468658e6"
      ]
     },
     "execution_count": 137,
     "metadata": {},
     "output_type": "execute_result"
    }
   ],
   "source": [
    "output_test_QC_01[1].V_g[end]"
   ]
  },
  {
   "cell_type": "code",
   "execution_count": 138,
   "id": "92f03f2e-ef8a-4314-a40e-d03c39e27872",
   "metadata": {},
   "outputs": [
    {
     "data": {
      "text/plain": [
       "1.4787034530284335e6"
      ]
     },
     "execution_count": 138,
     "metadata": {},
     "output_type": "execute_result"
    }
   ],
   "source": [
    "output_test_QC[1].V_g[end]"
   ]
  },
  {
   "cell_type": "code",
   "execution_count": 120,
   "id": "9fd11ecb-884b-497a-958a-e023f1cc554c",
   "metadata": {},
   "outputs": [
    {
     "data": {
      "image/png": "[encoded data removed]"
     },
     "execution_count": 120,
     "metadata": {},
     "output_type": "execute_result"
    }
   ],
   "source": [
    "output_test_QC_01 = run_UWIIM(QueenCreek(Δμ_s_pc=-0.01); t_run=50,year_0=2010,units=\"AF\")\n",
    "output_test_QC_01[3][end]"
   ]
  }
 ],
 "metadata": {
  "kernelspec": {
   "display_name": "Julia 1.8.4",
   "language": "julia",
   "name": "julia-1.8"
  },
  "language_info": {
   "file_extension": ".jl",
   "mimetype": "application/julia",
   "name": "julia",
   "version": "1.8.4"
  }
 },
 "nbformat": 4,
 "nbformat_minor": 5
}
