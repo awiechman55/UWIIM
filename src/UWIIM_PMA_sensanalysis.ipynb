{
 "cells": [
  {
   "cell_type": "markdown",
   "id": "d2d0fba1-d734-4446-a0ba-fb6e5db23094",
   "metadata": {
    "tags": []
   },
   "source": [
    "# Read Me"
   ]
  },
  {
   "cell_type": "markdown",
   "id": "5673fc33-8232-4bbb-9f36-fcbfc323426c",
   "metadata": {},
   "source": [
    "This is a notebook that contains the code used to conduct the sensitivity analyzes described in the attached Supporting Information document for the Phoenix Metropolitan Area cities. "
   ]
  },
  {
   "cell_type": "markdown",
   "id": "855a103b-e88f-4a03-be22-3d668d755897",
   "metadata": {
    "jp-MarkdownHeadingCollapsed": true,
    "tags": [],
    "toc-hr-collapsed": true
   },
   "source": [
    "# 1. Pre-Sensitivity Analysis Setup"
   ]
  },
  {
   "cell_type": "markdown",
   "id": "1aee513a-b77b-445b-82b1-f2812708c15d",
   "metadata": {
    "tags": []
   },
   "source": [
    "## 1.1 Sensitivity Analysis Specific Packages"
   ]
  },
  {
   "cell_type": "code",
   "execution_count": 1,
   "id": "fad127b9-d82e-4a9e-8a9a-b98952966f95",
   "metadata": {},
   "outputs": [],
   "source": [
    "using SharedArrays #for storing sensitivity analysis results\n",
    "using JLD2 #for saving objects \n",
    "using FlexiMaps #for log ranges"
   ]
  },
  {
   "cell_type": "markdown",
   "id": "41afedaa-7508-49c4-a364-57c730cd4e13",
   "metadata": {
    "jp-MarkdownHeadingCollapsed": true,
    "tags": []
   },
   "source": [
    "## 1.2 Load Model (UWIIM)"
   ]
  },
  {
   "cell_type": "code",
   "execution_count": 2,
   "id": "46f33bdd-aa08-4df3-8029-89fe811ec288",
   "metadata": {},
   "outputs": [
    {
     "data": {
      "text/plain": [
       "run_UWIIM (generic function with 2 methods)"
      ]
     },
     "execution_count": 2,
     "metadata": {},
     "output_type": "execute_result"
    }
   ],
   "source": [
    "include(\"UWIIM_PMA.jl\")"
   ]
  },
  {
   "cell_type": "markdown",
   "id": "e67681d8-934c-41a5-9049-7c68de3810f7",
   "metadata": {
    "jp-MarkdownHeadingCollapsed": true,
    "tags": []
   },
   "source": [
    "# 2. Sensitivity Analysis Functions"
   ]
  },
  {
   "cell_type": "markdown",
   "id": "e0e024e9-ed1c-48e1-be0f-f35b39aa00df",
   "metadata": {
    "jp-MarkdownHeadingCollapsed": true,
    "tags": []
   },
   "source": [
    "## 2.1 Create Parameter Sets Given Range"
   ]
  },
  {
   "cell_type": "markdown",
   "id": "42be90a0-d87b-4625-8ea5-a06cca3530ea",
   "metadata": {
    "jp-MarkdownHeadingCollapsed": true,
    "tags": []
   },
   "source": [
    "### 1 Variable"
   ]
  },
  {
   "cell_type": "code",
   "execution_count": 3,
   "id": "e42385f6-8337-4222-949c-453b7332cebb",
   "metadata": {},
   "outputs": [],
   "source": [
    "#This function creates an array where each row is a parameter vector that will be tested in the sensitivity analysis of 1 parameter. \n",
    "function createPSet_1var(default_p, p1_range, p1_index, p1_matrix, p1_matrix_index)\n",
    "    p_var = p1_range\n",
    "    num_traj = size(p_var)[1]\n",
    "    pset = Array{Any}(nothing,num_traj,length(default_p))\n",
    "    \n",
    "    for i in 1:num_traj\n",
    "        for j in 1:length(default_p)\n",
    "            if j == p1_index\n",
    "                if(p1_matrix)\n",
    "                    pset[i,j] = reshape(p_var[i,:],1,length(p_var[i,:]))\n",
    "                else\n",
    "                    pset[i,j] = p_var[i]\n",
    "                end\n",
    "            else\n",
    "                pset[i,j] = copy(default_p[j])\n",
    "            end\n",
    "        end\n",
    "    end\n",
    "    \n",
    "    return pset\n",
    "end;"
   ]
  },
  {
   "cell_type": "markdown",
   "id": "a6e2ccfe-29a9-4041-9ce4-80b938401783",
   "metadata": {
    "jp-MarkdownHeadingCollapsed": true,
    "tags": []
   },
   "source": [
    "### 2 Variables"
   ]
  },
  {
   "cell_type": "code",
   "execution_count": 4,
   "id": "93674032-e0ae-4077-9cc2-fadb4ccb28c6",
   "metadata": {},
   "outputs": [],
   "source": [
    "#This function creates an array where each row is a parameter vector that will be tested in the sensitivity analysis of 2 parameters. \n",
    "function createPSet_2var(default_p,p1_range,p2_range,p1_index,p2_index, p1_matrix, p1_matrix_index, p2_matrix, p2_matrix_index, add_Δμ, Δμ_range)\n",
    "    Δμ_def = copy(default_p[25])\n",
    "    if(p1_matrix)\n",
    "        p1_def = copy(default_p[p1_index])\n",
    "        if(p2_matrix)\n",
    "            p2_def = copy(default_p[p2_index])\n",
    "            if(add_Δμ)\n",
    "                p_var = [[i,j,k] for k in eachrow(Δμ_range), j in eachrow(p1_range), i in eachrow(p2_range)]\n",
    "            else\n",
    "                p_var = [[i,j] for j in eachrow(p1_range), i in eachrow(p2_range)]\n",
    "            end\n",
    "        else\n",
    "            if(add_Δμ)\n",
    "                p_var = [[i,j,k] for k in eachrow(Δμ_range), j in eachrow(p1_range), i in p2_range]\n",
    "            else\n",
    "                p_var = [[i,j] for j in eachrow(p1_range), i in p2_range]\n",
    "            end\n",
    "        end\n",
    "    else\n",
    "        if(p2_matrix)\n",
    "            p2_def = copy(default_p[p2_index])\n",
    "            if(add_Δμ)\n",
    "                p_var = [[i,j,k] for k in eachrow(Δμ_range), j in p1_range, i in eachrow(p2_range)]\n",
    "            else\n",
    "                p_var = [[i,j] for j in p1_range, i in eachrow(p2_range)]\n",
    "            end\n",
    "        else\n",
    "            if(add_Δμ)\n",
    "                p_var = [[i,j,k] for k in eachrow(Δμ_range), j in p1_range, i in p2_range]\n",
    "            else\n",
    "                p_var = [[i, j] for j in p1_range, i in p2_range]\n",
    "            end\n",
    "        end\n",
    "    end\n",
    "    \n",
    "    num_traj = length(p_var)\n",
    "    \n",
    "    pset = Array{Any}(nothing,num_traj,length(default_p))\n",
    "    \n",
    "    for i in 1:num_traj\n",
    "        for j in 1:length(default_p)\n",
    "            if j == p1_index\n",
    "                if p1_matrix\n",
    "                    temp = copy(p_var[i][2])\n",
    "                    if j == p2_index\n",
    "                        temp[p2_matrix_index] = p_var[i][1][p2_matrix_index]  \n",
    "                    end   \n",
    "                    \n",
    "                    pset[i,j] = temp\n",
    "                else\n",
    "                    pset[i,j] = copy(p_var[i][2])\n",
    "                end\n",
    "            elseif j == p2_index\n",
    "                if p2_matrix\n",
    "                    if j != p1_index\n",
    "                        pset[i,j] = copy(p_var[i][1])\n",
    "                    end\n",
    "                else\n",
    "                    pset[i,j] = copy(p_var[i][1])\n",
    "                end\n",
    "            elseif (add_Δμ && j == 25)\n",
    "                pset[i,j] = copy(p_var[i][3])\n",
    "            else\n",
    "                pset[i,j] = copy(default_p[j])\n",
    "            end\n",
    "        end\n",
    "    end\n",
    "    \n",
    "    return pset\n",
    "    \n",
    "end;"
   ]
  },
  {
   "cell_type": "markdown",
   "id": "e96672bb-4ad0-480b-9116-a944a0ec25d6",
   "metadata": {
    "jp-MarkdownHeadingCollapsed": true,
    "tags": []
   },
   "source": [
    "## 2.2 Run Parameter Sets"
   ]
  },
  {
   "cell_type": "markdown",
   "id": "3a252e26-a67f-4b3f-a33d-6f5f5a6e824b",
   "metadata": {
    "jp-MarkdownHeadingCollapsed": true,
    "tags": []
   },
   "source": [
    "### Adjust g (if necessary)"
   ]
  },
  {
   "cell_type": "code",
   "execution_count": 5,
   "id": "972eb777-d42c-407f-8cf5-d5a70a86545f",
   "metadata": {},
   "outputs": [],
   "source": [
    "#This function adjusts the dependent/auxilary parameters g and J_b to reflect the financial assumptions (see Supporting Information) given a new parameter setting \n",
    "function adjust_gandJ_b(p_i, x_0_i, QC)\n",
    "    p_def = copy(p_i)\n",
    "    x_0_def = copy(x_0_i)\n",
    "    \n",
    "    #Set Common Parameters\n",
    "    μ_s_0 = p_def[1][1]\n",
    "    μ_g_0 = p_def[1][2]\n",
    "    μ_tot = μ_s_0 + μ_g_0 \n",
    "    μ_SRP = p_def[1][3]\n",
    "    μ_CAP = p_def[1][4]\n",
    "    a_SRP = p_def[13][4]\n",
    "    a_CAP = p_def[13][5]\n",
    "    a_SRP_NCS = p_def[13][8]\n",
    "    a_gq = p_def[13][2]\n",
    "    a_gv = p_def[13][1]\n",
    "    θ_1 = p_def[27][2]\n",
    "    V_bar_g_0 = 200*a_gq*μ_g_0\n",
    "    V_g_0 = x_0_def[4]*V_bar_g_0\n",
    "    A_l_g_0 = a_gq*μ_g_0 + a_gv*max(0,V_g_0 - (100*a_gq*μ_g_0))\n",
    "    κ = p_def[5]\n",
    "    p_0 = x_0_def[1]\n",
    "    χbar_0 = x_0_def[16]\n",
    "    χ_0= x_0_def[2]\n",
    "    f_0 = x_0_def[17]\n",
    "    π_bar = p_def[2]\n",
    "    g_o=p_def[22][1]\n",
    "    z_op=p_def[23][1]\n",
    "    z_od=p_def[23][2]\n",
    "    τ_b = p_def[31]\n",
    "    i_b = p_def[32]\n",
    "    J_b_avg_0=x_0_def[18]*((1+15*0.04)/(1+τ_b*i_b)) #edit to reflect new bond life and interest rate\n",
    "    η_0=x_0_def[15]\n",
    "    w_g_0=x_0_def[8]\n",
    "    w_s_0=x_0_def[7]\n",
    "    δ_η=p_def[15][3]\n",
    "    δ_w_s=p_def[15][5]\n",
    "    δ_w_g=p_def[15][6]\n",
    "    z_η=p_def[23][4]\n",
    "    z_w=p_def[23][6]\n",
    "    ϕ_η=p_def[35][1]\n",
    "    ϕ_ws=p_def[35][3]\n",
    "    ϕ_wg=p_def[35][4]\n",
    "    \n",
    "    if(QC==1)\n",
    "        p_0_QC=74842/κ #2016\n",
    "        χbar_0_QC = 16344.01/(μ_tot*p_0_QC*κ) #2016\n",
    "        χ_0_QC=χbar_0_QC\n",
    "        f_0_QC=23734654/(p_0_QC*κ*π_bar) #2016\n",
    "        J_b_avg_0_QC=3492917.5*((1+15*0.04)/(1+τ_b*i_b)) #2016 and account for new bond life and interest rate\n",
    "        A_SRP_0_QC=1\n",
    "        \n",
    "        g_new=set_g(μ_s_0,μ_g_0,μ_tot,μ_SRP,μ_CAP,a_SRP,a_CAP,a_SRP_NCS,a_gq,a_gv,θ_1,V_g_0, A_l_g_0, V_bar_g_0,0,\n",
    "            κ,p_0_QC,χbar_0_QC,χ_0_QC,f_0_QC,π_bar,g_o,z_op,z_od,J_b_avg_0_QC,τ_b,i_b,η_0,w_g_0,w_s_0,δ_η,δ_w_s,\n",
    "            δ_w_g,z_η, z_w, ϕ_η, (ϕ_ws+ϕ_wg), A_SRP_0_QC)\n",
    "    else\n",
    "        if(p_def[27][2]==0.5) #If Phoenix\n",
    "            A_SRP_0 = 200275.18\n",
    "        else #If Scottsdale\n",
    "            A_SRP_0 = 13632.80\n",
    "        end\n",
    "        \n",
    "        g_new=set_g(μ_s_0,μ_g_0,μ_tot,μ_SRP,μ_CAP,a_SRP,a_CAP,a_SRP_NCS,a_gq,a_gv,θ_1,V_g_0, A_l_g_0, V_bar_g_0,0,\n",
    "            κ,p_0,χbar_0,χ_0,f_0,π_bar,g_o,z_op,z_od,J_b_avg_0,τ_b,i_b,η_0,w_g_0,w_s_0,δ_η,δ_w_s,\n",
    "            δ_w_g,z_η, z_w, ϕ_η, (ϕ_ws+ϕ_wg), A_SRP_0)\n",
    "    end\n",
    "    \n",
    "    return [g_new J_b_avg_0]\n",
    "end;"
   ]
  },
  {
   "cell_type": "markdown",
   "id": "847ac4a6-91f1-4e6e-9120-0940bab54e38",
   "metadata": {
    "jp-MarkdownHeadingCollapsed": true,
    "tags": []
   },
   "source": [
    "### Results Array to Dataframe"
   ]
  },
  {
   "cell_type": "code",
   "execution_count": 6,
   "id": "ee71f731-6d55-4d1f-9d46-8fbe6c71997c",
   "metadata": {},
   "outputs": [],
   "source": [
    "#This function converts the results array into a dataframe\n",
    "function rezDF(rez_array,p1_name,p2_name)\n",
    "    if(p2_name == \"nothing\") #if it is just a 1 parameter variation sensitivity analysis\n",
    "        rez = DataFrame(p1_name=rez_array[:,2,1], reliab_total=vec(mean(rez_array[:,4,:],dims=2)), reliab_avg=vec(mean(rez_array[:,5,:],dims=2)),reliab_min=vec(mean(rez_array[:,6,:],dims=2)), \n",
    "            d_end = vec(mean(rez_array[:,7,:], dims=2)), π_end = vec(mean(rez_array[:,8,:],dims=2)),Δμ_pc = vec(mean(rez_array[:,9,:],dims=2)))\n",
    "    else #if it is a 2 parameter variation sensitivity analysis\n",
    "        rez = DataFrame(p1_name=rez_array[:,2,1], p2_name = rez_array[:,3,1], reliab_total=vec(mean(rez_array[:,4,:],dims=2)), reliab_avg=vec(mean(rez_array[:,5,:],dims=2)),\n",
    "            reliab_min=vec(mean(rez_array[:,6,:],dims=2)), d_end = vec(mean(rez_array[:,7,:], dims=2)), π_end = vec(mean(rez_array[:,8,:],dims=2)),Δμ_pc = vec(mean(rez_array[:,9,:],dims=2)))\n",
    "        p2_symbol=Symbol(p2_name)\n",
    "        rename!(rez,:p2_name => p2_symbol)\n",
    "    end\n",
    "    \n",
    "    p1_symbol=Symbol(p1_name)\n",
    "    rename!(rez,:p1_name => p1_symbol)\n",
    "    \n",
    "    return rez\n",
    "end;"
   ]
  },
  {
   "cell_type": "markdown",
   "id": "1c606cf4-8eef-401e-a1fe-68f9c57eb242",
   "metadata": {
    "jp-MarkdownHeadingCollapsed": true,
    "tags": []
   },
   "source": [
    "### Gather Results to Array"
   ]
  },
  {
   "cell_type": "code",
   "execution_count": 7,
   "id": "af6b0235-9ff7-4d6c-89e4-adab258cb749",
   "metadata": {},
   "outputs": [],
   "source": [
    "#This function conducts the sensitivity analysis on the given parameter set by running the parameter set for the given amount of time and recording the summary statistics (Supporting Information)\n",
    "function runPSet(pset, p1_name, p2_name, p1_index, p2_index, p1_matrix, p1_matrix_index, p2_matrix, p2_matrix_index, x_0, num_t, num_it, QC, f=f)\n",
    "    num_traj = size(pset)[1]\n",
    "    num_p = size(pset)[2]\n",
    "    \n",
    "    #Create empty results tuple to store results of each trajectory\n",
    "    rez_array = SharedArray{Float64}(num_traj,9,num_it)\n",
    "     \n",
    "    #Generate and Store Trajectories\n",
    "    for i in 1:num_traj\n",
    "        ####Set up Parameters\n",
    "        p_i = copy(pset[i,:])\n",
    "        \n",
    "        ####Set Initial Conditions Given Parameters\n",
    "        x_0_i = copy(x_0[1:18])\n",
    "        #Add Planned Investment Memory\n",
    "        for k in 1:length(p_i[16])\n",
    "            if(p_i[16][k]>1)\n",
    "                for i in 1:p_i[16][k]-1\n",
    "                    append!(x_0_i,0.0)\n",
    "                end\n",
    "            end\n",
    "        end\n",
    "        \n",
    "        # Fix g and J_b_avg if Relevant (if varying τ_b, i_b, δ)\n",
    "        p_newgJb = [15, 31, 32]\n",
    "        if(p1_index in p_newgJb || p2_index in p_newgJb)\n",
    "            gJb_new = adjust_gandJ_b(p_i, x_0_i, QC)\n",
    "            p_i[22][3] = gJb_new[1]\n",
    "            p_i[22][5] = gJb_new[2]\n",
    "            p_i[22][6] = gJb_new[3]\n",
    "        end\n",
    "        \n",
    "        ######Define System\n",
    "        DS = DiscreteDynamicalSystem(f, x_0_i, p_i)\n",
    "        \n",
    "        ######Run Model for Defined System\n",
    "        for j in 1:num_it #loop for multiple iterations of same p set \n",
    "            #Generate Trajectory and Store It\n",
    "            tr_j = trajectory(DS, num_t)\n",
    "            \n",
    "            ##Note the Iteration Number\n",
    "            rez_array[i,1,j] = j\n",
    "            \n",
    "            ##Store the Varied Parameters Used\n",
    "            #p1\n",
    "            if(p1_matrix)\n",
    "                rez_array[i,2,j] = copy(p_i[p1_index][p1_matrix_index])\n",
    "            else\n",
    "                rez_array[i,2,j] =copy(p_i[p1_index])\n",
    "            end\n",
    "            \n",
    "            #p2\n",
    "            if(p2_index==nothing)\n",
    "                \n",
    "            elseif(p2_index == 0)\n",
    "                rez_array[i,3,j] = 0\n",
    "            else\n",
    "                if(p2_matrix)\n",
    "                    rez_array[i,3,j] = copy(p_i[p2_index][p2_matrix_index])\n",
    "                else\n",
    "                    rez_array[i,3,j] = copy(p_i[p2_index])\n",
    "                end\n",
    "            end\n",
    "            \n",
    "            #Δμ\n",
    "            rez_array[i,9,j] = copy(p_i[25][2])\n",
    "            \n",
    "            ##Record State Variables for each year in iteration\n",
    "            D_bar_ij = zeros(num_t+1) #Create empty matrix to record total baseline demand\n",
    "            S_ij = zeros(num_t+1) #Create empty matrix to record supply\n",
    "            reliab_ij = zeros(num_t+1)\n",
    "            d_ij = zeros(num_t+1) #Create empty matrix to record PC demand \n",
    "            π_ij = zeros(num_t+1) #Create empty matrix to record PC rates\n",
    "            \n",
    "            for t in 1:(num_t+1) #Loop Over All Time Measurements in a Trajectory\n",
    "                D_bar_ij[t] = D_bar(tr_j[t],p_i,t-1) # Record total baseline demand at t\n",
    "                S_ij[t] = S(tr_j[t],p_i,t-1) #Record total supply at t\n",
    "                reliab_ij[t] = min(1,S_ij[t]/D_bar_ij[t])\n",
    "                d_ij[t] = (D_bar_ij[t]/P(tr_j[t],p_i,t-1))*892.15\n",
    "                π_ij[t] = tr_j[t][17]*p_i[2]\n",
    "            end\n",
    "            \n",
    "            #####Record Reliability Metrics\n",
    "            reliab_total = sum(reliab_ij)\n",
    "            rez_array[i,4,j] = reliab_total\n",
    "            reliab_avg = reliab_total/(num_t+1) #includes initial condition\n",
    "            rez_array[i,5,j] = reliab_avg\n",
    "            reliab_min = minimum(reliab_ij)\n",
    "            rez_array[i,6,j] = reliab_min\n",
    "             \n",
    "            #####Record Normalized Demand, Resiliency, Storage Capacity Metrics\n",
    "            d_end = d_ij[end]\n",
    "            rez_array[i,7,j] = d_end\n",
    "            \n",
    "            #####Record Ending PC Rate\n",
    "            π_end = π_ij[end]\n",
    "            rez_array[i,8,j] = π_end\n",
    "        end \n",
    "    end\n",
    "    \n",
    "    \n",
    "    ##Convert Results into a Data Frame\n",
    "    rez = rezDF(rez_array, p1_name, p2_name)\n",
    "    \n",
    "    return rez\n",
    "end;"
   ]
  },
  {
   "cell_type": "markdown",
   "id": "ea49c0a3-0c9b-4c42-8aa1-c9c3bfc8e8e5",
   "metadata": {
    "jp-MarkdownHeadingCollapsed": true,
    "tags": []
   },
   "source": [
    "## 2.3 Run Sensitivity Analysis and Save Results"
   ]
  },
  {
   "cell_type": "code",
   "execution_count": 8,
   "id": "8659e6be-46ae-49cb-9d30-558277d04129",
   "metadata": {},
   "outputs": [],
   "source": [
    "function runSA(p1_index,p1_matrix,p1_matrixindex,p1_saindex,p2_index,p2_matrix,p2_matrixindex,p2_saindex,cities_name,cities_x0,cities_p,file_preamble,num_t,num_it,add_Δμ)\n",
    "    ##run the sensitivity analysis on each city \n",
    "    for c in 1:length(cities_name)\n",
    "        c_p = copy(cities_p[c])\n",
    "        c_x0 = copy(cities_x0[c])\n",
    "        c_name = cities_name[c]\n",
    "        \n",
    "        print(c_name*\" \")\n",
    "    \n",
    "        ##different protocols for 1d vs 2d sensitivity analysis\n",
    "        if(p2_index==nothing)\n",
    "            ##Create pset\n",
    "            pset = createPSet_1var(c_p,p_ranges[p1_saindex],p1_index,p1_matrix,p1_matrixindex)\n",
    "            \n",
    "            ##run iteractions and generate results\n",
    "            if(c_name == \"QC\")\n",
    "                rez=runPSet(pset, p_names[p1_saindex],\"nothing\", p1_index, nothing, p1_matrix, p1_matrixindex, nothing, nothing, c_x0, num_t, num_it,1)\n",
    "            else\n",
    "                rez=runPSet(pset, p_names[p1_saindex],\"nothing\", p1_index, nothing, p1_matrix, p1_matrixindex, nothing, nothing, c_x0, num_t, num_it,0)\n",
    "            end\n",
    "            \n",
    "            ##Record file name for saving \n",
    "            file_name = file_preamble*p_names[p1_saindex]*\"_\"*c_name\n",
    "            file_name_rez = file_name*\"_rez\"\n",
    "            file_name_csv = file_name*\".csv\"\n",
    "        else\n",
    "            ##Create pset\n",
    "            pset = createPSet_2var(c_p,p_ranges[p1_saindex],p_ranges[p2_saindex],p1_index,p2_index,p1_matrix,p1_matrixindex,p2_matrix,p2_matrixindex,add_Δμ,copy(p_ranges[1]))\n",
    "            \n",
    "            ##run iteractions and generate results\n",
    "            if(c_name == \"QC\")\n",
    "                rez=runPSet(pset, p_names[p1_saindex],p_names[p2_saindex], p1_index, p2_index, p1_matrix, p1_matrixindex, p2_matrix, p2_matrixindex, c_x0, num_t, num_it,1)\n",
    "            else\n",
    "                rez=runPSet(pset, p_names[p1_saindex],p_names[p2_saindex], p1_index, p2_index, p1_matrix, p1_matrixindex, p2_matrix, p2_matrixindex, c_x0, num_t, num_it,0)\n",
    "            end\n",
    "            \n",
    "            ##Record file name for saving \n",
    "            file_name = file_preamble*p_names[p1_saindex]*\"_\"*p_names[p2_saindex]*\"_\"*c_name\n",
    "            if(add_Δμ)\n",
    "                file_name = file_name*\"_3d\"\n",
    "            end\n",
    "            \n",
    "            file_name_rez = file_name*\"_rez\"\n",
    "            file_name_csv = file_name*\".csv\"\n",
    "        end\n",
    "        \n",
    "        ##save results    \n",
    "        save_object(file_name_rez,rez)\n",
    "        CSV.write(file_name_csv,rez)\n",
    "    end\n",
    "end;"
   ]
  },
  {
   "cell_type": "markdown",
   "id": "1f5a2670-ce40-4102-9abc-57be4b41456c",
   "metadata": {
    "jp-MarkdownHeadingCollapsed": true,
    "tags": []
   },
   "source": [
    "# 3. Define Sensitivity Analysis Variable Ranges (PMA Case)"
   ]
  },
  {
   "cell_type": "markdown",
   "id": "093b91ae-eefb-42af-950f-8dd2114c0048",
   "metadata": {
    "jp-MarkdownHeadingCollapsed": true,
    "tags": []
   },
   "source": [
    "## PMA City Defaults"
   ]
  },
  {
   "cell_type": "code",
   "execution_count": 9,
   "id": "f4167ef9-8717-42fc-ac6b-bb35c3fd2f71",
   "metadata": {},
   "outputs": [],
   "source": [
    "PHX_setup = copy(Phoenix())\n",
    "PHX_p = copy(PHX_setup[1])\n",
    "PHX_x_0 = copy(Float64.(PHX_setup[2]))\n",
    "\n",
    "Sc_setup = copy(Scottsdale())\n",
    "Sc_p = copy(Sc_setup[1])\n",
    "Sc_x_0 = copy(Float64.(Sc_setup[2]))\n",
    "\n",
    "QC_setup = copy(QueenCreek())\n",
    "QC_p = copy(QC_setup[1])\n",
    "QC_x_0 = copy(Float64.(QC_setup[2]));\n",
    "\n",
    "PMA_names = [\"PHX\", \"Sc\", \"QC\"]\n",
    "PMA_p = [PHX_p, Sc_p, QC_p]\n",
    "PMA_x0 = [PHX_x_0, Sc_x_0, QC_x_0];"
   ]
  },
  {
   "cell_type": "markdown",
   "id": "c75ff815-33fd-4195-ac11-7dfde62c3633",
   "metadata": {
    "jp-MarkdownHeadingCollapsed": true,
    "tags": []
   },
   "source": [
    "## Parameter Ranges (Same Across Cities)"
   ]
  },
  {
   "cell_type": "markdown",
   "id": "a6a2a9bb-228a-46f4-b745-d2b893733403",
   "metadata": {
    "jp-MarkdownHeadingCollapsed": true,
    "tags": []
   },
   "source": [
    "### Combine Ranges into Vectors"
   ]
  },
  {
   "cell_type": "code",
   "execution_count": 10,
   "id": "24397ad5-b4f3-477c-8668-67c02d1967f7",
   "metadata": {},
   "outputs": [],
   "source": [
    "num_p = length(PHX_p)\n",
    "p_ranges = Array{Any,1}(nothing,num_p)\n",
    "p_names = Array{Any,1}(nothing,num_p)\n",
    "p_ranges_spec = Array{Any,1}(nothing,num_p);"
   ]
  },
  {
   "cell_type": "markdown",
   "id": "96d5257f-164c-4e5b-8445-5d5e4edc399a",
   "metadata": {
    "jp-MarkdownHeadingCollapsed": true,
    "tags": []
   },
   "source": [
    "### Suddent CAP Change Magnitude ($\\Delta\\mu$)"
   ]
  },
  {
   "cell_type": "code",
   "execution_count": 11,
   "id": "61ce0b17-2204-4222-b17f-eb70c38aa0e8",
   "metadata": {},
   "outputs": [],
   "source": [
    "Δμ_s_range = collect(-1.0:0.01:0.0)\n",
    "\n",
    "Δμ_range = zeros(length(Δμ_s_range), length(PHX_p[25])) \n",
    "for i in 1:length(Δμ_s_range)\n",
    "    Δμ_range[i,:] = copy(PHX_p[25])\n",
    "    Δμ_range[i,2] = Δμ_s_range[i]\n",
    "end;\n",
    "\n",
    "p_ranges[1] = Δμ_range\n",
    "p_names[1] = \"MagCAPShock\"\n",
    "p_ranges_spec[1] = Δμ_s_range;"
   ]
  },
  {
   "cell_type": "markdown",
   "id": "7f557e24-69cc-49db-950c-43e8ec5dea5d",
   "metadata": {
    "jp-MarkdownHeadingCollapsed": true,
    "tags": []
   },
   "source": [
    "### Projection Year Range ($\\tau^p$)"
   ]
  },
  {
   "cell_type": "code",
   "execution_count": 12,
   "id": "9638d146-4697-4f5d-ab12-c41ab88e363a",
   "metadata": {},
   "outputs": [],
   "source": [
    "τ_p_range = collect(0:1:10)\n",
    "\n",
    "p_ranges[6] = τ_p_range\n",
    "p_names[6] = \"ProjYears\"\n",
    "p_ranges_spec[6] = τ_p_range;"
   ]
  },
  {
   "cell_type": "markdown",
   "id": "df62f4f0-e0d6-4e3a-ba17-7b8bef4a83e6",
   "metadata": {
    "jp-MarkdownHeadingCollapsed": true,
    "tags": []
   },
   "source": [
    "### Institutional Friction Sensitivity ($\\lambda$)"
   ]
  },
  {
   "cell_type": "code",
   "execution_count": 13,
   "id": "0d80f04b-7e9c-4932-a51a-0a0fdd818105",
   "metadata": {},
   "outputs": [],
   "source": [
    "λ_1 = copy(PHX_p[20][1])\n",
    "λ_2 = copy(PHX_p[20][2])\n",
    "λ_3 = copy(PHX_p[20][3])\n",
    "\n",
    "λ_1_range = collect(maprange(log,4,220,length=50))\n",
    "λ_2_range = collect(maprange(log,4,220,length=50))\n",
    "λ_3_range = collect(maprange(log,4,220,length=50))\n",
    "\n",
    "λ_range_1 = zeros(length(λ_1_range),3)\n",
    "λ_range_2 = zeros(length(λ_2_range),3)\n",
    "λ_range_3 = zeros(length(λ_3_range),3)\n",
    "\n",
    "for i in 1:length(λ_1_range)\n",
    "    λ_range_1[i,:] = [λ_1_range[i] λ_2 λ_3]\n",
    "    λ_range_2[i,:] = [λ_2 λ_2_range[i] λ_3]\n",
    "    λ_range_3[i,:] = [λ_3 λ_2 λ_3_range[i]]\n",
    "end\n",
    "\n",
    "p_ranges[7] = λ_range_1\n",
    "p_names[7] = \"IF_sens_s\"\n",
    "p_ranges_spec[7] = λ_1_range;\n",
    "p_ranges[8] = λ_range_2\n",
    "p_names[8] = \"IF_sens_l\"\n",
    "p_ranges_spec[8] = λ_2_range;\n",
    "p_ranges[9] = λ_range_3\n",
    "p_names[9] = \"IF_sens_r\"\n",
    "p_ranges_spec[9] = λ_3_range;"
   ]
  },
  {
   "cell_type": "markdown",
   "id": "ab426ab3-5507-4783-ad31-9cb0443e2e9f",
   "metadata": {
    "jp-MarkdownHeadingCollapsed": true,
    "tags": []
   },
   "source": [
    "### Institutional Friction Activation Threshold ($\\epsilon$)"
   ]
  },
  {
   "cell_type": "code",
   "execution_count": 14,
   "id": "b910f9b2-5bf5-4252-8ef4-0e8f1e8424ec",
   "metadata": {},
   "outputs": [],
   "source": [
    "ϵ_1 = copy(PHX_p[21][1])\n",
    "ϵ_2 = copy(PHX_p[21][2])\n",
    "ϵ_3 = copy(PHX_p[21][3])\n",
    "\n",
    "ϵ_1_range = collect(0.0:0.01:0.5)\n",
    "ϵ_2_range = collect(0.0:0.01:0.5)\n",
    "ϵ_3_range = collect(0.0:0.02:1)\n",
    "\n",
    "ϵ_range_1 = zeros(length(ϵ_1_range),3)\n",
    "ϵ_range_2 = zeros(length(ϵ_2_range),3)\n",
    "ϵ_range_3 = zeros(length(ϵ_3_range),3)\n",
    "\n",
    "for i in 1:length(ϵ_1_range)\n",
    "    ϵ_range_1[i,:] = [ϵ_1_range[i] ϵ_2 ϵ_3]\n",
    "    ϵ_range_2[i,:] = [ϵ_1 ϵ_2_range[i] ϵ_3]\n",
    "end\n",
    "\n",
    "for i in 1:length(ϵ_3_range)\n",
    "    ϵ_range_3[i,:] = [ϵ_1 ϵ_2 ϵ_3_range[i]]\n",
    "end\n",
    "\n",
    "p_ranges[10] = ϵ_range_1\n",
    "p_names[10] = \"IF_thresh_s\"\n",
    "p_ranges_spec[10] = ϵ_1_range;\n",
    "p_ranges[11] = ϵ_range_2\n",
    "p_names[11] = \"IF_thresh_l\"\n",
    "p_ranges_spec[11] = ϵ_2_range;\n",
    "p_ranges[12] = ϵ_range_3\n",
    "p_names[12] = \"IF_thresh_r\"\n",
    "p_ranges_spec[12] = ϵ_3_range;"
   ]
  },
  {
   "cell_type": "markdown",
   "id": "7d611374-37b4-42f8-8477-bb642fd75e05",
   "metadata": {
    "jp-MarkdownHeadingCollapsed": true,
    "tags": []
   },
   "source": [
    "### Goal Safety Factor and Debt Service Coverage Ratio ($\\gamma_2$ & $\\gamma_3$)"
   ]
  },
  {
   "cell_type": "code",
   "execution_count": 15,
   "id": "093b6b8b-8c39-4370-a210-74008afd2353",
   "metadata": {},
   "outputs": [],
   "source": [
    "γ_1 = copy(PHX_p[17][1])\n",
    "γ_2 = copy(PHX_p[17][2])\n",
    "γ_3 = copy(PHX_p[17][3])\n",
    "γ_2_range = collect(1:0.01:1.3);\n",
    "γ_3_range = collect(1.5:0.01:2.5)\n",
    "\n",
    "γ_range_2 = zeros(length(γ_2_range),3)\n",
    "γ_range_3 = zeros(length(γ_3_range),3)\n",
    "\n",
    "for i in 1:length(γ_2_range)\n",
    "    γ_range_2[i,:] = [γ_1 γ_2_range[i] γ_3]\n",
    "end\n",
    "\n",
    "for i in 1:length(γ_3_range)\n",
    "    γ_range_3[i,:] = [γ_1 γ_2 γ_3_range[i]]\n",
    "end\n",
    "\n",
    "p_ranges[13] = γ_range_2\n",
    "p_names[13] = \"Goal_l\"\n",
    "p_ranges_spec[13] = γ_2_range;\n",
    "\n",
    "p_ranges[21] = γ_range_3\n",
    "p_names[21] = \"DSCR\"\n",
    "p_ranges_spec[21] = γ_3_range;"
   ]
  },
  {
   "cell_type": "markdown",
   "id": "9a789936-87cb-49ac-87ae-15aa5eb3adf5",
   "metadata": {
    "jp-MarkdownHeadingCollapsed": true,
    "tags": []
   },
   "source": [
    "### Max Rate Increase Proportion ($\\psi_r$)"
   ]
  },
  {
   "cell_type": "code",
   "execution_count": 16,
   "id": "4e6098c3-e101-4baf-8900-2b439f7f09c8",
   "metadata": {},
   "outputs": [],
   "source": [
    "ψ_s = copy(PHX_p[18][1])\n",
    "ψ_r = copy(PHX_p[18][2])\n",
    "ψ_r_range = collect(0.01:0.01:0.5)\n",
    "ψ_range_r = zeros(length(ψ_r_range),2)\n",
    "\n",
    "for i in 1:length(ψ_r_range)\n",
    "    ψ_range_r[i,:] = [ψ_s ψ_r_range[i]]\n",
    "end\n",
    "\n",
    "p_ranges[15] = ψ_range_r\n",
    "p_names[15] = \"Choice_r\"\n",
    "p_ranges_spec[15] = ψ_r_range;"
   ]
  },
  {
   "cell_type": "markdown",
   "id": "23a00ab7-212e-48fc-995a-b6fc543797f8",
   "metadata": {
    "jp-MarkdownHeadingCollapsed": true,
    "tags": []
   },
   "source": [
    "### Background Conservation Rate ($\\delta_{\\bar{d}}$)"
   ]
  },
  {
   "cell_type": "code",
   "execution_count": 17,
   "id": "13bbc3ef-b9cf-4516-a721-71bf4322dafe",
   "metadata": {},
   "outputs": [],
   "source": [
    "δ_dbar_range = collect(0:0.00005:0.001);\n",
    "δ_d = copy(PHX_p[15][1])\n",
    "δ_v = copy(PHX_p[15][3])\n",
    "δ_η = copy(PHX_p[15][4])\n",
    "δ_w_s = copy(PHX_p[15][5])\n",
    "δ_w_g = copy(PHX_p[15][6])\n",
    "δ_range_dbar = zeros(length(δ_dbar_range),6)\n",
    "\n",
    "for i in 1:length(δ_dbar_range)\n",
    "    δ_range_dbar[i,:]=[δ_d δ_dbar_range[i] δ_v δ_η δ_w_s δ_w_g]\n",
    "end;\n",
    "\n",
    "p_ranges[16] = δ_range_dbar\n",
    "p_names[16] = \"Decay_dbar\"\n",
    "p_ranges_spec[16] = δ_dbar_range;"
   ]
  },
  {
   "cell_type": "markdown",
   "id": "f5edb918-8c24-4011-ab07-1300cc80af99",
   "metadata": {
    "jp-MarkdownHeadingCollapsed": true,
    "tags": []
   },
   "source": [
    "### Hard Infrastructure Decay Rate ($\\delta$)"
   ]
  },
  {
   "cell_type": "code",
   "execution_count": 18,
   "id": "58d3ad19-b4ed-4b78-949b-7596bf43bc88",
   "metadata": {},
   "outputs": [],
   "source": [
    "δ_range_hard = collect(0.025:0.005:0.075);\n",
    "\n",
    "δ_vbar = copy(PHX_p[15][4])\n",
    "δ_dbar = copy(PHX_p[15][2])\n",
    "δ_d = copy(PHX_p[15][1])\n",
    "\n",
    "δ_range = zeros(length(δ_range_hard),6)\n",
    "\n",
    "for i in 1:length(δ_range_hard)\n",
    "    δ_range[i,:] = [δ_d δ_dbar δ_range_hard[i] δ_vbar δ_range_hard[i] δ_range_hard[i]]\n",
    "end\n",
    "    \n",
    "p_ranges[17] = δ_range\n",
    "p_names[17] = \"Decay_hard\"\n",
    "p_ranges_spec[17] = δ_range_hard;"
   ]
  },
  {
   "cell_type": "markdown",
   "id": "5fe0c268-abd3-4753-a90b-07c55e6b4d88",
   "metadata": {
    "jp-MarkdownHeadingCollapsed": true,
    "tags": []
   },
   "source": [
    "### Time to Implementation ($\\tau^i$)"
   ]
  },
  {
   "cell_type": "code",
   "execution_count": 19,
   "id": "1cdf950a-a010-4d91-aff8-06bf51c30af6",
   "metadata": {},
   "outputs": [],
   "source": [
    "τ_i_range = collect(1:1:5);\n",
    "τ_i_def = copy(PHX_p[16])\n",
    "\n",
    "τ_range_i = zeros(length(τ_i_range),7)\n",
    "\n",
    "for i in 1:length(τ_i_range)\n",
    "    τ_range_i[i,:] = [τ_i_def[1] τ_i_range[i] τ_i_def[3] τ_i_range[i] τ_i_range[i] τ_i_def[6] τ_i_def[7]]\n",
    "end\n",
    "\n",
    "p_ranges[18] = τ_range_i\n",
    "p_names[18] = \"Impl_Time\"\n",
    "p_ranges_spec[18] = τ_i_range;"
   ]
  },
  {
   "cell_type": "markdown",
   "id": "2b9fb6eb-6559-4e5e-8617-3e23a9ee7801",
   "metadata": {
    "jp-MarkdownHeadingCollapsed": true,
    "tags": []
   },
   "source": [
    "### Proportion of Rates from Fixed Costs ($\\beta_p$)"
   ]
  },
  {
   "cell_type": "code",
   "execution_count": 20,
   "id": "05a9d926-d2b3-4333-afc9-7fcd40db0248",
   "metadata": {},
   "outputs": [],
   "source": [
    "β_p_range = collect(0:0.01:1)\n",
    "\n",
    "p_ranges[4] = β_p_range\n",
    "p_names[4] = \"FixedPropRates\"\n",
    "p_ranges_spec[4] = β_p_range;"
   ]
  },
  {
   "cell_type": "markdown",
   "id": "6d487a4c-42cb-4974-a00c-ee506e018560",
   "metadata": {
    "jp-MarkdownHeadingCollapsed": true,
    "tags": []
   },
   "source": [
    "### Short-Term Conservation Sensitivity ($\\alpha$)"
   ]
  },
  {
   "cell_type": "code",
   "execution_count": 21,
   "id": "3715b519-9c58-447d-860d-c6e0b8f16ccd",
   "metadata": {},
   "outputs": [],
   "source": [
    "α_range = collect(0.01:0.01:0.95);\n",
    "\n",
    "p_ranges[19] = α_range\n",
    "p_names[19] = \"Conserv_Sens\"\n",
    "p_ranges_spec[19] = α_range;"
   ]
  },
  {
   "cell_type": "markdown",
   "id": "6ad17a3b-ca0c-41e6-ba60-92824225239d",
   "metadata": {
    "jp-MarkdownHeadingCollapsed": true,
    "tags": []
   },
   "source": [
    "### Bond Length ($\\tau_b$)"
   ]
  },
  {
   "cell_type": "code",
   "execution_count": 22,
   "id": "d0188dda-47ec-4bcc-98bc-7ac003ca131e",
   "metadata": {},
   "outputs": [],
   "source": [
    "τ_b_range = collect(5:1:30)\n",
    "\n",
    "p_ranges[20] = τ_b_range\n",
    "p_names[20] = \"Bond_Time\"\n",
    "p_ranges_spec[20] = τ_b_range;"
   ]
  },
  {
   "cell_type": "markdown",
   "id": "23bf9c67-e2cf-438c-b26f-53573b9b2c7f",
   "metadata": {
    "jp-MarkdownHeadingCollapsed": true,
    "tags": []
   },
   "source": [
    "### Interest Rate ($i_b$)"
   ]
  },
  {
   "cell_type": "code",
   "execution_count": 23,
   "id": "cb3ed584-698e-402c-b674-a39b3ccdebf2",
   "metadata": {},
   "outputs": [],
   "source": [
    "i_b_range = collect(0:0.01:0.1)\n",
    "\n",
    "p_ranges[22] = i_b_range\n",
    "p_names[22] = \"IntRate\"\n",
    "p_ranges_spec[22] = i_b_range;"
   ]
  },
  {
   "cell_type": "markdown",
   "id": "7e137e50-094a-4871-a343-2d616423a06e",
   "metadata": {
    "jp-MarkdownHeadingCollapsed": true,
    "tags": []
   },
   "source": [
    "# 4. Run Sensitivity Analysis Experiments"
   ]
  },
  {
   "cell_type": "markdown",
   "id": "fc509337-cfaf-42df-b5a3-cfb69e195d71",
   "metadata": {
    "jp-MarkdownHeadingCollapsed": true,
    "tags": []
   },
   "source": [
    "## List of Sensitivity Analysis Runs"
   ]
  },
  {
   "cell_type": "code",
   "execution_count": 26,
   "id": "8425c1e0-2f92-4ed4-9a69-4ceee73fea9a",
   "metadata": {},
   "outputs": [
    {
     "name": "stdout",
     "output_type": "stream",
     "text": [
      "MagCAPShock-Goal_l run time: PHX Sc QC 2753.015856 seconds (79.46 G allocations: 1.418 TiB, 8.14% gc time, 0.12% compilation time: 12% of which was recompilation)\n"
     ]
    }
   ],
   "source": [
    "###### Globaal Parameters\n",
    "file_preamble = \"../results/raw/\"\n",
    "\n",
    "num_t = 50\n",
    "num_it = 1\n",
    "\n",
    "###### 1D Experiments - 30 minutes\n",
    "#1: Magnitude of Sudden CAP Shock\n",
    "#2: Max Rate Increase \n",
    "#3: Long-Term Safety Buffer Goal \n",
    "#4: IF_sens_s\n",
    "#5: IF_sens_l \n",
    "#6: IF_sens_r\n",
    "#7: IF_thresh_s\n",
    "#8: IF_thresh_l \n",
    "#9: IF_thresh_r \n",
    "#10: Background Conservation\n",
    "#11: Hard Infrastructure Decay\n",
    "#12: Implementation Time \n",
    "#13: Conservation Sensitivity \n",
    "#14: Goal Debt Service Ratio\n",
    "#15: Bond Life \n",
    "#16: Interest Rate\n",
    "#17: Projection Years\n",
    "#18: Fixed Proportion of Rates\n",
    "\n",
    "runs_1d_index = [25,18,17,20,20,20,21,21,21,15,15,16,30,17,31,32,29,36]\n",
    "runs_1d_matrix = [true,true,true,true,true,true,true,true,true,true,true,true,false,true,false,false,false,false]\n",
    "runs_1d_matrixindex = [2,2,2,1,2,3,1,2,3,2,3,2,nothing,3,nothing,nothing,nothing,nothing]\n",
    "runs_1d_saindex = [1,15,13,7,8,9,10,11,12,16,17,18,19,21,20,22,6,4]\n",
    "\n",
    "#for i in 1:length(runs_1d_index)\n",
    "#    print(p_names[runs_1d_saindex[i]]*\" run time: \")\n",
    "#    @time runSA(runs_1d_index[i],runs_1d_matrix[i],runs_1d_matrixindex[i],runs_1d_saindex[i],nothing,nothing,\n",
    "#        nothing,nothing,PMA_names,PMA_x0,PMA_p,file_preamble,num_t,num_it,false)\n",
    "#end\n",
    "\n",
    "###### 2D Experiments\n",
    "#Primary Sensitivity Analysis\n",
    "##1: Magnitude of CAP Shock vs. IF ST Invest Sensitivity \n",
    "##2: Magnitude of CAP Shock vs. IF LT Invest Sensitivity\n",
    "##3: Magnitude of CAP Shock vs. IF Rate Sensitivity \n",
    "##4: Magnitude of CAP Shock vs. IF ST Thresh\n",
    "##5: Magnitude of CAP Shock vs. IF LT Thresh \n",
    "##6: Magnitude of CAP Shock vs. IF Rate Thresh \n",
    "##7: Institutional Friction (ST) \n",
    "##8: Institutional Friction (Long-Term) \n",
    "##9: Institutional Friction (Rates) \n",
    "\n",
    "#Additional Sensitivity Analysis\n",
    "##10: Magnitude of CAP Shock vs. Infrastructure Decay\n",
    "##11: Magnitude of CAP Shock vs. Projection Years\n",
    "##12: Magnitude of CAP Shock vs. Implementation Years\n",
    "##13: Magnitude of CAP Shock vs. Bond Life\n",
    "##14: Magnitude of CAP Shock vs. Interest Rate\n",
    "##15: Magnitude of CAP Shock vs. Max Rate Increase\n",
    "##16: Magnitude of CAP Shock vs. Fixed Proportion of Rates\n",
    "##17: Magnitude of CAP Shock vs. DSCR\n",
    "##18: Magnitude of CAP Shock vs. Conservation Sensitivity\n",
    "##19: Magnitude of CAP Shock vs. Background Demand Decay\n",
    "##20: Magnitude of CAP Shock vs. Long-Term Safety Buffer Goal\n",
    "\n",
    "runs_2d_index_1 = [25,25,25,25,25,25,20,20,20,25,25,25,25,25,25,25,25,25,25,25]\n",
    "runs_2d_matrix_1 = [true,true,true,true,true,true,true,true,true,true,true,true,true,true,true,true,true,true,true,true]\n",
    "runs_2d_matrixindex_1 = [2,2,2,2,2,2,1,2,3,2,2,2,2,2,2,2,2,2,2,2]\n",
    "runs_2d_saindex_1 = [1,1,1,1,1,1,7,8,9,1,1,1,1,1,1,1,1,1,1,1]\n",
    "runs_2d_index_2 = [20,20,20,21,21,21,21,21,21,15,29,16,31,32,18,36,17,30,15,17]\n",
    "runs_2d_matrix_2 = [true,true,true,true,true,true,true,true,true,true,false,true,false,false,true,false,true,false,true,true]\n",
    "runs_2d_matrixindex_2 = [1,2,3,1,2,3,1,2,3,3,nothing,2,nothing,nothing,2,nothing,3,nothing,2,2]\n",
    "runs_2d_saindex_2 = [7,8,9,10,11,12,10,11,12,17,6,18,20,22,15,4,21,19,16,13];\n",
    "\n",
    "for i in 20:length(runs_2d_index_1)\n",
    "    print(p_names[runs_2d_saindex_1[i]]*\"-\"*p_names[runs_2d_saindex_2[i]]*\" run time: \")\n",
    "    @time runSA(runs_2d_index_1[i],runs_2d_matrix_1[i],runs_2d_matrixindex_1[i],runs_2d_saindex_1[i],runs_2d_index_2[i],\n",
    "        runs_2d_matrix_2[i],runs_2d_matrixindex_2[i],runs_2d_saindex_2[i],PMA_names,PMA_x0,PMA_p,file_preamble,num_t,num_it,false)\n",
    "end;"
   ]
  },
  {
   "cell_type": "markdown",
   "id": "3b0183f0-e72b-4273-a28b-96b134abe731",
   "metadata": {
    "jp-MarkdownHeadingCollapsed": true,
    "tags": []
   },
   "source": [
    "## Report Meta Information on Sensitivity Analysis"
   ]
  },
  {
   "cell_type": "markdown",
   "id": "bdf23995-0529-4aec-9991-ad482d0cce4a",
   "metadata": {
    "jp-MarkdownHeadingCollapsed": true,
    "tags": []
   },
   "source": [
    "### Load Results"
   ]
  },
  {
   "cell_type": "code",
   "execution_count": 57,
   "id": "8d5d68d4-76f9-481b-a4b9-0fcfea1e058b",
   "metadata": {},
   "outputs": [],
   "source": [
    "function load_rez(c,v,n_dim;file_preamble=\"../results/raw/\")\n",
    "    if(n_dim==1)\n",
    "        file_name = file_preamble*p_names[v]*\"_\"*PMA_names[c]*\"_rez\"\n",
    "    else\n",
    "        file_name = file_preamble*p_names[v[1]]*\"_\"*p_names[v[2]]*\"_\"*PMA_names[c]*\"_rez\"\n",
    "    end\n",
    "    \n",
    "    rez = load(file_name,\"single_stored_object\")\n",
    "    \n",
    "    return rez\n",
    "end;"
   ]
  },
  {
   "cell_type": "markdown",
   "id": "7e82ea27-c7f0-4241-9226-7f2e61ef977d",
   "metadata": {
    "jp-MarkdownHeadingCollapsed": true,
    "tags": []
   },
   "source": [
    "### Save Global Tables"
   ]
  },
  {
   "cell_type": "code",
   "execution_count": 1,
   "id": "6dc97d68-7331-4aa4-8e0a-2c9abbfbf6e7",
   "metadata": {},
   "outputs": [],
   "source": [
    "#This function records meta information on the sensitivity analysis, including city names, varied parameters names, and metrics recorded\n",
    "function write_p_info(num_t,num_it;p_names=p_names,p_ranges_spec=p_ranges_spec,file_preamble = \"../results/\")\n",
    "    p_names_file_name = file_preamble*\"p_names.csv\"\n",
    "    cities_file_name = file_preamble*\"cities.csv\"\n",
    "    metrics_file_name = file_preamble*\"metrics.csv\"\n",
    "    \n",
    "    p_names_cut=[]\n",
    "    for p in 1:length(p_names)\n",
    "        if(p_names[p]==nothing)\n",
    "            push!(p_names_cut,\"N/A\")\n",
    "        else\n",
    "            push!(p_names_cut,p_names[p])\n",
    "        end\n",
    "    end\n",
    "    \n",
    "    p_names_df = DataFrame(p=p_names_cut)\n",
    "    cities_df=DataFrame(City=PMA_names)\n",
    "    \n",
    "    \n",
    "    test=load_rez(1,1,1)\n",
    "    metrics = names(test)[2:end]\n",
    "    metrics_df = DataFrame(Metric=metrics)\n",
    "    \n",
    "    CSV.write(p_names_file_name, p_names_df)\n",
    "    CSV.write(cities_file_name, cities_df)\n",
    "    CSV.write(metrics_file_name, metrics_df)\n",
    "end;"
   ]
  },
  {
   "cell_type": "code",
   "execution_count": 30,
   "id": "05c43349-9e00-4b83-b94d-932f529605cf",
   "metadata": {},
   "outputs": [],
   "source": [
    "write_p_info(50,1)"
   ]
  },
  {
   "cell_type": "code",
   "execution_count": null,
   "id": "c165a6e6-f2e3-4682-a6fa-3fe8edaeacff",
   "metadata": {},
   "outputs": [],
   "source": []
  }
 ],
 "metadata": {
  "kernelspec": {
   "display_name": "Julia 1.8.4",
   "language": "julia",
   "name": "julia-1.8"
  },
  "language_info": {
   "file_extension": ".jl",
   "mimetype": "application/julia",
   "name": "julia",
   "version": "1.8.4"
  }
 },
 "nbformat": 4,
 "nbformat_minor": 5
}
